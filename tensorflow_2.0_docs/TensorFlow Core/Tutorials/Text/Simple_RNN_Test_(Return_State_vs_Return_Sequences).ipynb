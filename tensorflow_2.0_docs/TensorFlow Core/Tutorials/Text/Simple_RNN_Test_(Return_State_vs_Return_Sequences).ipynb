{
  "nbformat": 4,
  "nbformat_minor": 0,
  "metadata": {
    "colab": {
      "name": "Simple RNN Test (Return State vs Return Sequences).ipynb",
      "provenance": [],
      "collapsed_sections": [],
      "authorship_tag": "ABX9TyNpU2OnnlAo9mhAV9CCPiis",
      "include_colab_link": true
    },
    "kernelspec": {
      "name": "python3",
      "display_name": "Python 3"
    },
    "accelerator": "GPU"
  },
  "cells": [
    {
      "cell_type": "markdown",
      "metadata": {
        "id": "view-in-github",
        "colab_type": "text"
      },
      "source": [
        "<a href=\"https://colab.research.google.com/github/sourcecode369/TensorFlow-2.0/blob/master/tensorflow_2.0_docs/TensorFlow%20Core/Tutorials/Text/Simple_RNN_Test_(Return_State_vs_Return_Sequences).ipynb\" target=\"_parent\"><img src=\"https://colab.research.google.com/assets/colab-badge.svg\" alt=\"Open In Colab\"/></a>"
      ]
    },
    {
      "cell_type": "code",
      "metadata": {
        "id": "62Fy2Eq75v0L",
        "colab_type": "code",
        "colab": {}
      },
      "source": [
        "from __future__ import print_function, division\n",
        "from builtins import range, input\n",
        "\n",
        "from keras.models import Model\n",
        "from keras.layers import Input, LSTM, GRU, RNN\n",
        "import numpy as np\n",
        "import matplotlib.pyplot as plt\n",
        "%matplotlib inline\n",
        "\n",
        "T = 8\n",
        "D = 2\n",
        "M = 3"
      ],
      "execution_count": 0,
      "outputs": []
    },
    {
      "cell_type": "code",
      "metadata": {
        "id": "y4PXtF8t6E0p",
        "colab_type": "code",
        "colab": {}
      },
      "source": [
        "X = np.random.randn(1,T, D)\n",
        "def lstm1():\n",
        "  input_ = Input(shape=(T, D))\n",
        "  rnn = LSTM(M, return_state=True)\n",
        "  x = rnn(input_)\n",
        "  model = Model(inputs=input_, outputs=x)\n",
        "  o, h, c = model.predict(X)\n",
        "  print(\"o:\",o)\n",
        "  print(\"h:\",h)\n",
        "  print(\"c:\",c)\n",
        "\n",
        "def lstm2():\n",
        "  input_ = Input(shape=(T, D))\n",
        "  rnn = LSTM(M, return_state=True,return_sequences=True)\n",
        "  x = rnn(input_)\n",
        "\n",
        "  model = Model(inputs=input_, outputs=x)\n",
        "  o, h, c = model.predict(X)\n",
        "  print(\"o:\",o)\n",
        "  print(\"h:\",h)\n",
        "  print(\"c:\",c)"
      ],
      "execution_count": 0,
      "outputs": []
    },
    {
      "cell_type": "code",
      "metadata": {
        "id": "snXcGm-k7AnF",
        "colab_type": "code",
        "colab": {}
      },
      "source": [
        "def gru1():\n",
        "  input_ = Input(shape=(T,D))\n",
        "  rnn = GRU(M, return_state=True)\n",
        "  x = rnn(input_)\n",
        "  model = Model(inputs=input_, outputs=x)\n",
        "  o, h = model.predict(X)\n",
        "  print(\"o:\",o)\n",
        "  print(\"h:\",h)\n",
        "\n",
        "def gru2():\n",
        "  input_ = Input(shape=(T,D))\n",
        "  rnn = GRU(M, return_state=True, return_sequences=True)\n",
        "  x = rnn(input_)\n",
        "\n",
        "  model = Model(inputs=input_, outputs=x)\n",
        "  o, h = model.predict(X)\n",
        "  print(\"o:\",o)\n",
        "  print(\"h:\",h)"
      ],
      "execution_count": 0,
      "outputs": []
    },
    {
      "cell_type": "code",
      "metadata": {
        "id": "NjnXD1MS7UPQ",
        "colab_type": "code",
        "colab": {
          "base_uri": "https://localhost:8080/",
          "height": 514
        },
        "outputId": "ce276214-5f99-47ee-ab7c-10b3529129da"
      },
      "source": [
        "print(\"lstm1:\")\n",
        "lstm1()\n",
        "\n",
        "print(\"lstm2:\")\n",
        "lstm2()\n",
        "\n",
        "print(\"gru1:\")\n",
        "gru1()\n",
        "\n",
        "print(\"gru2:\")\n",
        "gru2()"
      ],
      "execution_count": 12,
      "outputs": [
        {
          "output_type": "stream",
          "text": [
            "lstm1:\n",
            "o: [[0.04405436 0.19382982 0.09365804]]\n",
            "h: [[0.04405436 0.19382982 0.09365804]]\n",
            "c: [[0.07515235 0.74266243 0.2020666 ]]\n",
            "lstm2:\n",
            "o: [[[-0.13985486  0.10550682 -0.09445278]\n",
            "  [-0.10432478 -0.27001908 -0.00554497]\n",
            "  [-0.08823357 -0.29882026  0.02738047]\n",
            "  [-0.00888742 -0.27147183  0.08124414]\n",
            "  [-0.0464495  -0.15506767  0.01873142]\n",
            "  [ 0.0823176  -0.07812153  0.0788352 ]\n",
            "  [ 0.17786328  0.02429481  0.08474788]\n",
            "  [ 0.19463679 -0.14741603  0.18657811]]]\n",
            "h: [[ 0.19463679 -0.14741603  0.18657811]]\n",
            "c: [[ 0.45711023 -0.33413443  0.36481676]]\n",
            "gru1:\n",
            "o: [[-0.04083507 -0.62333137 -0.669806  ]]\n",
            "h: [[-0.04083507 -0.62333137 -0.669806  ]]\n",
            "gru2:\n",
            "o: [[[-0.00711141 -0.32353368 -0.2206695 ]\n",
            "  [-0.21819714 -0.14739999 -0.46059692]\n",
            "  [-0.22654344 -0.08817856 -0.48051834]\n",
            "  [-0.18662423  0.01923173 -0.15814897]\n",
            "  [-0.10439495 -0.14305443 -0.19330898]\n",
            "  [-0.02846893  0.07500637  0.4005316 ]\n",
            "  [ 0.11978745  0.22520865  0.6934356 ]\n",
            "  [ 0.15229619  0.3807733   0.37033397]]]\n",
            "h: [[0.15229619 0.3807733  0.37033397]]\n"
          ],
          "name": "stdout"
        }
      ]
    },
    {
      "cell_type": "markdown",
      "metadata": {
        "id": "3ItHViet73Ll",
        "colab_type": "text"
      },
      "source": [
        "## LSTM (Long Short Term Memory)\n",
        "\n",
        "#### 1. Return State\n",
        "\n",
        "For the first LSTM i.e. LSTM 1 the output is the same as the hidden state\n",
        "\n",
        "    lstm1:\n",
        "    o: [[0.04405436 0.19382982 0.09365804]]\n",
        "    h: [[0.04405436 0.19382982 0.09365804]]\n",
        "    c: [[0.07515235 0.74266243 0.2020666 ]]\n",
        "\n",
        "#### 2. Return Sequences\n",
        "\n",
        "For the second LSTM i.e. LSTM 2 the output is longer i.e. 8*3 since the length of the sequence is 8. However the last values of the output state is the same as hidden state.\n",
        "\n",
        "    lstm2:\n",
        "    o: [[[-0.13985486  0.10550682 -0.09445278]\n",
        "      [-0.10432478 -0.27001908 -0.00554497]\n",
        "      [-0.08823357 -0.29882026  0.02738047]\n",
        "      [-0.00888742 -0.27147183  0.08124414]\n",
        "      [-0.0464495  -0.15506767  0.01873142]\n",
        "      [ 0.0823176  -0.07812153  0.0788352 ]\n",
        "      [ 0.17786328  0.02429481  0.08474788]\n",
        "      [ 0.19463679 -0.14741603  0.18657811]]]\n",
        "    h: [[ 0.19463679 -0.14741603  0.18657811]]\n",
        "    c: [[ 0.45711023 -0.33413443  0.36481676]]\n",
        "\n",
        "Thus we can conclude that H and C are the same. In other words, H and C are the hidden state and the cell state of the final time step of the input in an LSTM.\n",
        "\n",
        "\n"
      ]
    },
    {
      "cell_type": "markdown",
      "metadata": {
        "id": "JhlEuhDp8zB5",
        "colab_type": "text"
      },
      "source": [
        "## GRU (Gated Recurrent Unit)\n",
        "\n",
        "Similarly goes for the GRU. Only there is no cell state gate in an GRU.|"
      ]
    }
  ]
}