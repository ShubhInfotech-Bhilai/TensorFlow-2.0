{
  "nbformat": 4,
  "nbformat_minor": 0,
  "metadata": {
    "colab": {
      "name": "Question Answering System.ipynb",
      "provenance": [],
      "authorship_tag": "ABX9TyPXObh0i2xDE0WPyHFVbLhF",
      "include_colab_link": true
    },
    "kernelspec": {
      "name": "python3",
      "display_name": "Python 3"
    },
    "accelerator": "GPU"
  },
  "cells": [
    {
      "cell_type": "markdown",
      "metadata": {
        "id": "view-in-github",
        "colab_type": "text"
      },
      "source": [
        "<a href=\"https://colab.research.google.com/github/sourcecode369/TensorFlow-2.0/blob/master/tensorflow_2.0_docs/TensorFlow%20Core/Tutorials/Text/Question%20Answering/Question_Answering_System.ipynb\" target=\"_parent\"><img src=\"https://colab.research.google.com/assets/colab-badge.svg\" alt=\"Open In Colab\"/></a>"
      ]
    },
    {
      "cell_type": "code",
      "metadata": {
        "id": "GJOgQd123G9r",
        "colab_type": "code",
        "colab": {}
      },
      "source": [
        "import pickle\n",
        "import numpy as np\n",
        "#%tensorflow_version 2.x"
      ],
      "execution_count": 0,
      "outputs": []
    },
    {
      "cell_type": "code",
      "metadata": {
        "id": "cYNzX28C33Ut",
        "colab_type": "code",
        "colab": {
          "base_uri": "https://localhost:8080/",
          "height": 35
        },
        "outputId": "899c9040-3dc3-4b6a-cbf2-2601ad667b27"
      },
      "source": [
        "try:\n",
        "  print('Uploading in progress...')\n",
        "  with open('train_qa.txt','rb') as f:\n",
        "    train_data = pickle.load(f)\n",
        "  with open('test_qa.txt','rb') as f:\n",
        "    test_data = pickle.load(f)\n",
        "except Exception as ex:\n",
        "  print(ex)"
      ],
      "execution_count": 3,
      "outputs": [
        {
          "output_type": "stream",
          "text": [
            "Uploading in progress...\n"
          ],
          "name": "stdout"
        }
      ]
    },
    {
      "cell_type": "code",
      "metadata": {
        "id": "Qf9cc0OK44-U",
        "colab_type": "code",
        "colab": {
          "base_uri": "https://localhost:8080/",
          "height": 35
        },
        "outputId": "71cff20e-23e4-4937-d6e9-141689793f42"
      },
      "source": [
        "train_data.__len__()"
      ],
      "execution_count": 4,
      "outputs": [
        {
          "output_type": "execute_result",
          "data": {
            "text/plain": [
              "10000"
            ]
          },
          "metadata": {
            "tags": []
          },
          "execution_count": 4
        }
      ]
    },
    {
      "cell_type": "code",
      "metadata": {
        "id": "E3mW-A_m5lkK",
        "colab_type": "code",
        "colab": {
          "base_uri": "https://localhost:8080/",
          "height": 35
        },
        "outputId": "005bd8ee-fb35-477b-d829-c40b8b474dea"
      },
      "source": [
        "' '.join(train_data[0][0])"
      ],
      "execution_count": 5,
      "outputs": [
        {
          "output_type": "execute_result",
          "data": {
            "text/plain": [
              "'Mary moved to the bathroom . Sandra journeyed to the bedroom .'"
            ]
          },
          "metadata": {
            "tags": []
          },
          "execution_count": 5
        }
      ]
    },
    {
      "cell_type": "code",
      "metadata": {
        "id": "WdvhIyK15rib",
        "colab_type": "code",
        "colab": {}
      },
      "source": [
        "all_data = test_data + train_data"
      ],
      "execution_count": 0,
      "outputs": []
    },
    {
      "cell_type": "code",
      "metadata": {
        "id": "04Axr7az5uSd",
        "colab_type": "code",
        "colab": {
          "base_uri": "https://localhost:8080/",
          "height": 35
        },
        "outputId": "0e9c284e-76d1-4425-b7f7-849370d74743"
      },
      "source": [
        "len(all_data)"
      ],
      "execution_count": 7,
      "outputs": [
        {
          "output_type": "execute_result",
          "data": {
            "text/plain": [
              "11000"
            ]
          },
          "metadata": {
            "tags": []
          },
          "execution_count": 7
        }
      ]
    },
    {
      "cell_type": "code",
      "metadata": {
        "id": "1urTOJlr6Dmx",
        "colab_type": "code",
        "colab": {}
      },
      "source": [
        "vocab = set()\n",
        "\n",
        "for story, question, answer in all_data:\n",
        "  vocab = vocab.union(set(story))\n",
        "  vocab = vocab.union(set(question))"
      ],
      "execution_count": 0,
      "outputs": []
    },
    {
      "cell_type": "code",
      "metadata": {
        "id": "Djmx_73V68oM",
        "colab_type": "code",
        "colab": {}
      },
      "source": [
        "vocab.add('yes')\n",
        "vocab.add('no')"
      ],
      "execution_count": 0,
      "outputs": []
    },
    {
      "cell_type": "code",
      "metadata": {
        "id": "x4axugkW69s4",
        "colab_type": "code",
        "colab": {}
      },
      "source": [
        "vocab_len = len(vocab) + 1"
      ],
      "execution_count": 0,
      "outputs": []
    },
    {
      "cell_type": "code",
      "metadata": {
        "id": "4CK2Fdrv7Gu-",
        "colab_type": "code",
        "colab": {}
      },
      "source": [
        "max_story_len = max([len(data[0]) for data in all_data])"
      ],
      "execution_count": 0,
      "outputs": []
    },
    {
      "cell_type": "code",
      "metadata": {
        "id": "jFigvG8X7jxX",
        "colab_type": "code",
        "colab": {}
      },
      "source": [
        "max_question_len = max([len(data[1]) for data in all_data])"
      ],
      "execution_count": 0,
      "outputs": []
    },
    {
      "cell_type": "code",
      "metadata": {
        "id": "6kiBlg8V79Df",
        "colab_type": "code",
        "colab": {
          "base_uri": "https://localhost:8080/",
          "height": 35
        },
        "outputId": "d9c5ff21-b6e3-40bb-e70f-787ef0b014b3"
      },
      "source": [
        "max_question_len"
      ],
      "execution_count": 13,
      "outputs": [
        {
          "output_type": "execute_result",
          "data": {
            "text/plain": [
              "6"
            ]
          },
          "metadata": {
            "tags": []
          },
          "execution_count": 13
        }
      ]
    },
    {
      "cell_type": "code",
      "metadata": {
        "id": "C39zcWMf8Egb",
        "colab_type": "code",
        "colab": {
          "base_uri": "https://localhost:8080/",
          "height": 35
        },
        "outputId": "a5a4b0de-f6a9-4cc7-ce22-4064de03429a"
      },
      "source": [
        "max_story_len"
      ],
      "execution_count": 14,
      "outputs": [
        {
          "output_type": "execute_result",
          "data": {
            "text/plain": [
              "156"
            ]
          },
          "metadata": {
            "tags": []
          },
          "execution_count": 14
        }
      ]
    },
    {
      "cell_type": "code",
      "metadata": {
        "id": "vFwjdBXL8HPr",
        "colab_type": "code",
        "colab": {
          "base_uri": "https://localhost:8080/",
          "height": 83
        },
        "outputId": "61700125-b08c-4906-bfce-7c2de4a70a54"
      },
      "source": [
        "from keras.preprocessing.sequence import pad_sequences\n",
        "from keras.preprocessing.text import Tokenizer "
      ],
      "execution_count": 15,
      "outputs": [
        {
          "output_type": "stream",
          "text": [
            "Using TensorFlow backend.\n"
          ],
          "name": "stderr"
        },
        {
          "output_type": "display_data",
          "data": {
            "text/html": [
              "<p style=\"color: red;\">\n",
              "The default version of TensorFlow in Colab will soon switch to TensorFlow 2.x.<br>\n",
              "We recommend you <a href=\"https://www.tensorflow.org/guide/migrate\" target=\"_blank\">upgrade</a> now \n",
              "or ensure your notebook will continue to use TensorFlow 1.x via the <code>%tensorflow_version 1.x</code> magic:\n",
              "<a href=\"https://colab.research.google.com/notebooks/tensorflow_version.ipynb\" target=\"_blank\">more info</a>.</p>\n"
            ],
            "text/plain": [
              "<IPython.core.display.HTML object>"
            ]
          },
          "metadata": {
            "tags": []
          }
        }
      ]
    },
    {
      "cell_type": "code",
      "metadata": {
        "id": "7UzJrbuR8Rho",
        "colab_type": "code",
        "colab": {}
      },
      "source": [
        "tokenizer = Tokenizer(filters=[])\n",
        "tokenizer.fit_on_texts(vocab)"
      ],
      "execution_count": 0,
      "outputs": []
    },
    {
      "cell_type": "code",
      "metadata": {
        "id": "ar24O2SK8bsi",
        "colab_type": "code",
        "colab": {
          "base_uri": "https://localhost:8080/",
          "height": 690
        },
        "outputId": "5555b08b-d54c-45ba-9d6d-3cb9b1b800e6"
      },
      "source": [
        "tokenizer.word_index"
      ],
      "execution_count": 17,
      "outputs": [
        {
          "output_type": "execute_result",
          "data": {
            "text/plain": [
              "{'.': 22,\n",
              " '?': 28,\n",
              " 'apple': 31,\n",
              " 'back': 21,\n",
              " 'bathroom': 13,\n",
              " 'bedroom': 33,\n",
              " 'daniel': 15,\n",
              " 'discarded': 32,\n",
              " 'down': 36,\n",
              " 'dropped': 20,\n",
              " 'football': 8,\n",
              " 'garden': 27,\n",
              " 'got': 16,\n",
              " 'grabbed': 34,\n",
              " 'hallway': 26,\n",
              " 'in': 37,\n",
              " 'is': 14,\n",
              " 'john': 4,\n",
              " 'journeyed': 10,\n",
              " 'kitchen': 1,\n",
              " 'left': 7,\n",
              " 'mary': 18,\n",
              " 'milk': 25,\n",
              " 'moved': 11,\n",
              " 'no': 2,\n",
              " 'office': 24,\n",
              " 'picked': 19,\n",
              " 'put': 17,\n",
              " 'sandra': 6,\n",
              " 'the': 12,\n",
              " 'there': 23,\n",
              " 'to': 9,\n",
              " 'took': 5,\n",
              " 'travelled': 3,\n",
              " 'up': 35,\n",
              " 'went': 30,\n",
              " 'yes': 29}"
            ]
          },
          "metadata": {
            "tags": []
          },
          "execution_count": 17
        }
      ]
    },
    {
      "cell_type": "code",
      "metadata": {
        "id": "gJJQkbpP8dP1",
        "colab_type": "code",
        "colab": {}
      },
      "source": [
        "train_story_text = []\n",
        "train_question_text = []\n",
        "train_answers = []"
      ],
      "execution_count": 0,
      "outputs": []
    },
    {
      "cell_type": "code",
      "metadata": {
        "id": "V9d2JL9X8tiU",
        "colab_type": "code",
        "colab": {}
      },
      "source": [
        "for story, question, answer in train_data:\n",
        "  train_story_text.append(story)\n",
        "  train_question_text.append(question)\n",
        "  train_answers.append(answer)"
      ],
      "execution_count": 0,
      "outputs": []
    },
    {
      "cell_type": "code",
      "metadata": {
        "id": "FFgMSuiF82SZ",
        "colab_type": "code",
        "colab": {}
      },
      "source": [
        "train_story_seq = tokenizer.texts_to_sequences(train_story_text)"
      ],
      "execution_count": 0,
      "outputs": []
    },
    {
      "cell_type": "code",
      "metadata": {
        "id": "uMGja6RW9C6u",
        "colab_type": "code",
        "colab": {}
      },
      "source": [
        "def vectorize_stories(data, word_index=tokenizer.word_index, max_story_len=max_story_len, max_question_len=max_question_len):\n",
        "  # stories\n",
        "  X = []\n",
        "  # questions\n",
        "  Xq = []\n",
        "  # Y CORRECT ANSWER\n",
        "  Y = []\n",
        "\n",
        "  for story, query, answer in data:\n",
        "    # for each story\n",
        "    # [23,14,...]\n",
        "    x = [word_index[word.lower()] for word in story]\n",
        "    xq = [word_index[word.lower()] for word in query]\n",
        "\n",
        "    y = np.zeros(len(word_index)+1)\n",
        "    y[word_index[answer]] = 1\n",
        "    X.append(x)\n",
        "    Xq.append(xq)\n",
        "    Y.append(y)\n",
        "  return (pad_sequences(X,maxlen=max_story_len),pad_sequences(Xq,maxlen=max_question_len), np.array(Y))"
      ],
      "execution_count": 0,
      "outputs": []
    },
    {
      "cell_type": "code",
      "metadata": {
        "id": "PigtFhOj9qLn",
        "colab_type": "code",
        "colab": {}
      },
      "source": [
        "inputs_train, queries_train, answers_train = vectorize_stories(train_data)\n",
        "inputs_test, queries_test, answers_test = vectorize_stories(test_data)"
      ],
      "execution_count": 0,
      "outputs": []
    },
    {
      "cell_type": "code",
      "metadata": {
        "id": "KtKv2z95__G9",
        "colab_type": "code",
        "colab": {
          "base_uri": "https://localhost:8080/",
          "height": 54
        },
        "outputId": "3fb41fba-e02d-46c9-e079-a9d9ccc7bc61"
      },
      "source": [
        "print(tokenizer.word_index['yes'])\n",
        "print(tokenizer.word_index['no'])"
      ],
      "execution_count": 37,
      "outputs": [
        {
          "output_type": "stream",
          "text": [
            "29\n",
            "2\n"
          ],
          "name": "stdout"
        }
      ]
    },
    {
      "cell_type": "code",
      "metadata": {
        "id": "5pboheWtAFHw",
        "colab_type": "code",
        "colab": {}
      },
      "source": [
        "from keras.models import Sequential, Model\n",
        "from keras.layers import Embedding\n",
        "from keras.layers import Input, Activation, Dense, Dropout, Permute, concatenate, LSTM, add, dot, BatchNormalization"
      ],
      "execution_count": 0,
      "outputs": []
    },
    {
      "cell_type": "code",
      "metadata": {
        "id": "j0XVYQ5iAvt5",
        "colab_type": "code",
        "colab": {}
      },
      "source": [
        "input_sequence = Input(shape=(max_story_len,))\n",
        "question = Input(shape=(max_question_len,))"
      ],
      "execution_count": 0,
      "outputs": []
    },
    {
      "cell_type": "code",
      "metadata": {
        "id": "39wLYiJ1BIfM",
        "colab_type": "code",
        "colab": {}
      },
      "source": [
        "vocab_size = len(vocab) + 1"
      ],
      "execution_count": 0,
      "outputs": []
    },
    {
      "cell_type": "code",
      "metadata": {
        "id": "Oku_mzs7hp5D",
        "colab_type": "code",
        "colab": {}
      },
      "source": [
        "# INPUT ENCODER M\n",
        "input_encoder_m = Sequential()\n",
        "input_encoder_m.add(Embedding(input_dim=vocab_size, output_dim=64))\n",
        "input_encoder_m.add(Dropout(0.3))"
      ],
      "execution_count": 0,
      "outputs": []
    },
    {
      "cell_type": "code",
      "metadata": {
        "id": "b6zSDcloiH3V",
        "colab_type": "code",
        "colab": {}
      },
      "source": [
        "# INPUT ENCODER C\n",
        "input_encoder_c = Sequential()\n",
        "input_encoder_c.add(Embedding(input_dim=vocab_size, output_dim=max_question_len))\n",
        "input_encoder_c.add(Dropout(0.3))"
      ],
      "execution_count": 0,
      "outputs": []
    },
    {
      "cell_type": "code",
      "metadata": {
        "id": "Kv-VDJeOifXt",
        "colab_type": "code",
        "colab": {}
      },
      "source": [
        "# INPUT ENCODER C\n",
        "question_encoder = Sequential()\n",
        "question_encoder.add(Embedding(input_dim=vocab_size, output_dim=64, input_length=max_question_len))\n",
        "question_encoder.add(Dropout(0.3))"
      ],
      "execution_count": 0,
      "outputs": []
    },
    {
      "cell_type": "code",
      "metadata": {
        "id": "oL1enM1njAf2",
        "colab_type": "code",
        "colab": {}
      },
      "source": [
        "input_encoded_m = input_encoder_m(input_sequence)\n",
        "input_encoded_c = input_encoder_c(input_sequence)\n",
        "question_encoded = question_encoder(question)"
      ],
      "execution_count": 0,
      "outputs": []
    },
    {
      "cell_type": "code",
      "metadata": {
        "id": "HEXOXoZtjgzN",
        "colab_type": "code",
        "colab": {}
      },
      "source": [
        "match = dot([input_encoded_m,question_encoded], axes=(2,2))\n",
        "match = Activation('softmax')(match)\n",
        "\n",
        "response = add([match, input_encoded_c])\n",
        "response = Permute((2,1))(response)\n",
        "\n",
        "answer = concatenate([response, question_encoded])"
      ],
      "execution_count": 0,
      "outputs": []
    },
    {
      "cell_type": "code",
      "metadata": {
        "id": "Dgck-Dl55Fxl",
        "colab_type": "code",
        "colab": {}
      },
      "source": [
        "answer = LSTM(128,return_sequences=True)(answer)\n",
        "answer = Dropout(0.5)(answer)\n",
        "answer = LSTM(64)(answer)\n",
        "answer = Dropout(0.5)(answer)\n",
        "answer = Dense(vocab_size)(answer)\n",
        "answer = Activation('softmax')(answer)\n",
        "\n",
        "model = Model([input_sequence,question],answer)"
      ],
      "execution_count": 0,
      "outputs": []
    },
    {
      "cell_type": "code",
      "metadata": {
        "id": "e3c1ZSyz5Glp",
        "colab_type": "code",
        "colab": {}
      },
      "source": [
        "model.compile(optimizer='rmsprop',loss='categorical_crossentropy',metrics=['accuracy'])"
      ],
      "execution_count": 0,
      "outputs": []
    },
    {
      "cell_type": "code",
      "metadata": {
        "id": "8tsMx0hh5h5N",
        "colab_type": "code",
        "colab": {
          "base_uri": "https://localhost:8080/",
          "height": 799
        },
        "outputId": "2aae8878-676d-4748-d672-f3d38de1f199"
      },
      "source": [
        "model.summary()"
      ],
      "execution_count": 64,
      "outputs": [
        {
          "output_type": "stream",
          "text": [
            "Model: \"model_3\"\n",
            "__________________________________________________________________________________________________\n",
            "Layer (type)                    Output Shape         Param #     Connected to                     \n",
            "==================================================================================================\n",
            "input_5 (InputLayer)            (None, 156)          0                                            \n",
            "__________________________________________________________________________________________________\n",
            "input_6 (InputLayer)            (None, 6)            0                                            \n",
            "__________________________________________________________________________________________________\n",
            "sequential_4 (Sequential)       multiple             2432        input_5[0][0]                    \n",
            "__________________________________________________________________________________________________\n",
            "sequential_7 (Sequential)       (None, 6, 64)        2432        input_6[0][0]                    \n",
            "__________________________________________________________________________________________________\n",
            "dot_3 (Dot)                     (None, 156, 6)       0           sequential_4[2][0]               \n",
            "                                                                 sequential_7[1][0]               \n",
            "__________________________________________________________________________________________________\n",
            "activation_5 (Activation)       (None, 156, 6)       0           dot_3[0][0]                      \n",
            "__________________________________________________________________________________________________\n",
            "sequential_5 (Sequential)       multiple             228         input_5[0][0]                    \n",
            "__________________________________________________________________________________________________\n",
            "add_3 (Add)                     (None, 156, 6)       0           activation_5[0][0]               \n",
            "                                                                 sequential_5[2][0]               \n",
            "__________________________________________________________________________________________________\n",
            "permute_3 (Permute)             (None, 6, 156)       0           add_3[0][0]                      \n",
            "__________________________________________________________________________________________________\n",
            "concatenate_3 (Concatenate)     (None, 6, 220)       0           permute_3[0][0]                  \n",
            "                                                                 sequential_7[1][0]               \n",
            "__________________________________________________________________________________________________\n",
            "lstm_6 (LSTM)                   (None, 6, 128)       178688      concatenate_3[0][0]              \n",
            "__________________________________________________________________________________________________\n",
            "dropout_10 (Dropout)            (None, 6, 128)       0           lstm_6[0][0]                     \n",
            "__________________________________________________________________________________________________\n",
            "lstm_7 (LSTM)                   (None, 64)           49408       dropout_10[0][0]                 \n",
            "__________________________________________________________________________________________________\n",
            "dropout_11 (Dropout)            (None, 64)           0           lstm_7[0][0]                     \n",
            "__________________________________________________________________________________________________\n",
            "dense_3 (Dense)                 (None, 38)           2470        dropout_11[0][0]                 \n",
            "__________________________________________________________________________________________________\n",
            "activation_6 (Activation)       (None, 38)           0           dense_3[0][0]                    \n",
            "==================================================================================================\n",
            "Total params: 235,658\n",
            "Trainable params: 235,658\n",
            "Non-trainable params: 0\n",
            "__________________________________________________________________________________________________\n"
          ],
          "name": "stdout"
        }
      ]
    },
    {
      "cell_type": "code",
      "metadata": {
        "id": "YGXtNE845i1v",
        "colab_type": "code",
        "colab": {
          "base_uri": "https://localhost:8080/",
          "height": 1000
        },
        "outputId": "073dbe89-fb2c-42f6-dd0f-b1ee3352c9e4"
      },
      "source": [
        "import keras\n",
        "keras.utils.plot_model(model)"
      ],
      "execution_count": 65,
      "outputs": [
        {
          "output_type": "execute_result",
          "data": {
            "image/png": "[encoded data removed]",
            "text/plain": [
              "<IPython.core.display.Image object>"
            ]
          },
          "metadata": {
            "tags": []
          },
          "execution_count": 65
        }
      ]
    },
    {
      "cell_type": "code",
      "metadata": {
        "id": "YnkLKsba6HpF",
        "colab_type": "code",
        "colab": {
          "base_uri": "https://localhost:8080/",
          "height": 1000
        },
        "outputId": "bbe88d4b-2051-4e65-d6ae-47a6abe7ce4a"
      },
      "source": [
        "history = model.fit([inputs_train, queries_train], answers_train, batch_size=32, epochs=200,validation_data=([inputs_test,queries_test], answers_test),callbacks=[keras.callbacks.EarlyStopping(monitor='val_loss',patience=20)])"
      ],
      "execution_count": 67,
      "outputs": [
        {
          "output_type": "stream",
          "text": [
            "Train on 10000 samples, validate on 1000 samples\n",
            "Epoch 1/200\n",
            "10000/10000 [==============================] - 7s 725us/step - loss: 0.6949 - acc: 0.4974 - val_loss: 0.6945 - val_acc: 0.5030\n",
            "Epoch 2/200\n",
            "10000/10000 [==============================] - 7s 723us/step - loss: 0.6945 - acc: 0.5006 - val_loss: 0.6933 - val_acc: 0.4970\n",
            "Epoch 3/200\n",
            "10000/10000 [==============================] - 7s 722us/step - loss: 0.6951 - acc: 0.4935 - val_loss: 0.6945 - val_acc: 0.4970\n",
            "Epoch 4/200\n",
            "10000/10000 [==============================] - 7s 717us/step - loss: 0.6946 - acc: 0.4922 - val_loss: 0.6946 - val_acc: 0.4970\n",
            "Epoch 5/200\n",
            "10000/10000 [==============================] - 7s 722us/step - loss: 0.6945 - acc: 0.5006 - val_loss: 0.6937 - val_acc: 0.4970\n",
            "Epoch 6/200\n",
            "10000/10000 [==============================] - 7s 722us/step - loss: 0.6950 - acc: 0.4977 - val_loss: 0.6931 - val_acc: 0.5030\n",
            "Epoch 7/200\n",
            "10000/10000 [==============================] - 7s 741us/step - loss: 0.6946 - acc: 0.5044 - val_loss: 0.6932 - val_acc: 0.4900\n",
            "Epoch 8/200\n",
            "10000/10000 [==============================] - 7s 719us/step - loss: 0.6943 - acc: 0.4995 - val_loss: 0.6952 - val_acc: 0.4970\n",
            "Epoch 9/200\n",
            "10000/10000 [==============================] - 7s 713us/step - loss: 0.6946 - acc: 0.4927 - val_loss: 0.6949 - val_acc: 0.4970\n",
            "Epoch 10/200\n",
            "10000/10000 [==============================] - 7s 720us/step - loss: 0.6944 - acc: 0.5054 - val_loss: 0.6917 - val_acc: 0.4700\n",
            "Epoch 11/200\n",
            "10000/10000 [==============================] - 7s 720us/step - loss: 0.6850 - acc: 0.5294 - val_loss: 0.6662 - val_acc: 0.5600\n",
            "Epoch 12/200\n",
            "10000/10000 [==============================] - 7s 724us/step - loss: 0.6643 - acc: 0.5584 - val_loss: 0.6437 - val_acc: 0.5710\n",
            "Epoch 13/200\n",
            "10000/10000 [==============================] - 7s 721us/step - loss: 0.6522 - acc: 0.5765 - val_loss: 0.6314 - val_acc: 0.6210\n",
            "Epoch 14/200\n",
            "10000/10000 [==============================] - 7s 719us/step - loss: 0.6429 - acc: 0.6051 - val_loss: 0.6320 - val_acc: 0.5910\n",
            "Epoch 15/200\n",
            "10000/10000 [==============================] - 7s 721us/step - loss: 0.6248 - acc: 0.6337 - val_loss: 0.6214 - val_acc: 0.6500\n",
            "Epoch 16/200\n",
            "10000/10000 [==============================] - 7s 719us/step - loss: 0.6124 - acc: 0.6519 - val_loss: 0.6016 - val_acc: 0.6680\n",
            "Epoch 17/200\n",
            "10000/10000 [==============================] - 7s 717us/step - loss: 0.6074 - acc: 0.6531 - val_loss: 0.6046 - val_acc: 0.6680\n",
            "Epoch 18/200\n",
            "10000/10000 [==============================] - 7s 720us/step - loss: 0.6037 - acc: 0.6651 - val_loss: 0.5949 - val_acc: 0.6560\n",
            "Epoch 19/200\n",
            "10000/10000 [==============================] - 7s 721us/step - loss: 0.5935 - acc: 0.6769 - val_loss: 0.6012 - val_acc: 0.6790\n",
            "Epoch 20/200\n",
            "10000/10000 [==============================] - 7s 724us/step - loss: 0.5767 - acc: 0.6951 - val_loss: 0.5611 - val_acc: 0.7240\n",
            "Epoch 21/200\n",
            "10000/10000 [==============================] - 7s 719us/step - loss: 0.5613 - acc: 0.7113 - val_loss: 0.5493 - val_acc: 0.7410\n",
            "Epoch 22/200\n",
            "10000/10000 [==============================] - 7s 723us/step - loss: 0.5345 - acc: 0.7353 - val_loss: 0.5012 - val_acc: 0.7750\n",
            "Epoch 23/200\n",
            "10000/10000 [==============================] - 7s 738us/step - loss: 0.5086 - acc: 0.7542 - val_loss: 0.4989 - val_acc: 0.7700\n",
            "Epoch 24/200\n",
            "10000/10000 [==============================] - 7s 725us/step - loss: 0.4835 - acc: 0.7789 - val_loss: 0.4676 - val_acc: 0.7960\n",
            "Epoch 25/200\n",
            "10000/10000 [==============================] - 7s 719us/step - loss: 0.4685 - acc: 0.7925 - val_loss: 0.4600 - val_acc: 0.7870\n",
            "Epoch 26/200\n",
            "10000/10000 [==============================] - 7s 722us/step - loss: 0.4428 - acc: 0.8059 - val_loss: 0.4438 - val_acc: 0.8120\n",
            "Epoch 27/200\n",
            "10000/10000 [==============================] - 7s 741us/step - loss: 0.4239 - acc: 0.8156 - val_loss: 0.4185 - val_acc: 0.8140\n",
            "Epoch 28/200\n",
            "10000/10000 [==============================] - 7s 726us/step - loss: 0.3967 - acc: 0.8308 - val_loss: 0.4100 - val_acc: 0.8210\n",
            "Epoch 29/200\n",
            "10000/10000 [==============================] - 7s 724us/step - loss: 0.3826 - acc: 0.8348 - val_loss: 0.4163 - val_acc: 0.8190\n",
            "Epoch 30/200\n",
            "10000/10000 [==============================] - 7s 719us/step - loss: 0.3732 - acc: 0.8387 - val_loss: 0.3981 - val_acc: 0.8150\n",
            "Epoch 31/200\n",
            "10000/10000 [==============================] - 7s 720us/step - loss: 0.3544 - acc: 0.8452 - val_loss: 0.3661 - val_acc: 0.8360\n",
            "Epoch 32/200\n",
            "10000/10000 [==============================] - 7s 724us/step - loss: 0.3414 - acc: 0.8504 - val_loss: 0.3837 - val_acc: 0.8280\n",
            "Epoch 33/200\n",
            "10000/10000 [==============================] - 7s 723us/step - loss: 0.3306 - acc: 0.8576 - val_loss: 0.3645 - val_acc: 0.8370\n",
            "Epoch 34/200\n",
            "10000/10000 [==============================] - 7s 725us/step - loss: 0.3216 - acc: 0.8591 - val_loss: 0.3774 - val_acc: 0.8200\n",
            "Epoch 35/200\n",
            "10000/10000 [==============================] - 7s 722us/step - loss: 0.3197 - acc: 0.8605 - val_loss: 0.3780 - val_acc: 0.8390\n",
            "Epoch 36/200\n",
            "10000/10000 [==============================] - 7s 714us/step - loss: 0.3125 - acc: 0.8603 - val_loss: 0.4035 - val_acc: 0.8190\n",
            "Epoch 37/200\n",
            "10000/10000 [==============================] - 7s 723us/step - loss: 0.3101 - acc: 0.8640 - val_loss: 0.3883 - val_acc: 0.8380\n",
            "Epoch 38/200\n",
            "10000/10000 [==============================] - 7s 717us/step - loss: 0.3088 - acc: 0.8636 - val_loss: 0.3871 - val_acc: 0.8220\n",
            "Epoch 39/200\n",
            "10000/10000 [==============================] - 7s 722us/step - loss: 0.3010 - acc: 0.8661 - val_loss: 0.3622 - val_acc: 0.8320\n",
            "Epoch 40/200\n",
            "10000/10000 [==============================] - 7s 714us/step - loss: 0.3033 - acc: 0.8639 - val_loss: 0.3757 - val_acc: 0.8320\n",
            "Epoch 41/200\n",
            "10000/10000 [==============================] - 7s 726us/step - loss: 0.3024 - acc: 0.8682 - val_loss: 0.4437 - val_acc: 0.8290\n",
            "Epoch 42/200\n",
            "10000/10000 [==============================] - 7s 715us/step - loss: 0.2964 - acc: 0.8673 - val_loss: 0.3975 - val_acc: 0.8310\n",
            "Epoch 43/200\n",
            "10000/10000 [==============================] - 7s 716us/step - loss: 0.2944 - acc: 0.8765 - val_loss: 0.3784 - val_acc: 0.8280\n",
            "Epoch 44/200\n",
            "10000/10000 [==============================] - 7s 714us/step - loss: 0.2860 - acc: 0.8754 - val_loss: 0.4026 - val_acc: 0.8330\n",
            "Epoch 45/200\n",
            "10000/10000 [==============================] - 7s 725us/step - loss: 0.2829 - acc: 0.8735 - val_loss: 0.4200 - val_acc: 0.8240\n",
            "Epoch 46/200\n",
            "10000/10000 [==============================] - 7s 722us/step - loss: 0.2821 - acc: 0.8774 - val_loss: 0.4147 - val_acc: 0.8330\n",
            "Epoch 47/200\n",
            "10000/10000 [==============================] - 7s 714us/step - loss: 0.2816 - acc: 0.8750 - val_loss: 0.4029 - val_acc: 0.8350\n",
            "Epoch 48/200\n",
            "10000/10000 [==============================] - 7s 720us/step - loss: 0.2792 - acc: 0.8783 - val_loss: 0.4179 - val_acc: 0.8390\n",
            "Epoch 49/200\n",
            "10000/10000 [==============================] - 7s 727us/step - loss: 0.2756 - acc: 0.8785 - val_loss: 0.3984 - val_acc: 0.8350\n",
            "Epoch 50/200\n",
            "10000/10000 [==============================] - 7s 723us/step - loss: 0.2755 - acc: 0.8780 - val_loss: 0.4093 - val_acc: 0.8350\n",
            "Epoch 51/200\n",
            "10000/10000 [==============================] - 7s 722us/step - loss: 0.2750 - acc: 0.8805 - val_loss: 0.4170 - val_acc: 0.8330\n",
            "Epoch 52/200\n",
            "10000/10000 [==============================] - 7s 716us/step - loss: 0.2711 - acc: 0.8821 - val_loss: 0.4322 - val_acc: 0.8420\n",
            "Epoch 53/200\n",
            "10000/10000 [==============================] - 7s 717us/step - loss: 0.2686 - acc: 0.8800 - val_loss: 0.4185 - val_acc: 0.8380\n",
            "Epoch 54/200\n",
            "10000/10000 [==============================] - 7s 719us/step - loss: 0.2620 - acc: 0.8858 - val_loss: 0.4126 - val_acc: 0.8340\n",
            "Epoch 55/200\n",
            "10000/10000 [==============================] - 7s 718us/step - loss: 0.2598 - acc: 0.8846 - val_loss: 0.3951 - val_acc: 0.8260\n",
            "Epoch 56/200\n",
            "10000/10000 [==============================] - 7s 728us/step - loss: 0.2548 - acc: 0.8860 - val_loss: 0.4327 - val_acc: 0.8300\n",
            "Epoch 57/200\n",
            "10000/10000 [==============================] - 7s 731us/step - loss: 0.2553 - acc: 0.8879 - val_loss: 0.4054 - val_acc: 0.8430\n",
            "Epoch 58/200\n",
            "10000/10000 [==============================] - 7s 720us/step - loss: 0.2484 - acc: 0.8897 - val_loss: 0.4414 - val_acc: 0.8330\n",
            "Epoch 59/200\n",
            "10000/10000 [==============================] - 7s 716us/step - loss: 0.2534 - acc: 0.8913 - val_loss: 0.4460 - val_acc: 0.8390\n"
          ],
          "name": "stdout"
        }
      ]
    },
    {
      "cell_type": "code",
      "metadata": {
        "id": "ioWBcjjx6x3V",
        "colab_type": "code",
        "colab": {
          "base_uri": "https://localhost:8080/",
          "height": 313
        },
        "outputId": "9cbcf6f9-145e-49ab-9b86-0c57a95c446f"
      },
      "source": [
        "import matplotlib.pyplot as plt\n",
        "%matplotlib inline\n",
        "print(history.history.keys())\n",
        "plt.plot(history.history['acc'])\n",
        "plt.plot(history.history['val_acc'])\n",
        "plt.title('model accuracy')\n",
        "plt.ylabel('accuracy')\n",
        "plt.xlabel('epoch')\n",
        "plt.legend(['train','test'],loc = 'upper left')\n",
        "plt.show()"
      ],
      "execution_count": 68,
      "outputs": [
        {
          "output_type": "stream",
          "text": [
            "dict_keys(['val_loss', 'val_acc', 'loss', 'acc'])\n"
          ],
          "name": "stdout"
        },
        {
          "output_type": "display_data",
          "data": {
            "image/png": "[encoded data removed]",
            "text/plain": [
              "<Figure size 432x288 with 1 Axes>"
            ]
          },
          "metadata": {
            "tags": []
          }
        }
      ]
    },
    {
      "cell_type": "code",
      "metadata": {
        "id": "PIbv6H-bBX0o",
        "colab_type": "code",
        "colab": {}
      },
      "source": [
        "model.save('chatbot.h5')"
      ],
      "execution_count": 0,
      "outputs": []
    },
    {
      "cell_type": "code",
      "metadata": {
        "id": "GGZLLex_Bb6e",
        "colab_type": "code",
        "colab": {}
      },
      "source": [
        "pred_results = model.predict(([inputs_test,queries_test]))"
      ],
      "execution_count": 0,
      "outputs": []
    },
    {
      "cell_type": "code",
      "metadata": {
        "id": "gV5NmQIcBdsf",
        "colab_type": "code",
        "colab": {
          "base_uri": "https://localhost:8080/",
          "height": 199
        },
        "outputId": "3c5cf19b-153b-4904-800a-a017dbc5e2be"
      },
      "source": [
        "pred_results[0]"
      ],
      "execution_count": 71,
      "outputs": [
        {
          "output_type": "execute_result",
          "data": {
            "text/plain": [
              "array([1.2570566e-18, 9.3914240e-19, 9.9844801e-01, 1.1034019e-18,\n",
              "       7.0218406e-19, 6.4692669e-19, 6.1237633e-19, 1.2212519e-18,\n",
              "       1.0305061e-18, 7.0288892e-19, 9.8016622e-19, 6.1915777e-19,\n",
              "       1.0466623e-18, 9.1403375e-19, 6.1810291e-19, 6.8157780e-19,\n",
              "       6.5062413e-19, 5.4148510e-19, 5.6316922e-19, 7.7777777e-19,\n",
              "       6.5122999e-19, 1.0354316e-18, 6.6014436e-19, 1.0125075e-18,\n",
              "       7.4919242e-19, 9.5040478e-19, 9.1094961e-19, 9.1702670e-19,\n",
              "       8.0014406e-19, 1.5519150e-03, 1.1336907e-18, 6.3752904e-19,\n",
              "       7.8216348e-19, 6.2916490e-19, 8.9739811e-19, 1.0061737e-18,\n",
              "       9.7870159e-19, 7.7939951e-19], dtype=float32)"
            ]
          },
          "metadata": {
            "tags": []
          },
          "execution_count": 71
        }
      ]
    },
    {
      "cell_type": "code",
      "metadata": {
        "id": "QgEv05APBf_4",
        "colab_type": "code",
        "colab": {}
      },
      "source": [
        "val_max = np.argmax(pred_results[0])"
      ],
      "execution_count": 0,
      "outputs": []
    },
    {
      "cell_type": "code",
      "metadata": {
        "id": "_BtcdEnyBkj_",
        "colab_type": "code",
        "colab": {}
      },
      "source": [
        "for key,val in tokenizer.word_index.items():\n",
        "  if val == val_max:\n",
        "    k = key"
      ],
      "execution_count": 0,
      "outputs": []
    },
    {
      "cell_type": "code",
      "metadata": {
        "id": "AVG5uKuoBq-c",
        "colab_type": "code",
        "colab": {}
      },
      "source": [
        "my_story = \"John left the kitchen . Sandra dropped the football in the garden .\"\n",
        "my_story.split()\n",
        "\n",
        "my_question = \"Is the football in the garden ?\"\n",
        "my_question.split()\n",
        "\n",
        "mydata = [(my_story.split(),my_question.split(),'yes')]\n",
        "\n",
        "my_story, my_ques, my_ans = vectorize_stories(mydata)\n",
        "\n",
        "pred_result = model.predict(([my_story, my_ques]))\n",
        "val_max = np.argmax(pred_result[0])"
      ],
      "execution_count": 0,
      "outputs": []
    },
    {
      "cell_type": "code",
      "metadata": {
        "id": "qk4S0EfmCXfl",
        "colab_type": "code",
        "colab": {
          "base_uri": "https://localhost:8080/",
          "height": 35
        },
        "outputId": "74208554-a434-462c-bc16-788d29c1d565"
      },
      "source": [
        "for key, val in tokenizer.word_index.items():\n",
        "  if val == val_max:\n",
        "    k = key\n",
        "print(k)"
      ],
      "execution_count": 83,
      "outputs": [
        {
          "output_type": "stream",
          "text": [
            "yes\n"
          ],
          "name": "stdout"
        }
      ]
    }
  ]
}