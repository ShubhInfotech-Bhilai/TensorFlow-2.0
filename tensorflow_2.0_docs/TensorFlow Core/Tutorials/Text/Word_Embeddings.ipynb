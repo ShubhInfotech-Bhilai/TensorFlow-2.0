{
  "nbformat": 4,
  "nbformat_minor": 0,
  "metadata": {
    "colab": {
      "name": "Word Embeddings.ipynb",
      "provenance": [],
      "include_colab_link": true
    },
    "kernelspec": {
      "name": "python3",
      "display_name": "Python 3"
    },
    "accelerator": "GPU"
  },
  "cells": [
    {
      "cell_type": "markdown",
      "metadata": {
        "id": "view-in-github",
        "colab_type": "text"
      },
      "source": [
        "<a href=\"https://colab.research.google.com/github/sourcecode369/TensorFlow-2.0/blob/master/tensorflow_2.0_docs/TensorFlow%20Core/Tutorials/Text/Word_Embeddings.ipynb\" target=\"_parent\"><img src=\"https://colab.research.google.com/assets/colab-badge.svg\" alt=\"Open In Colab\"/></a>"
      ]
    },
    {
      "cell_type": "code",
      "metadata": {
        "id": "DejQE_KcrIqa",
        "colab_type": "code",
        "outputId": "65f77efc-a657-46ec-e06d-8543df68911a",
        "colab": {
          "base_uri": "https://localhost:8080/",
          "height": 34
        }
      },
      "source": [
        "from __future__ import absolute_import, print_function, unicode_literals, division\n",
        "%tensorflow_version 2.x\n",
        "import tensorflow as tf\n",
        "from tensorflow import keras\n",
        "from tensorflow.keras import layers \n",
        "import tensorflow_datasets as tfds\n",
        "tfds.disable_progress_bar()"
      ],
      "execution_count": 1,
      "outputs": [
        {
          "output_type": "stream",
          "text": [
            "TensorFlow 2.x selected.\n"
          ],
          "name": "stdout"
        }
      ]
    },
    {
      "cell_type": "code",
      "metadata": {
        "id": "VlvtTj1Or6EU",
        "colab_type": "code",
        "outputId": "64f0ddb4-1146-4336-b7e8-b53edf019f9c",
        "colab": {
          "base_uri": "https://localhost:8080/",
          "height": 214
        }
      },
      "source": [
        "(train_data, test_data), info = tfds.load('imdb_reviews/subwords8k', split=(tfds.Split.TRAIN, tfds.Split.TEST), with_info=True, as_supervised=True)"
      ],
      "execution_count": 2,
      "outputs": [
        {
          "output_type": "stream",
          "text": [
            "\u001b[1mDownloading and preparing dataset imdb_reviews (80.23 MiB) to /root/tensorflow_datasets/imdb_reviews/subwords8k/0.1.0...\u001b[0m\n",
            "WARNING:tensorflow:From /usr/local/lib/python3.6/dist-packages/tensorflow_datasets/core/file_format_adapter.py:209: tf_record_iterator (from tensorflow.python.lib.io.tf_record) is deprecated and will be removed in a future version.\n",
            "Instructions for updating:\n",
            "Use eager execution and: \n",
            "`tf.data.TFRecordDataset(path)`\n"
          ],
          "name": "stdout"
        },
        {
          "output_type": "stream",
          "text": [
            "WARNING:tensorflow:From /usr/local/lib/python3.6/dist-packages/tensorflow_datasets/core/file_format_adapter.py:209: tf_record_iterator (from tensorflow.python.lib.io.tf_record) is deprecated and will be removed in a future version.\n",
            "Instructions for updating:\n",
            "Use eager execution and: \n",
            "`tf.data.TFRecordDataset(path)`\n"
          ],
          "name": "stderr"
        },
        {
          "output_type": "stream",
          "text": [
            "\u001b[1mDataset imdb_reviews downloaded and prepared to /root/tensorflow_datasets/imdb_reviews/subwords8k/0.1.0. Subsequent calls will reuse this data.\u001b[0m\n"
          ],
          "name": "stdout"
        }
      ]
    },
    {
      "cell_type": "code",
      "metadata": {
        "id": "Xmm1WYTCsSCx",
        "colab_type": "code",
        "outputId": "236351fc-baf8-4d7c-8dc4-192eaa184f7b",
        "colab": {
          "base_uri": "https://localhost:8080/",
          "height": 372
        }
      },
      "source": [
        "encoder = info.features['text'].encoder\n",
        "encoder.subwords[:20]"
      ],
      "execution_count": 3,
      "outputs": [
        {
          "output_type": "execute_result",
          "data": {
            "text/plain": [
              "['the_',\n",
              " ', ',\n",
              " '. ',\n",
              " 'a_',\n",
              " 'and_',\n",
              " 'of_',\n",
              " 'to_',\n",
              " 's_',\n",
              " 'is_',\n",
              " 'br',\n",
              " 'in_',\n",
              " 'I_',\n",
              " 'that_',\n",
              " 'this_',\n",
              " 'it_',\n",
              " ' /><',\n",
              " ' />',\n",
              " 'was_',\n",
              " 'The_',\n",
              " 'as_']"
            ]
          },
          "metadata": {
            "tags": []
          },
          "execution_count": 3
        }
      ]
    },
    {
      "cell_type": "code",
      "metadata": {
        "id": "kv3Be58gswA_",
        "colab_type": "code",
        "colab": {}
      },
      "source": [
        "padded_shapes = ([None], ())\n",
        "train_batches = train_data.shuffle(1000).padded_batch(10, padded_shapes=padded_shapes)\n",
        "test_batches = test_data.shuffle(1000).padded_batch(10, padded_shapes=padded_shapes)"
      ],
      "execution_count": 0,
      "outputs": []
    },
    {
      "cell_type": "code",
      "metadata": {
        "id": "TidCSsdjtb3Y",
        "colab_type": "code",
        "outputId": "0bd66e2e-2188-4400-9118-245efaa8c436",
        "colab": {
          "base_uri": "https://localhost:8080/",
          "height": 158
        }
      },
      "source": [
        "train_batch, train_labels = next(iter(train_batches))\n",
        "train_batch"
      ],
      "execution_count": 5,
      "outputs": [
        {
          "output_type": "execute_result",
          "data": {
            "text/plain": [
              "<tf.Tensor: id=140, shape=(10, 695), dtype=int64, numpy=\n",
              "array([[2829, 1319,    4, ...,    0,    0,    0],\n",
              "       [  12,   81,  110, ...,    0,    0,    0],\n",
              "       [  12,  284,   14, ...,    0,    0,    0],\n",
              "       ...,\n",
              "       [2442, 1971, 1365, ...,    0,    0,    0],\n",
              "       [7916,  124,    2, ...,    0,    0,    0],\n",
              "       [ 133,  771,    5, ...,    0,    0,    0]])>"
            ]
          },
          "metadata": {
            "tags": []
          },
          "execution_count": 5
        }
      ]
    },
    {
      "cell_type": "code",
      "metadata": {
        "id": "cFiYceZMtuhF",
        "colab_type": "code",
        "outputId": "8813bb6d-84b4-45e9-8831-f76abad0b858",
        "colab": {
          "base_uri": "https://localhost:8080/",
          "height": 301
        }
      },
      "source": [
        "embedding_dim=16\n",
        "\n",
        "model = keras.Sequential([\n",
        "  layers.Embedding(encoder.vocab_size, embedding_dim),\n",
        "  layers.GlobalAveragePooling1D(),\n",
        "  layers.Dense(16, activation='relu'),\n",
        "  layers.Dense(1, activation='sigmoid')\n",
        "])\n",
        "\n",
        "model.summary()"
      ],
      "execution_count": 6,
      "outputs": [
        {
          "output_type": "stream",
          "text": [
            "Model: \"sequential\"\n",
            "_________________________________________________________________\n",
            "Layer (type)                 Output Shape              Param #   \n",
            "=================================================================\n",
            "embedding (Embedding)        (None, None, 16)          130960    \n",
            "_________________________________________________________________\n",
            "global_average_pooling1d (Gl (None, 16)                0         \n",
            "_________________________________________________________________\n",
            "dense (Dense)                (None, 16)                272       \n",
            "_________________________________________________________________\n",
            "dense_1 (Dense)              (None, 1)                 17        \n",
            "=================================================================\n",
            "Total params: 131,249\n",
            "Trainable params: 131,249\n",
            "Non-trainable params: 0\n",
            "_________________________________________________________________\n"
          ],
          "name": "stdout"
        }
      ]
    },
    {
      "cell_type": "code",
      "metadata": {
        "id": "QCJmV4YyuR40",
        "colab_type": "code",
        "outputId": "acb7002c-26b0-45b2-8529-3cc585689ed9",
        "colab": {
          "base_uri": "https://localhost:8080/",
          "height": 727
        }
      },
      "source": [
        "model.compile(optimizer=\"adam\", loss='binary_crossentropy', metrics=[\"accuracy\"])\n",
        "history = model.fit(train_batches, epochs=20, validation_data=test_batches, validation_steps=20)"
      ],
      "execution_count": 7,
      "outputs": [
        {
          "output_type": "stream",
          "text": [
            "Epoch 1/20\n",
            "2500/2500 [==============================] - 34s 14ms/step - loss: 0.5224 - accuracy: 0.7450 - val_loss: 0.0000e+00 - val_accuracy: 0.0000e+00\n",
            "Epoch 2/20\n",
            "2500/2500 [==============================] - 24s 10ms/step - loss: 0.2857 - accuracy: 0.8932 - val_loss: 0.2767 - val_accuracy: 0.8700\n",
            "Epoch 3/20\n",
            "2500/2500 [==============================] - 24s 10ms/step - loss: 0.2325 - accuracy: 0.9173 - val_loss: 0.3256 - val_accuracy: 0.8700\n",
            "Epoch 4/20\n",
            "2500/2500 [==============================] - 25s 10ms/step - loss: 0.2016 - accuracy: 0.9298 - val_loss: 0.3772 - val_accuracy: 0.8550\n",
            "Epoch 5/20\n",
            "2500/2500 [==============================] - 24s 10ms/step - loss: 0.1791 - accuracy: 0.9388 - val_loss: 0.3340 - val_accuracy: 0.8850\n",
            "Epoch 6/20\n",
            "2500/2500 [==============================] - 24s 10ms/step - loss: 0.1615 - accuracy: 0.9443 - val_loss: 0.2431 - val_accuracy: 0.9000\n",
            "Epoch 7/20\n",
            "2500/2500 [==============================] - 24s 10ms/step - loss: 0.1447 - accuracy: 0.9517 - val_loss: 0.4231 - val_accuracy: 0.8650\n",
            "Epoch 8/20\n",
            "2500/2500 [==============================] - 24s 10ms/step - loss: 0.1331 - accuracy: 0.9550 - val_loss: 0.2771 - val_accuracy: 0.8900\n",
            "Epoch 9/20\n",
            "2500/2500 [==============================] - 24s 10ms/step - loss: 0.1224 - accuracy: 0.9608 - val_loss: 0.4048 - val_accuracy: 0.8550\n",
            "Epoch 10/20\n",
            "2500/2500 [==============================] - 24s 10ms/step - loss: 0.1129 - accuracy: 0.9641 - val_loss: 0.5539 - val_accuracy: 0.8450\n",
            "Epoch 11/20\n",
            "2500/2500 [==============================] - 24s 10ms/step - loss: 0.1025 - accuracy: 0.9683 - val_loss: 0.3148 - val_accuracy: 0.8900\n",
            "Epoch 12/20\n",
            "2500/2500 [==============================] - 24s 10ms/step - loss: 0.0949 - accuracy: 0.9704 - val_loss: 0.5424 - val_accuracy: 0.8350\n",
            "Epoch 13/20\n",
            "2500/2500 [==============================] - 24s 10ms/step - loss: 0.0890 - accuracy: 0.9728 - val_loss: 0.5491 - val_accuracy: 0.9000\n",
            "Epoch 14/20\n",
            "2500/2500 [==============================] - 24s 10ms/step - loss: 0.0821 - accuracy: 0.9759 - val_loss: 0.5603 - val_accuracy: 0.8500\n",
            "Epoch 15/20\n",
            "2500/2500 [==============================] - 24s 10ms/step - loss: 0.0790 - accuracy: 0.9766 - val_loss: 0.4338 - val_accuracy: 0.8900\n",
            "Epoch 16/20\n",
            "2500/2500 [==============================] - 24s 10ms/step - loss: 0.0743 - accuracy: 0.9780 - val_loss: 0.8358 - val_accuracy: 0.8650\n",
            "Epoch 17/20\n",
            "2500/2500 [==============================] - 24s 10ms/step - loss: 0.0675 - accuracy: 0.9814 - val_loss: 0.5785 - val_accuracy: 0.8800\n",
            "Epoch 18/20\n",
            "2500/2500 [==============================] - 25s 10ms/step - loss: 0.0645 - accuracy: 0.9812 - val_loss: 0.8288 - val_accuracy: 0.8350\n",
            "Epoch 19/20\n",
            "2500/2500 [==============================] - 25s 10ms/step - loss: 0.0602 - accuracy: 0.9825 - val_loss: 0.6558 - val_accuracy: 0.8400\n",
            "Epoch 20/20\n",
            "2500/2500 [==============================] - 25s 10ms/step - loss: 0.0624 - accuracy: 0.9808 - val_loss: 1.0303 - val_accuracy: 0.8600\n"
          ],
          "name": "stdout"
        }
      ]
    },
    {
      "cell_type": "code",
      "metadata": {
        "id": "DLVQOkYTux6l",
        "colab_type": "code",
        "colab": {
          "base_uri": "https://localhost:8080/",
          "height": 1000
        },
        "outputId": "bab4ff78-6b41-465e-cc11-294349665462"
      },
      "source": [
        "import matplotlib.pyplot as plt\n",
        "\n",
        "history_dict = history.history\n",
        "\n",
        "acc = history_dict['accuracy']\n",
        "val_acc = history_dict['val_accuracy']\n",
        "loss = history_dict['loss']\n",
        "val_loss = history_dict['val_loss']\n",
        "\n",
        "epochs = range(1, len(acc) + 1)\n",
        "\n",
        "plt.figure(figsize=(12,9))\n",
        "plt.plot(epochs, loss, 'bo', label='Training loss')\n",
        "plt.plot(epochs, val_loss, 'b', label='Validation loss')\n",
        "plt.title('Training and validation loss')\n",
        "plt.xlabel('Epochs')\n",
        "plt.ylabel('Loss')\n",
        "plt.legend()\n",
        "plt.show()\n",
        "\n",
        "plt.figure(figsize=(12,9))\n",
        "plt.plot(epochs, acc, 'bo', label='Training acc')\n",
        "plt.plot(epochs, val_acc, 'b', label='Validation acc')\n",
        "plt.title('Training and validation accuracy')\n",
        "plt.xlabel('Epochs')\n",
        "plt.ylabel('Accuracy')\n",
        "plt.legend(loc='lower right')\n",
        "plt.ylim((0.5,1))\n",
        "plt.show()"
      ],
      "execution_count": 8,
      "outputs": [
        {
          "output_type": "display_data",
          "data": {
            "image/png": "[encoded data removed]",
            "text/plain": [
              "<Figure size 864x648 with 1 Axes>"
            ]
          },
          "metadata": {
            "tags": []
          }
        },
        {
          "output_type": "display_data",
          "data": {
            "image/png": "[encoded data removed]",
            "text/plain": [
              "<Figure size 864x648 with 1 Axes>"
            ]
          },
          "metadata": {
            "tags": []
          }
        }
      ]
    },
    {
      "cell_type": "code",
      "metadata": {
        "id": "Go6d7wVxnUp_",
        "colab_type": "code",
        "colab": {
          "base_uri": "https://localhost:8080/",
          "height": 34
        },
        "outputId": "1f0b2bd7-f575-4d60-e13e-54f604ebd4bf"
      },
      "source": [
        "e = model.layers[0]\n",
        "weights = e.get_weights()[0]\n",
        "print(weights.shape) # shape: (vocab_size, embedding_dim)"
      ],
      "execution_count": 9,
      "outputs": [
        {
          "output_type": "stream",
          "text": [
            "(8185, 16)\n"
          ],
          "name": "stdout"
        }
      ]
    },
    {
      "cell_type": "code",
      "metadata": {
        "id": "TRzHyZ3Dna9W",
        "colab_type": "code",
        "colab": {}
      },
      "source": [
        "import io\n",
        "\n",
        "encoder = info.features['text'].encoder\n",
        "\n",
        "out_v = io.open('vecs.tsv', 'w', encoding='utf-8')\n",
        "out_m = io.open('meta.tsv', 'w', encoding='utf-8')\n",
        "\n",
        "for num, word in enumerate(encoder.subwords):\n",
        "  vec = weights[num+1] # skip 0, it's padding.\n",
        "  out_m.write(word + \"\\n\")\n",
        "  out_v.write('\\t'.join([str(x) for x in vec]) + \"\\n\")\n",
        "out_v.close()\n",
        "out_m.close()"
      ],
      "execution_count": 0,
      "outputs": []
    },
    {
      "cell_type": "code",
      "metadata": {
        "id": "8ws43gW7ndO2",
        "colab_type": "code",
        "colab": {}
      },
      "source": [
        "try:\n",
        "  from google.colab import files\n",
        "except ImportError:\n",
        "   pass\n",
        "else:\n",
        "  files.download('vecs.tsv')\n",
        "  files.download('meta.tsv')"
      ],
      "execution_count": 0,
      "outputs": []
    },
    {
      "cell_type": "code",
      "metadata": {
        "id": "eDAVD5Zonf33",
        "colab_type": "code",
        "colab": {}
      },
      "source": [
        ""
      ],
      "execution_count": 0,
      "outputs": []
    }
  ]
}