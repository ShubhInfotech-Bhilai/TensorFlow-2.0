{
  "nbformat": 4,
  "nbformat_minor": 0,
  "metadata": {
    "colab": {
      "name": "Structure_Data_Notebook1_Classify structured data with feature columns.ipynb",
      "provenance": [],
      "collapsed_sections": [],
      "include_colab_link": true
    },
    "kernelspec": {
      "name": "python3",
      "display_name": "Python 3"
    },
    "accelerator": "GPU"
  },
  "cells": [
    {
      "cell_type": "markdown",
      "metadata": {
        "id": "view-in-github",
        "colab_type": "text"
      },
      "source": [
        "<a href=\"https://colab.research.google.com/github/sourcecode369/TensorFlow-2.0/blob/master/tensorflow_2.0_docs/TensorFlow%20Core/Tutorials/Structured%20Data/Feature%20Columns/Notebook1_Classify_structured_data_with_feature_columns.ipynb\" target=\"_parent\"><img src=\"https://colab.research.google.com/assets/colab-badge.svg\" alt=\"Open In Colab\"/></a>"
      ]
    },
    {
      "cell_type": "markdown",
      "metadata": {
        "id": "gHzTdqAeuPiO",
        "colab_type": "text"
      },
      "source": [
        "### Insatll TensorFlow 2.x"
      ]
    },
    {
      "cell_type": "code",
      "metadata": {
        "id": "rVdQVPS8bzRT",
        "colab_type": "code",
        "outputId": "76bdc462-83d9-4e38-8f54-976ece28f4c7",
        "colab": {
          "base_uri": "https://localhost:8080/",
          "height": 768
        }
      },
      "source": [
        "# !pip install --upgrade tensorflow"
      ],
      "execution_count": 0,
      "outputs": [
        {
          "output_type": "stream",
          "text": [
            "Collecting tensorflow\n",
            "\u001b[?25l  Downloading https://files.pythonhosted.org/packages/46/0f/7bd55361168bb32796b360ad15a25de6966c9c1beb58a8e30c01c8279862/tensorflow-2.0.0-cp36-cp36m-manylinux2010_x86_64.whl (86.3MB)\n",
            "\u001b[K     |████████████████████████████████| 86.3MB 32.3MB/s \n",
            "\u001b[?25hRequirement already satisfied, skipping upgrade: protobuf>=3.6.1 in /usr/local/lib/python3.6/dist-packages (from tensorflow) (3.7.1)\n",
            "Requirement already satisfied, skipping upgrade: keras-applications>=1.0.8 in /usr/local/lib/python3.6/dist-packages (from tensorflow) (1.0.8)\n",
            "Requirement already satisfied, skipping upgrade: six>=1.10.0 in /usr/local/lib/python3.6/dist-packages (from tensorflow) (1.12.0)\n",
            "Collecting tensorflow-estimator<2.1.0,>=2.0.0 (from tensorflow)\n",
            "\u001b[?25l  Downloading https://files.pythonhosted.org/packages/95/00/5e6cdf86190a70d7382d320b2b04e4ff0f8191a37d90a422a2f8ff0705bb/tensorflow_estimator-2.0.0-py2.py3-none-any.whl (449kB)\n",
            "\u001b[K     |████████████████████████████████| 450kB 40.3MB/s \n",
            "\u001b[?25hRequirement already satisfied, skipping upgrade: termcolor>=1.1.0 in /usr/local/lib/python3.6/dist-packages (from tensorflow) (1.1.0)\n",
            "Requirement already satisfied, skipping upgrade: keras-preprocessing>=1.0.5 in /usr/local/lib/python3.6/dist-packages (from tensorflow) (1.1.0)\n",
            "Requirement already satisfied, skipping upgrade: wrapt>=1.11.1 in /usr/local/lib/python3.6/dist-packages (from tensorflow) (1.11.2)\n",
            "Requirement already satisfied, skipping upgrade: wheel>=0.26 in /usr/local/lib/python3.6/dist-packages (from tensorflow) (0.33.6)\n",
            "Requirement already satisfied, skipping upgrade: numpy<2.0,>=1.16.0 in /usr/local/lib/python3.6/dist-packages (from tensorflow) (1.16.5)\n",
            "Requirement already satisfied, skipping upgrade: opt-einsum>=2.3.2 in /usr/local/lib/python3.6/dist-packages (from tensorflow) (3.1.0)\n",
            "Requirement already satisfied, skipping upgrade: grpcio>=1.8.6 in /usr/local/lib/python3.6/dist-packages (from tensorflow) (1.15.0)\n",
            "Requirement already satisfied, skipping upgrade: absl-py>=0.7.0 in /usr/local/lib/python3.6/dist-packages (from tensorflow) (0.8.0)\n",
            "Requirement already satisfied, skipping upgrade: google-pasta>=0.1.6 in /usr/local/lib/python3.6/dist-packages (from tensorflow) (0.1.7)\n",
            "Requirement already satisfied, skipping upgrade: gast==0.2.2 in /usr/local/lib/python3.6/dist-packages (from tensorflow) (0.2.2)\n",
            "Collecting tensorboard<2.1.0,>=2.0.0 (from tensorflow)\n",
            "\u001b[?25l  Downloading https://files.pythonhosted.org/packages/9b/a6/e8ffa4e2ddb216449d34cfcb825ebb38206bee5c4553d69e7bc8bc2c5d64/tensorboard-2.0.0-py3-none-any.whl (3.8MB)\n",
            "\u001b[K     |████████████████████████████████| 3.8MB 27.2MB/s \n",
            "\u001b[?25hRequirement already satisfied, skipping upgrade: astor>=0.6.0 in /usr/local/lib/python3.6/dist-packages (from tensorflow) (0.8.0)\n",
            "Requirement already satisfied, skipping upgrade: setuptools in /usr/local/lib/python3.6/dist-packages (from protobuf>=3.6.1->tensorflow) (41.2.0)\n",
            "Requirement already satisfied, skipping upgrade: h5py in /usr/local/lib/python3.6/dist-packages (from keras-applications>=1.0.8->tensorflow) (2.8.0)\n",
            "Requirement already satisfied, skipping upgrade: markdown>=2.6.8 in /usr/local/lib/python3.6/dist-packages (from tensorboard<2.1.0,>=2.0.0->tensorflow) (3.1.1)\n",
            "Requirement already satisfied, skipping upgrade: werkzeug>=0.11.15 in /usr/local/lib/python3.6/dist-packages (from tensorboard<2.1.0,>=2.0.0->tensorflow) (0.16.0)\n",
            "Installing collected packages: tensorflow-estimator, tensorboard, tensorflow\n",
            "  Found existing installation: tensorflow-estimator 1.15.1\n",
            "    Uninstalling tensorflow-estimator-1.15.1:\n",
            "      Successfully uninstalled tensorflow-estimator-1.15.1\n",
            "  Found existing installation: tensorboard 1.15.0\n",
            "    Uninstalling tensorboard-1.15.0:\n",
            "      Successfully uninstalled tensorboard-1.15.0\n",
            "  Found existing installation: tensorflow 1.15.0rc3\n",
            "    Uninstalling tensorflow-1.15.0rc3:\n",
            "      Successfully uninstalled tensorflow-1.15.0rc3\n",
            "Successfully installed tensorboard-2.0.0 tensorflow-2.0.0 tensorflow-estimator-2.0.0\n"
          ],
          "name": "stdout"
        },
        {
          "output_type": "display_data",
          "data": {
            "application/vnd.colab-display-data+json": {
              "pip_warning": {
                "packages": [
                  "tensorboard",
                  "tensorflow",
                  "tensorflow_core",
                  "tensorflow_estimator"
                ]
              }
            }
          },
          "metadata": {
            "tags": []
          }
        }
      ]
    },
    {
      "cell_type": "markdown",
      "metadata": {
        "id": "yNWtz-T7uUWD",
        "colab_type": "text"
      },
      "source": [
        "### Import TensorFlow and other Libraries"
      ]
    },
    {
      "cell_type": "code",
      "metadata": {
        "id": "zrxCB2wyb98A",
        "colab_type": "code",
        "outputId": "de6bf038-ebd6-4686-bf0e-4b1537935283",
        "colab": {
          "base_uri": "https://localhost:8080/",
          "height": 85
        }
      },
      "source": [
        "%%time\n",
        "%reload_ext autoreload\n",
        "%autoreload 2\n",
        "%reload_ext tensorboard\n",
        "\n",
        "import numpy as np\n",
        "import pandas as pd\n",
        "import matplotlib.pyplot as plt\n",
        "%matplotlib inline\n",
        "%config InlineBackend.figure_format = \"retina\"\n",
        "\n",
        "import tensorflow as tf\n",
        "import tensorflow_hub as hub\n",
        "import tensorflow_datasets as tfds\n",
        "tfds.disable_progress_bar()\n",
        "from tensorflow import feature_column\n",
        "from tensorflow.keras import layers\n",
        "keras = tf.keras\n",
        "\n",
        "print(f\"TensorFlow version {tf.__version__}, Keras version {keras.__version__}\")\n",
        "if tf.config.experimental.list_physical_devices(\"GPU\"):\n",
        "    print(\"GPU is avaialble.\")\n",
        "print(f\"TensorFlow is executing eagerly: {tf.executing_eagerly()}\")\n",
        "\n",
        "from sklearn.metrics import accuracy_score\n",
        "from sklearn.model_selection import train_test_split\n",
        "\n",
        "import warnings\n",
        "warnings.filterwarnings(\"ignore\")"
      ],
      "execution_count": 0,
      "outputs": [
        {
          "output_type": "stream",
          "text": [
            "TensorFlow version 2.0.0, Keras version 2.2.4-tf\n",
            "TensorFlow is executing eagerly: True\n",
            "CPU times: user 46.1 ms, sys: 12 ms, total: 58.2 ms\n",
            "Wall time: 58.3 ms\n"
          ],
          "name": "stdout"
        }
      ]
    },
    {
      "cell_type": "markdown",
      "metadata": {
        "id": "pfG1MQnHucH3",
        "colab_type": "text"
      },
      "source": [
        "### Use Pandas to create a DataFrame"
      ]
    },
    {
      "cell_type": "code",
      "metadata": {
        "id": "-D3Z95zhclov",
        "colab_type": "code",
        "outputId": "240fe33b-d597-49b2-89d4-b975b9db54dc",
        "colab": {
          "base_uri": "https://localhost:8080/",
          "height": 204
        }
      },
      "source": [
        "URL = 'https://storage.googleapis.com/applied-dl/heart.csv'\n",
        "dataframe = pd.read_csv(URL)\n",
        "dataframe.head()"
      ],
      "execution_count": 0,
      "outputs": [
        {
          "output_type": "execute_result",
          "data": {
            "text/html": [
              "<div>\n",
              "<style scoped>\n",
              "    .dataframe tbody tr th:only-of-type {\n",
              "        vertical-align: middle;\n",
              "    }\n",
              "\n",
              "    .dataframe tbody tr th {\n",
              "        vertical-align: top;\n",
              "    }\n",
              "\n",
              "    .dataframe thead th {\n",
              "        text-align: right;\n",
              "    }\n",
              "</style>\n",
              "<table border=\"1\" class=\"dataframe\">\n",
              "  <thead>\n",
              "    <tr style=\"text-align: right;\">\n",
              "      <th></th>\n",
              "      <th>age</th>\n",
              "      <th>sex</th>\n",
              "      <th>cp</th>\n",
              "      <th>trestbps</th>\n",
              "      <th>chol</th>\n",
              "      <th>fbs</th>\n",
              "      <th>restecg</th>\n",
              "      <th>thalach</th>\n",
              "      <th>exang</th>\n",
              "      <th>oldpeak</th>\n",
              "      <th>slope</th>\n",
              "      <th>ca</th>\n",
              "      <th>thal</th>\n",
              "      <th>target</th>\n",
              "    </tr>\n",
              "  </thead>\n",
              "  <tbody>\n",
              "    <tr>\n",
              "      <th>0</th>\n",
              "      <td>63</td>\n",
              "      <td>1</td>\n",
              "      <td>1</td>\n",
              "      <td>145</td>\n",
              "      <td>233</td>\n",
              "      <td>1</td>\n",
              "      <td>2</td>\n",
              "      <td>150</td>\n",
              "      <td>0</td>\n",
              "      <td>2.3</td>\n",
              "      <td>3</td>\n",
              "      <td>0</td>\n",
              "      <td>fixed</td>\n",
              "      <td>0</td>\n",
              "    </tr>\n",
              "    <tr>\n",
              "      <th>1</th>\n",
              "      <td>67</td>\n",
              "      <td>1</td>\n",
              "      <td>4</td>\n",
              "      <td>160</td>\n",
              "      <td>286</td>\n",
              "      <td>0</td>\n",
              "      <td>2</td>\n",
              "      <td>108</td>\n",
              "      <td>1</td>\n",
              "      <td>1.5</td>\n",
              "      <td>2</td>\n",
              "      <td>3</td>\n",
              "      <td>normal</td>\n",
              "      <td>1</td>\n",
              "    </tr>\n",
              "    <tr>\n",
              "      <th>2</th>\n",
              "      <td>67</td>\n",
              "      <td>1</td>\n",
              "      <td>4</td>\n",
              "      <td>120</td>\n",
              "      <td>229</td>\n",
              "      <td>0</td>\n",
              "      <td>2</td>\n",
              "      <td>129</td>\n",
              "      <td>1</td>\n",
              "      <td>2.6</td>\n",
              "      <td>2</td>\n",
              "      <td>2</td>\n",
              "      <td>reversible</td>\n",
              "      <td>0</td>\n",
              "    </tr>\n",
              "    <tr>\n",
              "      <th>3</th>\n",
              "      <td>37</td>\n",
              "      <td>1</td>\n",
              "      <td>3</td>\n",
              "      <td>130</td>\n",
              "      <td>250</td>\n",
              "      <td>0</td>\n",
              "      <td>0</td>\n",
              "      <td>187</td>\n",
              "      <td>0</td>\n",
              "      <td>3.5</td>\n",
              "      <td>3</td>\n",
              "      <td>0</td>\n",
              "      <td>normal</td>\n",
              "      <td>0</td>\n",
              "    </tr>\n",
              "    <tr>\n",
              "      <th>4</th>\n",
              "      <td>41</td>\n",
              "      <td>0</td>\n",
              "      <td>2</td>\n",
              "      <td>130</td>\n",
              "      <td>204</td>\n",
              "      <td>0</td>\n",
              "      <td>2</td>\n",
              "      <td>172</td>\n",
              "      <td>0</td>\n",
              "      <td>1.4</td>\n",
              "      <td>1</td>\n",
              "      <td>0</td>\n",
              "      <td>normal</td>\n",
              "      <td>0</td>\n",
              "    </tr>\n",
              "  </tbody>\n",
              "</table>\n",
              "</div>"
            ],
            "text/plain": [
              "   age  sex  cp  trestbps  chol  ...  oldpeak  slope  ca        thal  target\n",
              "0   63    1   1       145   233  ...      2.3      3   0       fixed       0\n",
              "1   67    1   4       160   286  ...      1.5      2   3      normal       1\n",
              "2   67    1   4       120   229  ...      2.6      2   2  reversible       0\n",
              "3   37    1   3       130   250  ...      3.5      3   0      normal       0\n",
              "4   41    0   2       130   204  ...      1.4      1   0      normal       0\n",
              "\n",
              "[5 rows x 14 columns]"
            ]
          },
          "metadata": {
            "tags": []
          },
          "execution_count": 17
        }
      ]
    },
    {
      "cell_type": "code",
      "metadata": {
        "id": "qEhJlB6ec5Rt",
        "colab_type": "code",
        "outputId": "1a468ee1-41b5-471d-f935-05d691db1822",
        "colab": {
          "base_uri": "https://localhost:8080/",
          "height": 272
        }
      },
      "source": [
        "dataframe.dtypes"
      ],
      "execution_count": 0,
      "outputs": [
        {
          "output_type": "execute_result",
          "data": {
            "text/plain": [
              "age           int64\n",
              "sex           int64\n",
              "cp            int64\n",
              "trestbps      int64\n",
              "chol          int64\n",
              "fbs           int64\n",
              "restecg       int64\n",
              "thalach       int64\n",
              "exang         int64\n",
              "oldpeak     float64\n",
              "slope         int64\n",
              "ca            int64\n",
              "thal         object\n",
              "target        int64\n",
              "dtype: object"
            ]
          },
          "metadata": {
            "tags": []
          },
          "execution_count": 18
        }
      ]
    },
    {
      "cell_type": "markdown",
      "metadata": {
        "id": "RZKgb3TiuhgM",
        "colab_type": "text"
      },
      "source": [
        "### Split the data into train and validation sets"
      ]
    },
    {
      "cell_type": "code",
      "metadata": {
        "id": "_qzQ_RsTc8i-",
        "colab_type": "code",
        "outputId": "492e5c6c-c6c8-4674-de6e-e31c31a58a8e",
        "colab": {
          "base_uri": "https://localhost:8080/",
          "height": 68
        }
      },
      "source": [
        "train, test = train_test_split(dataframe, test_size=0.2)\n",
        "train, val = train_test_split(train, test_size=0.2)\n",
        "print(f\"Train shape: {train.shape}\")\n",
        "print(f\"Test shape: {test.shape}\")\n",
        "print(f\"Validation shape: {val.shape}\")"
      ],
      "execution_count": 0,
      "outputs": [
        {
          "output_type": "stream",
          "text": [
            "Train shape: (193, 14)\n",
            "Test shape: (61, 14)\n",
            "Validation shape: (49, 14)\n"
          ],
          "name": "stdout"
        }
      ]
    },
    {
      "cell_type": "markdown",
      "metadata": {
        "id": "CaWw5O1RupWU",
        "colab_type": "text"
      },
      "source": [
        "### Create an input pipeline with tf.data"
      ]
    },
    {
      "cell_type": "code",
      "metadata": {
        "id": "bS2KUV47dA0N",
        "colab_type": "code",
        "colab": {}
      },
      "source": [
        "def df_to_dataset(dataframe, shuffle=True, batch_size=64):\n",
        "  dataframe = dataframe.copy()\n",
        "  labels = dataframe.pop(\"target\")\n",
        "  ds = tf.data.Dataset.from_tensor_slices((dict(dataframe), labels))\n",
        "  if shuffle:\n",
        "    ds = ds.shuffle(buffer_size=len(dataframe))\n",
        "  ds = ds.batch(batch_size)\n",
        "  return ds"
      ],
      "execution_count": 0,
      "outputs": []
    },
    {
      "cell_type": "code",
      "metadata": {
        "id": "SS1jJjBaeOcK",
        "colab_type": "code",
        "colab": {}
      },
      "source": [
        "batch_size = 64\n",
        "\n",
        "train_ds = df_to_dataset(train, batch_size=batch_size)\n",
        "\n",
        "val_ds = df_to_dataset(val, shuffle=False, batch_size=batch_size)\n",
        "\n",
        "test_ds = df_to_dataset(test, shuffle=False, batch_size=batch_size)"
      ],
      "execution_count": 0,
      "outputs": []
    },
    {
      "cell_type": "code",
      "metadata": {
        "id": "gykCVFVMepq_",
        "colab_type": "code",
        "outputId": "5c9c4b1f-89d0-44a2-ba14-fe9fb1e0a4d0",
        "colab": {
          "base_uri": "https://localhost:8080/",
          "height": 88
        }
      },
      "source": [
        "print(f\"Training dataset: {train_ds.element_spec}\")\n",
        "\n",
        "print(f\"Test dataset: {test_ds.element_spec}\")\n",
        "\n",
        "print(f\"Validation dataset: {val_ds.element_spec}\")"
      ],
      "execution_count": 0,
      "outputs": [
        {
          "output_type": "stream",
          "text": [
            "Training dataset: ({'age': TensorSpec(shape=(None,), dtype=tf.int32, name=None), 'sex': TensorSpec(shape=(None,), dtype=tf.int32, name=None), 'cp': TensorSpec(shape=(None,), dtype=tf.int32, name=None), 'trestbps': TensorSpec(shape=(None,), dtype=tf.int32, name=None), 'chol': TensorSpec(shape=(None,), dtype=tf.int32, name=None), 'fbs': TensorSpec(shape=(None,), dtype=tf.int32, name=None), 'restecg': TensorSpec(shape=(None,), dtype=tf.int32, name=None), 'thalach': TensorSpec(shape=(None,), dtype=tf.int32, name=None), 'exang': TensorSpec(shape=(None,), dtype=tf.int32, name=None), 'oldpeak': TensorSpec(shape=(None,), dtype=tf.float64, name=None), 'slope': TensorSpec(shape=(None,), dtype=tf.int32, name=None), 'ca': TensorSpec(shape=(None,), dtype=tf.int32, name=None), 'thal': TensorSpec(shape=(None,), dtype=tf.string, name=None)}, TensorSpec(shape=(None,), dtype=tf.int32, name=None))\n",
            "Test dataset: ({'age': TensorSpec(shape=(None,), dtype=tf.int32, name=None), 'sex': TensorSpec(shape=(None,), dtype=tf.int32, name=None), 'cp': TensorSpec(shape=(None,), dtype=tf.int32, name=None), 'trestbps': TensorSpec(shape=(None,), dtype=tf.int32, name=None), 'chol': TensorSpec(shape=(None,), dtype=tf.int32, name=None), 'fbs': TensorSpec(shape=(None,), dtype=tf.int32, name=None), 'restecg': TensorSpec(shape=(None,), dtype=tf.int32, name=None), 'thalach': TensorSpec(shape=(None,), dtype=tf.int32, name=None), 'exang': TensorSpec(shape=(None,), dtype=tf.int32, name=None), 'oldpeak': TensorSpec(shape=(None,), dtype=tf.float32, name=None), 'slope': TensorSpec(shape=(None,), dtype=tf.int32, name=None), 'ca': TensorSpec(shape=(None,), dtype=tf.int32, name=None), 'thal': TensorSpec(shape=(None,), dtype=tf.string, name=None)}, TensorSpec(shape=(None,), dtype=tf.int32, name=None))\n",
            "Validation dataset: ({'age': TensorSpec(shape=(None,), dtype=tf.int32, name=None), 'sex': TensorSpec(shape=(None,), dtype=tf.int32, name=None), 'cp': TensorSpec(shape=(None,), dtype=tf.int32, name=None), 'trestbps': TensorSpec(shape=(None,), dtype=tf.int32, name=None), 'chol': TensorSpec(shape=(None,), dtype=tf.int32, name=None), 'fbs': TensorSpec(shape=(None,), dtype=tf.int32, name=None), 'restecg': TensorSpec(shape=(None,), dtype=tf.int32, name=None), 'thalach': TensorSpec(shape=(None,), dtype=tf.int32, name=None), 'exang': TensorSpec(shape=(None,), dtype=tf.int32, name=None), 'oldpeak': TensorSpec(shape=(None,), dtype=tf.float32, name=None), 'slope': TensorSpec(shape=(None,), dtype=tf.int32, name=None), 'ca': TensorSpec(shape=(None,), dtype=tf.int32, name=None), 'thal': TensorSpec(shape=(None,), dtype=tf.string, name=None)}, TensorSpec(shape=(None,), dtype=tf.int32, name=None))\n"
          ],
          "name": "stdout"
        }
      ]
    },
    {
      "cell_type": "markdown",
      "metadata": {
        "id": "YNp_zzKGuwdi",
        "colab_type": "text"
      },
      "source": [
        "### Understanding the input pipeline"
      ]
    },
    {
      "cell_type": "code",
      "metadata": {
        "id": "C3ORD8ZeezBw",
        "colab_type": "code",
        "outputId": "beb5585b-9b5f-4897-f0e4-38e153171562",
        "colab": {
          "base_uri": "https://localhost:8080/",
          "height": 1000
        }
      },
      "source": [
        "for feature_batch, label_batch in train_ds.take(1):\n",
        "  print(f\"Label Batch: {label_batch}\")\n",
        "  print(f\"A batch of feature values: {feature_batch.values()}\")\n",
        "  print(f\"All features: {feature_batch.keys()}\")"
      ],
      "execution_count": 0,
      "outputs": [
        {
          "output_type": "stream",
          "text": [
            "Label Batch: [0 0 0 0 0 1 0 0 1 0 0 0 0 1 0 1 0 0 1 0 0 1 0 0 0 0 0 0 0 0 0 0 0 0 1 0 0\n",
            " 0 0 0 0 0 1 1 0 1 0 0 0 0 1 0 0 1 0 0 0 0 1 0 0 1 0 1]\n",
            "A batch of feature values: dict_values([<tf.Tensor: id=309, shape=(64,), dtype=int32, numpy=\n",
            "array([57, 41, 71, 58, 44, 55, 67, 46, 63, 59, 52, 39, 56, 43, 70, 56, 42,\n",
            "       46, 59, 60, 56, 63, 42, 63, 67, 37, 64, 48, 56, 41, 41, 56, 52, 52,\n",
            "       77, 58, 60, 66, 45, 50, 65, 54, 62, 58, 62, 67, 54, 57, 59, 43, 70,\n",
            "       42, 58, 54, 43, 54, 54, 65, 68, 45, 52, 69, 62, 60], dtype=int32)>, <tf.Tensor: id=317, shape=(64,), dtype=int32, numpy=\n",
            "array([0, 1, 0, 0, 0, 1, 1, 0, 1, 1, 1, 0, 1, 0, 1, 0, 1, 0, 1, 1, 1, 0,\n",
            "       0, 0, 1, 0, 1, 1, 1, 1, 1, 0, 1, 1, 1, 1, 0, 1, 1, 1, 1, 1, 1, 0,\n",
            "       0, 1, 1, 1, 1, 1, 1, 1, 1, 1, 0, 0, 0, 0, 1, 1, 0, 1, 1, 1],\n",
            "      dtype=int32)>, <tf.Tensor: id=312, shape=(64,), dtype=int32, numpy=\n",
            "array([1, 3, 3, 4, 3, 4, 4, 4, 4, 1, 4, 3, 1, 4, 2, 4, 2, 2, 4, 4, 4, 4,\n",
            "       3, 3, 3, 3, 3, 2, 2, 2, 3, 2, 1, 4, 4, 4, 3, 4, 4, 3, 1, 4, 2, 4,\n",
            "       4, 4, 3, 0, 2, 4, 3, 1, 3, 4, 3, 3, 3, 3, 4, 3, 3, 3, 3, 4],\n",
            "      dtype=int32)>, <tf.Tensor: id=321, shape=(64,), dtype=int32, numpy=\n",
            "array([130, 112, 110, 100, 118, 140, 120, 138, 130, 160, 108, 138, 120,\n",
            "       132, 156, 200, 120, 105, 140, 125, 125, 150, 120, 135, 152, 120,\n",
            "       140, 130, 120, 110, 130, 140, 152, 128, 125, 128, 120, 160, 104,\n",
            "       140, 138, 124, 120, 170, 140, 100, 150, 130, 140, 150, 160, 148,\n",
            "       105, 110, 122, 135, 110, 155, 144, 110, 136, 140, 130, 140],\n",
            "      dtype=int32)>, <tf.Tensor: id=311, shape=(64,), dtype=int32, numpy=\n",
            "array([236, 250, 265, 248, 242, 217, 229, 243, 254, 273, 233, 220, 193,\n",
            "       341, 245, 288, 295, 204, 177, 258, 249, 407, 209, 252, 212, 215,\n",
            "       335, 245, 236, 235, 214, 294, 298, 255, 304, 216, 178, 228, 208,\n",
            "       233, 282, 266, 281, 225, 394, 299, 232, 131, 221, 247, 269, 244,\n",
            "       240, 239, 213, 304, 214, 269, 193, 264, 196, 254, 231, 293],\n",
            "      dtype=int32)>, <tf.Tensor: id=314, shape=(64,), dtype=int32, numpy=\n",
            "array([0, 0, 1, 0, 0, 0, 0, 0, 0, 0, 1, 0, 0, 1, 0, 1, 0, 0, 0, 0, 1, 0,\n",
            "       0, 0, 0, 0, 0, 0, 0, 0, 0, 0, 1, 0, 0, 0, 1, 0, 0, 0, 1, 0, 0, 1,\n",
            "       0, 0, 0, 0, 0, 0, 0, 0, 0, 0, 0, 1, 0, 0, 1, 0, 0, 0, 0, 0],\n",
            "      dtype=int32)>, <tf.Tensor: id=316, shape=(64,), dtype=int32, numpy=\n",
            "array([0, 0, 2, 2, 0, 0, 2, 2, 2, 2, 0, 0, 2, 2, 2, 2, 0, 0, 0, 2, 2, 2,\n",
            "       0, 2, 2, 0, 0, 2, 0, 0, 2, 2, 0, 0, 2, 2, 0, 2, 2, 0, 2, 2, 2, 2,\n",
            "       2, 2, 2, 1, 0, 0, 0, 2, 2, 0, 0, 0, 0, 0, 0, 1, 2, 2, 0, 2],\n",
            "      dtype=int32)>, <tf.Tensor: id=320, shape=(64,), dtype=int32, numpy=\n",
            "array([174, 179, 130, 122, 149, 111, 129, 152, 147, 125, 147, 152, 162,\n",
            "       136, 143, 133, 162, 172, 162, 141, 144, 154, 173, 172, 150, 170,\n",
            "       158, 180, 178, 153, 168, 153, 178, 161, 162, 131,  96, 138, 148,\n",
            "       163, 174, 109, 103, 146, 157, 125, 165, 115, 164, 171, 112, 178,\n",
            "       154, 126, 165, 170, 158, 148, 141, 132, 169, 146, 146, 170],\n",
            "      dtype=int32)>, <tf.Tensor: id=313, shape=(64,), dtype=int32, numpy=\n",
            "array([0, 0, 0, 0, 0, 1, 1, 1, 0, 0, 0, 0, 0, 1, 0, 1, 0, 0, 1, 1, 1, 0,\n",
            "       0, 0, 0, 0, 0, 0, 0, 0, 0, 0, 0, 1, 1, 1, 0, 0, 1, 0, 0, 1, 0, 1,\n",
            "       0, 1, 0, 1, 1, 0, 1, 0, 1, 1, 0, 0, 0, 0, 0, 0, 0, 0, 0, 0],\n",
            "      dtype=int32)>, <tf.Tensor: id=315, shape=(64,), dtype=float64, numpy=\n",
            "array([0. , 0. , 0. , 1. , 0.3, 5.6, 2.6, 0. , 1.4, 0. , 0.1, 0. , 1.9,\n",
            "       3. , 0. , 4. , 0. , 0. , 0. , 2.8, 1.2, 4. , 0. , 0. , 0.8, 0. ,\n",
            "       0. , 0.2, 0.8, 0. , 2. , 1.3, 1.2, 0. , 0. , 2.2, 0. , 2.3, 3. ,\n",
            "       0.6, 1.4, 2.2, 1.4, 2.8, 1.2, 0.9, 1.6, 1.2, 0. , 1.5, 2.9, 0.8,\n",
            "       0.6, 2.8, 0.2, 0. , 1.6, 0.8, 3.4, 1.2, 0.1, 2. , 1.8, 1.2])>, <tf.Tensor: id=318, shape=(64,), dtype=int32, numpy=\n",
            "array([1, 1, 1, 2, 2, 3, 2, 2, 2, 1, 1, 2, 2, 2, 1, 3, 1, 1, 1, 2, 2, 2,\n",
            "       2, 1, 2, 1, 1, 2, 1, 1, 2, 2, 2, 1, 1, 2, 1, 1, 2, 2, 2, 2, 2, 2,\n",
            "       2, 2, 1, 1, 1, 1, 2, 1, 2, 2, 2, 1, 2, 1, 2, 1, 2, 2, 2, 2],\n",
            "      dtype=int32)>, <tf.Tensor: id=310, shape=(64,), dtype=int32, numpy=\n",
            "array([1, 0, 1, 0, 1, 0, 2, 0, 1, 0, 3, 0, 0, 0, 0, 2, 0, 0, 1, 1, 1, 3,\n",
            "       0, 0, 0, 0, 0, 0, 0, 0, 0, 0, 0, 1, 3, 3, 0, 0, 0, 1, 1, 1, 1, 2,\n",
            "       0, 2, 0, 1, 0, 0, 1, 2, 0, 1, 0, 0, 0, 0, 2, 0, 0, 3, 3, 2],\n",
            "      dtype=int32)>, <tf.Tensor: id=319, shape=(64,), dtype=string, numpy=\n",
            "array([b'2', b'normal', b'normal', b'normal', b'normal', b'reversible',\n",
            "       b'reversible', b'normal', b'reversible', b'normal', b'reversible',\n",
            "       b'normal', b'reversible', b'reversible', b'normal', b'reversible',\n",
            "       b'normal', b'normal', b'reversible', b'reversible', b'normal',\n",
            "       b'reversible', b'normal', b'normal', b'reversible', b'normal',\n",
            "       b'normal', b'normal', b'normal', b'normal', b'normal', b'normal',\n",
            "       b'reversible', b'reversible', b'normal', b'reversible', b'normal',\n",
            "       b'fixed', b'normal', b'reversible', b'normal', b'reversible',\n",
            "       b'reversible', b'fixed', b'normal', b'normal', b'reversible',\n",
            "       b'normal', b'normal', b'normal', b'reversible', b'normal',\n",
            "       b'reversible', b'reversible', b'normal', b'normal', b'normal',\n",
            "       b'normal', b'reversible', b'normal', b'normal', b'reversible',\n",
            "       b'reversible', b'reversible'], dtype=object)>])\n",
            "All features: dict_keys(['age', 'sex', 'cp', 'trestbps', 'chol', 'fbs', 'restecg', 'thalach', 'exang', 'oldpeak', 'slope', 'ca', 'thal'])\n"
          ],
          "name": "stdout"
        }
      ]
    },
    {
      "cell_type": "markdown",
      "metadata": {
        "id": "puM99SfzfY3A",
        "colab_type": "text"
      },
      "source": [
        "### Demonstrate several types of feature columns"
      ]
    },
    {
      "cell_type": "code",
      "metadata": {
        "id": "gEMhUyj7u7Fr",
        "colab_type": "code",
        "colab": {}
      },
      "source": [
        "example_batch = next(iter(train_ds))[0]"
      ],
      "execution_count": 0,
      "outputs": []
    },
    {
      "cell_type": "code",
      "metadata": {
        "id": "9Z1DGjqGvE7E",
        "colab_type": "code",
        "colab": {}
      },
      "source": [
        "def demo(feature_column):\n",
        "    feature_layer = layers.DenseFeatures(feature_column)\n",
        "    print(feature_layer(example_batch).numpy())"
      ],
      "execution_count": 0,
      "outputs": []
    },
    {
      "cell_type": "code",
      "metadata": {
        "id": "lnUn8WXJxF1g",
        "colab_type": "code",
        "outputId": "efae123a-1661-4eeb-ae80-0eff185223de",
        "colab": {
          "base_uri": "https://localhost:8080/",
          "height": 1000
        }
      },
      "source": [
        "age = feature_column.numeric_column(\"age\")\n",
        "demo(age)"
      ],
      "execution_count": 0,
      "outputs": [
        {
          "output_type": "stream",
          "text": [
            "WARNING:tensorflow:Layer dense_features_2 is casting an input tensor from dtype float64 to the layer's dtype of float32, which is new behavior in TensorFlow 2.  The layer has dtype float32 because it's dtype defaults to floatx.\n",
            "\n",
            "If you intended to run this layer in float32, you can safely ignore this warning. If in doubt, this warning is likely only an issue if you are porting a TensorFlow 1.X model to TensorFlow 2.\n",
            "\n",
            "To change all layers to have dtype float64 by default, call `tf.keras.backend.set_floatx('float64')`. To change just this layer, pass dtype='float64' to the layer constructor. If you are the author of this layer, you can disable autocasting by passing autocast=False to the base Layer constructor.\n",
            "\n",
            "[[58.]\n",
            " [63.]\n",
            " [64.]\n",
            " [49.]\n",
            " [62.]\n",
            " [68.]\n",
            " [40.]\n",
            " [67.]\n",
            " [42.]\n",
            " [56.]\n",
            " [65.]\n",
            " [29.]\n",
            " [34.]\n",
            " [63.]\n",
            " [54.]\n",
            " [41.]\n",
            " [62.]\n",
            " [43.]\n",
            " [39.]\n",
            " [64.]\n",
            " [65.]\n",
            " [53.]\n",
            " [67.]\n",
            " [42.]\n",
            " [62.]\n",
            " [55.]\n",
            " [52.]\n",
            " [47.]\n",
            " [59.]\n",
            " [50.]\n",
            " [51.]\n",
            " [60.]\n",
            " [67.]\n",
            " [44.]\n",
            " [60.]\n",
            " [40.]\n",
            " [63.]\n",
            " [46.]\n",
            " [61.]\n",
            " [46.]\n",
            " [41.]\n",
            " [64.]\n",
            " [77.]\n",
            " [52.]\n",
            " [58.]\n",
            " [62.]\n",
            " [53.]\n",
            " [70.]\n",
            " [46.]\n",
            " [35.]\n",
            " [60.]\n",
            " [71.]\n",
            " [53.]\n",
            " [62.]\n",
            " [57.]\n",
            " [41.]\n",
            " [54.]\n",
            " [57.]\n",
            " [55.]\n",
            " [44.]\n",
            " [46.]\n",
            " [62.]\n",
            " [63.]\n",
            " [43.]]\n"
          ],
          "name": "stdout"
        }
      ]
    },
    {
      "cell_type": "code",
      "metadata": {
        "id": "BMQUoBDYweVh",
        "colab_type": "code",
        "colab": {}
      },
      "source": [
        "age_buckets = feature_column.bucketized_column(age, boundaries=[18, 25, 30, 40, 45, 50, 55, 65, 70, 85])"
      ],
      "execution_count": 0,
      "outputs": []
    },
    {
      "cell_type": "code",
      "metadata": {
        "id": "znSneWEPx0ey",
        "colab_type": "code",
        "outputId": "3454caba-211f-4599-e923-d75651e152d9",
        "colab": {
          "base_uri": "https://localhost:8080/",
          "height": 1000
        }
      },
      "source": [
        "demo(age_buckets)"
      ],
      "execution_count": 0,
      "outputs": [
        {
          "output_type": "stream",
          "text": [
            "WARNING:tensorflow:Layer dense_features_3 is casting an input tensor from dtype float64 to the layer's dtype of float32, which is new behavior in TensorFlow 2.  The layer has dtype float32 because it's dtype defaults to floatx.\n",
            "\n",
            "If you intended to run this layer in float32, you can safely ignore this warning. If in doubt, this warning is likely only an issue if you are porting a TensorFlow 1.X model to TensorFlow 2.\n",
            "\n",
            "To change all layers to have dtype float64 by default, call `tf.keras.backend.set_floatx('float64')`. To change just this layer, pass dtype='float64' to the layer constructor. If you are the author of this layer, you can disable autocasting by passing autocast=False to the base Layer constructor.\n",
            "\n",
            "[[0. 0. 0. 0. 0. 0. 0. 1. 0. 0. 0.]\n",
            " [0. 0. 0. 0. 0. 0. 0. 1. 0. 0. 0.]\n",
            " [0. 0. 0. 0. 0. 0. 0. 1. 0. 0. 0.]\n",
            " [0. 0. 0. 0. 0. 1. 0. 0. 0. 0. 0.]\n",
            " [0. 0. 0. 0. 0. 0. 0. 1. 0. 0. 0.]\n",
            " [0. 0. 0. 0. 0. 0. 0. 0. 1. 0. 0.]\n",
            " [0. 0. 0. 0. 1. 0. 0. 0. 0. 0. 0.]\n",
            " [0. 0. 0. 0. 0. 0. 0. 0. 1. 0. 0.]\n",
            " [0. 0. 0. 0. 1. 0. 0. 0. 0. 0. 0.]\n",
            " [0. 0. 0. 0. 0. 0. 0. 1. 0. 0. 0.]\n",
            " [0. 0. 0. 0. 0. 0. 0. 0. 1. 0. 0.]\n",
            " [0. 0. 1. 0. 0. 0. 0. 0. 0. 0. 0.]\n",
            " [0. 0. 0. 1. 0. 0. 0. 0. 0. 0. 0.]\n",
            " [0. 0. 0. 0. 0. 0. 0. 1. 0. 0. 0.]\n",
            " [0. 0. 0. 0. 0. 0. 1. 0. 0. 0. 0.]\n",
            " [0. 0. 0. 0. 1. 0. 0. 0. 0. 0. 0.]\n",
            " [0. 0. 0. 0. 0. 0. 0. 1. 0. 0. 0.]\n",
            " [0. 0. 0. 0. 1. 0. 0. 0. 0. 0. 0.]\n",
            " [0. 0. 0. 1. 0. 0. 0. 0. 0. 0. 0.]\n",
            " [0. 0. 0. 0. 0. 0. 0. 1. 0. 0. 0.]\n",
            " [0. 0. 0. 0. 0. 0. 0. 0. 1. 0. 0.]\n",
            " [0. 0. 0. 0. 0. 0. 1. 0. 0. 0. 0.]\n",
            " [0. 0. 0. 0. 0. 0. 0. 0. 1. 0. 0.]\n",
            " [0. 0. 0. 0. 1. 0. 0. 0. 0. 0. 0.]\n",
            " [0. 0. 0. 0. 0. 0. 0. 1. 0. 0. 0.]\n",
            " [0. 0. 0. 0. 0. 0. 0. 1. 0. 0. 0.]\n",
            " [0. 0. 0. 0. 0. 0. 1. 0. 0. 0. 0.]\n",
            " [0. 0. 0. 0. 0. 1. 0. 0. 0. 0. 0.]\n",
            " [0. 0. 0. 0. 0. 0. 0. 1. 0. 0. 0.]\n",
            " [0. 0. 0. 0. 0. 0. 1. 0. 0. 0. 0.]\n",
            " [0. 0. 0. 0. 0. 0. 1. 0. 0. 0. 0.]\n",
            " [0. 0. 0. 0. 0. 0. 0. 1. 0. 0. 0.]\n",
            " [0. 0. 0. 0. 0. 0. 0. 0. 1. 0. 0.]\n",
            " [0. 0. 0. 0. 1. 0. 0. 0. 0. 0. 0.]\n",
            " [0. 0. 0. 0. 0. 0. 0. 1. 0. 0. 0.]\n",
            " [0. 0. 0. 0. 1. 0. 0. 0. 0. 0. 0.]\n",
            " [0. 0. 0. 0. 0. 0. 0. 1. 0. 0. 0.]\n",
            " [0. 0. 0. 0. 0. 1. 0. 0. 0. 0. 0.]\n",
            " [0. 0. 0. 0. 0. 0. 0. 1. 0. 0. 0.]\n",
            " [0. 0. 0. 0. 0. 1. 0. 0. 0. 0. 0.]\n",
            " [0. 0. 0. 0. 1. 0. 0. 0. 0. 0. 0.]\n",
            " [0. 0. 0. 0. 0. 0. 0. 1. 0. 0. 0.]\n",
            " [0. 0. 0. 0. 0. 0. 0. 0. 0. 1. 0.]\n",
            " [0. 0. 0. 0. 0. 0. 1. 0. 0. 0. 0.]\n",
            " [0. 0. 0. 0. 0. 0. 0. 1. 0. 0. 0.]\n",
            " [0. 0. 0. 0. 0. 0. 0. 1. 0. 0. 0.]\n",
            " [0. 0. 0. 0. 0. 0. 1. 0. 0. 0. 0.]\n",
            " [0. 0. 0. 0. 0. 0. 0. 0. 0. 1. 0.]\n",
            " [0. 0. 0. 0. 0. 1. 0. 0. 0. 0. 0.]\n",
            " [0. 0. 0. 1. 0. 0. 0. 0. 0. 0. 0.]\n",
            " [0. 0. 0. 0. 0. 0. 0. 1. 0. 0. 0.]\n",
            " [0. 0. 0. 0. 0. 0. 0. 0. 0. 1. 0.]\n",
            " [0. 0. 0. 0. 0. 0. 1. 0. 0. 0. 0.]\n",
            " [0. 0. 0. 0. 0. 0. 0. 1. 0. 0. 0.]\n",
            " [0. 0. 0. 0. 0. 0. 0. 1. 0. 0. 0.]\n",
            " [0. 0. 0. 0. 1. 0. 0. 0. 0. 0. 0.]\n",
            " [0. 0. 0. 0. 0. 0. 1. 0. 0. 0. 0.]\n",
            " [0. 0. 0. 0. 0. 0. 0. 1. 0. 0. 0.]\n",
            " [0. 0. 0. 0. 0. 0. 0. 1. 0. 0. 0.]\n",
            " [0. 0. 0. 0. 1. 0. 0. 0. 0. 0. 0.]\n",
            " [0. 0. 0. 0. 0. 1. 0. 0. 0. 0. 0.]\n",
            " [0. 0. 0. 0. 0. 0. 0. 1. 0. 0. 0.]\n",
            " [0. 0. 0. 0. 0. 0. 0. 1. 0. 0. 0.]\n",
            " [0. 0. 0. 0. 1. 0. 0. 0. 0. 0. 0.]]\n"
          ],
          "name": "stdout"
        }
      ]
    },
    {
      "cell_type": "code",
      "metadata": {
        "id": "rzu4ddpXx4Hj",
        "colab_type": "code",
        "outputId": "30fda12f-be72-4a71-f648-e2e3852f1c5b",
        "colab": {
          "base_uri": "https://localhost:8080/",
          "height": 1000
        }
      },
      "source": [
        "thal = feature_column.categorical_column_with_vocabulary_list(\n",
        "    'thal', ['fixed', 'normal', 'reversible']\n",
        ")\n",
        "thal_one_hot = feature_column.indicator_column(thal)\n",
        "demo(thal_one_hot)"
      ],
      "execution_count": 0,
      "outputs": [
        {
          "output_type": "stream",
          "text": [
            "WARNING:tensorflow:Layer dense_features_4 is casting an input tensor from dtype float64 to the layer's dtype of float32, which is new behavior in TensorFlow 2.  The layer has dtype float32 because it's dtype defaults to floatx.\n",
            "\n",
            "If you intended to run this layer in float32, you can safely ignore this warning. If in doubt, this warning is likely only an issue if you are porting a TensorFlow 1.X model to TensorFlow 2.\n",
            "\n",
            "To change all layers to have dtype float64 by default, call `tf.keras.backend.set_floatx('float64')`. To change just this layer, pass dtype='float64' to the layer constructor. If you are the author of this layer, you can disable autocasting by passing autocast=False to the base Layer constructor.\n",
            "\n",
            "WARNING:tensorflow:From /usr/local/lib/python3.6/dist-packages/tensorflow_core/python/feature_column/feature_column_v2.py:4276: IndicatorColumn._variable_shape (from tensorflow.python.feature_column.feature_column_v2) is deprecated and will be removed in a future version.\n",
            "Instructions for updating:\n",
            "The old _FeatureColumn APIs are being deprecated. Please use the new FeatureColumn APIs instead.\n",
            "WARNING:tensorflow:From /usr/local/lib/python3.6/dist-packages/tensorflow_core/python/feature_column/feature_column_v2.py:4331: VocabularyListCategoricalColumn._num_buckets (from tensorflow.python.feature_column.feature_column_v2) is deprecated and will be removed in a future version.\n",
            "Instructions for updating:\n",
            "The old _FeatureColumn APIs are being deprecated. Please use the new FeatureColumn APIs instead.\n",
            "[[0. 0. 1.]\n",
            " [0. 0. 1.]\n",
            " [0. 0. 1.]\n",
            " [0. 1. 0.]\n",
            " [0. 0. 1.]\n",
            " [0. 0. 1.]\n",
            " [0. 0. 1.]\n",
            " [0. 1. 0.]\n",
            " [0. 1. 0.]\n",
            " [0. 0. 1.]\n",
            " [0. 0. 1.]\n",
            " [0. 1. 0.]\n",
            " [0. 1. 0.]\n",
            " [0. 1. 0.]\n",
            " [0. 1. 0.]\n",
            " [0. 1. 0.]\n",
            " [0. 1. 0.]\n",
            " [0. 1. 0.]\n",
            " [0. 0. 1.]\n",
            " [0. 1. 0.]\n",
            " [0. 0. 1.]\n",
            " [0. 0. 1.]\n",
            " [0. 0. 1.]\n",
            " [0. 1. 0.]\n",
            " [0. 0. 1.]\n",
            " [0. 0. 1.]\n",
            " [0. 0. 1.]\n",
            " [0. 1. 0.]\n",
            " [0. 0. 1.]\n",
            " [0. 0. 1.]\n",
            " [0. 1. 0.]\n",
            " [0. 1. 0.]\n",
            " [0. 1. 0.]\n",
            " [0. 1. 0.]\n",
            " [0. 1. 0.]\n",
            " [0. 0. 1.]\n",
            " [0. 0. 1.]\n",
            " [0. 0. 1.]\n",
            " [0. 1. 0.]\n",
            " [0. 0. 1.]\n",
            " [0. 0. 1.]\n",
            " [0. 1. 0.]\n",
            " [0. 1. 0.]\n",
            " [0. 1. 0.]\n",
            " [1. 0. 0.]\n",
            " [0. 0. 1.]\n",
            " [0. 0. 1.]\n",
            " [0. 1. 0.]\n",
            " [0. 1. 0.]\n",
            " [0. 0. 1.]\n",
            " [0. 0. 1.]\n",
            " [0. 1. 0.]\n",
            " [0. 1. 0.]\n",
            " [0. 1. 0.]\n",
            " [0. 1. 0.]\n",
            " [0. 1. 0.]\n",
            " [0. 0. 1.]\n",
            " [1. 0. 0.]\n",
            " [0. 0. 1.]\n",
            " [0. 1. 0.]\n",
            " [0. 1. 0.]\n",
            " [0. 1. 0.]\n",
            " [0. 0. 1.]\n",
            " [0. 0. 1.]]\n"
          ],
          "name": "stdout"
        }
      ]
    },
    {
      "cell_type": "code",
      "metadata": {
        "id": "tAt9FC0oyb-j",
        "colab_type": "code",
        "colab": {}
      },
      "source": [
        "thal_embedding = feature_column.embedding_column(thal, dimension=10)\n",
        "demo(thal_embedding)"
      ],
      "execution_count": 0,
      "outputs": []
    },
    {
      "cell_type": "code",
      "metadata": {
        "id": "IZcNgVr7y0aZ",
        "colab_type": "code",
        "colab": {}
      },
      "source": [
        "thal_hashed = feature_column.categorical_column_with_hash_bucket(\n",
        "    'thal', hash_bucket_size=1000\n",
        ")\n",
        "demo()\n"
      ],
      "execution_count": 0,
      "outputs": []
    }
  ]
}