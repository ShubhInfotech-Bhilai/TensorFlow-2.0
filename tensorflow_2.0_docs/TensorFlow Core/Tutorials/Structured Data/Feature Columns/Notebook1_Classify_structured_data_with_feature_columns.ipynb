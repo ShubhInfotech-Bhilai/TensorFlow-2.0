{
  "nbformat": 4,
  "nbformat_minor": 0,
  "metadata": {
    "colab": {
      "name": "Structure_Data_Notebook1_Classify structured data with feature columns.ipynb",
      "provenance": [],
      "collapsed_sections": [
        "gHzTdqAeuPiO",
        "yNWtz-T7uUWD",
        "pfG1MQnHucH3",
        "RZKgb3TiuhgM",
        "CaWw5O1RupWU",
        "YNp_zzKGuwdi",
        "puM99SfzfY3A",
        "noyWB0IlpDM0",
        "rvr0lnf9pTMc",
        "jfj-Q6yU8qv1",
        "Az8vCfFu81N1",
        "1279vrkc86aD"
      ],
      "include_colab_link": true
    },
    "kernelspec": {
      "name": "python3",
      "display_name": "Python 3"
    },
    "accelerator": "GPU"
  },
  "cells": [
    {
      "cell_type": "markdown",
      "metadata": {
        "id": "view-in-github",
        "colab_type": "text"
      },
      "source": [
        "<a href=\"https://colab.research.google.com/github/sourcecode369/TensorFlow-2.0/blob/master/tensorflow_2.0_docs/TensorFlow%20Core/Tutorials/Structured%20Data/Feature%20Columns/Notebook1_Classify_structured_data_with_feature_columns.ipynb\" target=\"_parent\"><img src=\"https://colab.research.google.com/assets/colab-badge.svg\" alt=\"Open In Colab\"/></a>"
      ]
    },
    {
      "cell_type": "markdown",
      "metadata": {
        "id": "gHzTdqAeuPiO",
        "colab_type": "text"
      },
      "source": [
        "### Install TensorFlow 2.x"
      ]
    },
    {
      "cell_type": "code",
      "metadata": {
        "id": "rVdQVPS8bzRT",
        "colab_type": "code",
        "outputId": "b4764219-c086-426f-c2c8-d782b531fa45",
        "colab": {
          "base_uri": "https://localhost:8080/",
          "height": 663
        }
      },
      "source": [
        "!pip install --upgrade tensorflow"
      ],
      "execution_count": 1,
      "outputs": [
        {
          "output_type": "stream",
          "text": [
            "Collecting tensorflow\n",
            "\u001b[?25l  Downloading https://files.pythonhosted.org/packages/46/0f/7bd55361168bb32796b360ad15a25de6966c9c1beb58a8e30c01c8279862/tensorflow-2.0.0-cp36-cp36m-manylinux2010_x86_64.whl (86.3MB)\n",
            "\u001b[K     |████████████████████████████████| 86.3MB 1.3MB/s \n",
            "\u001b[?25hRequirement already satisfied, skipping upgrade: wrapt>=1.11.1 in /usr/local/lib/python3.6/dist-packages (from tensorflow) (1.11.2)\n",
            "Requirement already satisfied, skipping upgrade: opt-einsum>=2.3.2 in /usr/local/lib/python3.6/dist-packages (from tensorflow) (3.1.0)\n",
            "Requirement already satisfied, skipping upgrade: protobuf>=3.6.1 in /usr/local/lib/python3.6/dist-packages (from tensorflow) (3.7.1)\n",
            "Collecting tensorflow-estimator<2.1.0,>=2.0.0 (from tensorflow)\n",
            "\u001b[?25l  Downloading https://files.pythonhosted.org/packages/95/00/5e6cdf86190a70d7382d320b2b04e4ff0f8191a37d90a422a2f8ff0705bb/tensorflow_estimator-2.0.0-py2.py3-none-any.whl (449kB)\n",
            "\u001b[K     |████████████████████████████████| 450kB 32.0MB/s \n",
            "\u001b[?25hRequirement already satisfied, skipping upgrade: gast==0.2.2 in /usr/local/lib/python3.6/dist-packages (from tensorflow) (0.2.2)\n",
            "Requirement already satisfied, skipping upgrade: keras-applications>=1.0.8 in /usr/local/lib/python3.6/dist-packages (from tensorflow) (1.0.8)\n",
            "Requirement already satisfied, skipping upgrade: keras-preprocessing>=1.0.5 in /usr/local/lib/python3.6/dist-packages (from tensorflow) (1.1.0)\n",
            "Requirement already satisfied, skipping upgrade: google-pasta>=0.1.6 in /usr/local/lib/python3.6/dist-packages (from tensorflow) (0.1.7)\n",
            "Requirement already satisfied, skipping upgrade: astor>=0.6.0 in /usr/local/lib/python3.6/dist-packages (from tensorflow) (0.8.0)\n",
            "Requirement already satisfied, skipping upgrade: grpcio>=1.8.6 in /usr/local/lib/python3.6/dist-packages (from tensorflow) (1.15.0)\n",
            "Collecting tensorboard<2.1.0,>=2.0.0 (from tensorflow)\n",
            "\u001b[?25l  Downloading https://files.pythonhosted.org/packages/9b/a6/e8ffa4e2ddb216449d34cfcb825ebb38206bee5c4553d69e7bc8bc2c5d64/tensorboard-2.0.0-py3-none-any.whl (3.8MB)\n",
            "\u001b[K     |████████████████████████████████| 3.8MB 28.1MB/s \n",
            "\u001b[?25hRequirement already satisfied, skipping upgrade: numpy<2.0,>=1.16.0 in /usr/local/lib/python3.6/dist-packages (from tensorflow) (1.16.5)\n",
            "Requirement already satisfied, skipping upgrade: six>=1.10.0 in /usr/local/lib/python3.6/dist-packages (from tensorflow) (1.12.0)\n",
            "Requirement already satisfied, skipping upgrade: wheel>=0.26 in /usr/local/lib/python3.6/dist-packages (from tensorflow) (0.33.6)\n",
            "Requirement already satisfied, skipping upgrade: termcolor>=1.1.0 in /usr/local/lib/python3.6/dist-packages (from tensorflow) (1.1.0)\n",
            "Requirement already satisfied, skipping upgrade: absl-py>=0.7.0 in /usr/local/lib/python3.6/dist-packages (from tensorflow) (0.8.0)\n",
            "Requirement already satisfied, skipping upgrade: setuptools in /usr/local/lib/python3.6/dist-packages (from protobuf>=3.6.1->tensorflow) (41.2.0)\n",
            "Requirement already satisfied, skipping upgrade: h5py in /usr/local/lib/python3.6/dist-packages (from keras-applications>=1.0.8->tensorflow) (2.8.0)\n",
            "Requirement already satisfied, skipping upgrade: werkzeug>=0.11.15 in /usr/local/lib/python3.6/dist-packages (from tensorboard<2.1.0,>=2.0.0->tensorflow) (0.16.0)\n",
            "Requirement already satisfied, skipping upgrade: markdown>=2.6.8 in /usr/local/lib/python3.6/dist-packages (from tensorboard<2.1.0,>=2.0.0->tensorflow) (3.1.1)\n",
            "Installing collected packages: tensorflow-estimator, tensorboard, tensorflow\n",
            "  Found existing installation: tensorflow-estimator 1.15.1\n",
            "    Uninstalling tensorflow-estimator-1.15.1:\n",
            "      Successfully uninstalled tensorflow-estimator-1.15.1\n",
            "  Found existing installation: tensorboard 1.15.0\n",
            "    Uninstalling tensorboard-1.15.0:\n",
            "      Successfully uninstalled tensorboard-1.15.0\n",
            "  Found existing installation: tensorflow 1.15.0rc3\n",
            "    Uninstalling tensorflow-1.15.0rc3:\n",
            "      Successfully uninstalled tensorflow-1.15.0rc3\n",
            "Successfully installed tensorboard-2.0.0 tensorflow-2.0.0 tensorflow-estimator-2.0.0\n"
          ],
          "name": "stdout"
        }
      ]
    },
    {
      "cell_type": "markdown",
      "metadata": {
        "id": "yNWtz-T7uUWD",
        "colab_type": "text"
      },
      "source": [
        "### Import TensorFlow and other Libraries"
      ]
    },
    {
      "cell_type": "code",
      "metadata": {
        "id": "zrxCB2wyb98A",
        "colab_type": "code",
        "outputId": "56fa5d7d-3301-45ae-a1c6-5d91da342f65",
        "colab": {
          "base_uri": "https://localhost:8080/",
          "height": 85
        }
      },
      "source": [
        "%%time\n",
        "%reload_ext autoreload\n",
        "%autoreload 2\n",
        "%reload_ext tensorboard\n",
        "\n",
        "import numpy as np\n",
        "import pandas as pd\n",
        "import matplotlib.pyplot as plt\n",
        "%matplotlib inline\n",
        "%config InlineBackend.figure_format = \"retina\"\n",
        "\n",
        "import tensorflow as tf\n",
        "import tensorflow_hub as hub\n",
        "import tensorflow_datasets as tfds\n",
        "tfds.disable_progress_bar()\n",
        "from tensorflow import feature_column\n",
        "from tensorflow.keras import layers\n",
        "keras = tf.keras\n",
        "\n",
        "print(f\"TensorFlow version {tf.__version__}, Keras version {keras.__version__}\")\n",
        "if tf.config.experimental.list_physical_devices(\"GPU\"):\n",
        "    print(\"GPU is avaialble.\")\n",
        "print(f\"TensorFlow is executing eagerly: {tf.executing_eagerly()}\")\n",
        "\n",
        "from sklearn.metrics import accuracy_score\n",
        "from sklearn.model_selection import train_test_split\n",
        "\n",
        "import warnings\n",
        "warnings.filterwarnings(\"ignore\")"
      ],
      "execution_count": 2,
      "outputs": [
        {
          "output_type": "stream",
          "text": [
            "TensorFlow version 2.0.0, Keras version 2.2.4-tf\n",
            "TensorFlow is executing eagerly: True\n",
            "CPU times: user 2.14 s, sys: 235 ms, total: 2.38 s\n",
            "Wall time: 2.73 s\n"
          ],
          "name": "stdout"
        }
      ]
    },
    {
      "cell_type": "markdown",
      "metadata": {
        "id": "pfG1MQnHucH3",
        "colab_type": "text"
      },
      "source": [
        "### Use Pandas to create a DataFrame"
      ]
    },
    {
      "cell_type": "code",
      "metadata": {
        "id": "-D3Z95zhclov",
        "colab_type": "code",
        "outputId": "bacceadb-67f5-4f57-9b4a-296b419a38de",
        "colab": {
          "base_uri": "https://localhost:8080/",
          "height": 204
        }
      },
      "source": [
        "URL = 'https://storage.googleapis.com/applied-dl/heart.csv'\n",
        "dataframe = pd.read_csv(URL)\n",
        "dataframe.head()"
      ],
      "execution_count": 3,
      "outputs": [
        {
          "output_type": "execute_result",
          "data": {
            "text/html": [
              "<div>\n",
              "<style scoped>\n",
              "    .dataframe tbody tr th:only-of-type {\n",
              "        vertical-align: middle;\n",
              "    }\n",
              "\n",
              "    .dataframe tbody tr th {\n",
              "        vertical-align: top;\n",
              "    }\n",
              "\n",
              "    .dataframe thead th {\n",
              "        text-align: right;\n",
              "    }\n",
              "</style>\n",
              "<table border=\"1\" class=\"dataframe\">\n",
              "  <thead>\n",
              "    <tr style=\"text-align: right;\">\n",
              "      <th></th>\n",
              "      <th>age</th>\n",
              "      <th>sex</th>\n",
              "      <th>cp</th>\n",
              "      <th>trestbps</th>\n",
              "      <th>chol</th>\n",
              "      <th>fbs</th>\n",
              "      <th>restecg</th>\n",
              "      <th>thalach</th>\n",
              "      <th>exang</th>\n",
              "      <th>oldpeak</th>\n",
              "      <th>slope</th>\n",
              "      <th>ca</th>\n",
              "      <th>thal</th>\n",
              "      <th>target</th>\n",
              "    </tr>\n",
              "  </thead>\n",
              "  <tbody>\n",
              "    <tr>\n",
              "      <th>0</th>\n",
              "      <td>63</td>\n",
              "      <td>1</td>\n",
              "      <td>1</td>\n",
              "      <td>145</td>\n",
              "      <td>233</td>\n",
              "      <td>1</td>\n",
              "      <td>2</td>\n",
              "      <td>150</td>\n",
              "      <td>0</td>\n",
              "      <td>2.3</td>\n",
              "      <td>3</td>\n",
              "      <td>0</td>\n",
              "      <td>fixed</td>\n",
              "      <td>0</td>\n",
              "    </tr>\n",
              "    <tr>\n",
              "      <th>1</th>\n",
              "      <td>67</td>\n",
              "      <td>1</td>\n",
              "      <td>4</td>\n",
              "      <td>160</td>\n",
              "      <td>286</td>\n",
              "      <td>0</td>\n",
              "      <td>2</td>\n",
              "      <td>108</td>\n",
              "      <td>1</td>\n",
              "      <td>1.5</td>\n",
              "      <td>2</td>\n",
              "      <td>3</td>\n",
              "      <td>normal</td>\n",
              "      <td>1</td>\n",
              "    </tr>\n",
              "    <tr>\n",
              "      <th>2</th>\n",
              "      <td>67</td>\n",
              "      <td>1</td>\n",
              "      <td>4</td>\n",
              "      <td>120</td>\n",
              "      <td>229</td>\n",
              "      <td>0</td>\n",
              "      <td>2</td>\n",
              "      <td>129</td>\n",
              "      <td>1</td>\n",
              "      <td>2.6</td>\n",
              "      <td>2</td>\n",
              "      <td>2</td>\n",
              "      <td>reversible</td>\n",
              "      <td>0</td>\n",
              "    </tr>\n",
              "    <tr>\n",
              "      <th>3</th>\n",
              "      <td>37</td>\n",
              "      <td>1</td>\n",
              "      <td>3</td>\n",
              "      <td>130</td>\n",
              "      <td>250</td>\n",
              "      <td>0</td>\n",
              "      <td>0</td>\n",
              "      <td>187</td>\n",
              "      <td>0</td>\n",
              "      <td>3.5</td>\n",
              "      <td>3</td>\n",
              "      <td>0</td>\n",
              "      <td>normal</td>\n",
              "      <td>0</td>\n",
              "    </tr>\n",
              "    <tr>\n",
              "      <th>4</th>\n",
              "      <td>41</td>\n",
              "      <td>0</td>\n",
              "      <td>2</td>\n",
              "      <td>130</td>\n",
              "      <td>204</td>\n",
              "      <td>0</td>\n",
              "      <td>2</td>\n",
              "      <td>172</td>\n",
              "      <td>0</td>\n",
              "      <td>1.4</td>\n",
              "      <td>1</td>\n",
              "      <td>0</td>\n",
              "      <td>normal</td>\n",
              "      <td>0</td>\n",
              "    </tr>\n",
              "  </tbody>\n",
              "</table>\n",
              "</div>"
            ],
            "text/plain": [
              "   age  sex  cp  trestbps  chol  ...  oldpeak  slope  ca        thal  target\n",
              "0   63    1   1       145   233  ...      2.3      3   0       fixed       0\n",
              "1   67    1   4       160   286  ...      1.5      2   3      normal       1\n",
              "2   67    1   4       120   229  ...      2.6      2   2  reversible       0\n",
              "3   37    1   3       130   250  ...      3.5      3   0      normal       0\n",
              "4   41    0   2       130   204  ...      1.4      1   0      normal       0\n",
              "\n",
              "[5 rows x 14 columns]"
            ]
          },
          "metadata": {
            "tags": []
          },
          "execution_count": 3
        }
      ]
    },
    {
      "cell_type": "code",
      "metadata": {
        "id": "qEhJlB6ec5Rt",
        "colab_type": "code",
        "outputId": "1af36386-f665-44c8-8da1-834ad0bd1cb1",
        "colab": {
          "base_uri": "https://localhost:8080/",
          "height": 272
        }
      },
      "source": [
        "dataframe.dtypes"
      ],
      "execution_count": 4,
      "outputs": [
        {
          "output_type": "execute_result",
          "data": {
            "text/plain": [
              "age           int64\n",
              "sex           int64\n",
              "cp            int64\n",
              "trestbps      int64\n",
              "chol          int64\n",
              "fbs           int64\n",
              "restecg       int64\n",
              "thalach       int64\n",
              "exang         int64\n",
              "oldpeak     float64\n",
              "slope         int64\n",
              "ca            int64\n",
              "thal         object\n",
              "target        int64\n",
              "dtype: object"
            ]
          },
          "metadata": {
            "tags": []
          },
          "execution_count": 4
        }
      ]
    },
    {
      "cell_type": "markdown",
      "metadata": {
        "id": "RZKgb3TiuhgM",
        "colab_type": "text"
      },
      "source": [
        "### Split the data into train and validation sets"
      ]
    },
    {
      "cell_type": "code",
      "metadata": {
        "id": "_qzQ_RsTc8i-",
        "colab_type": "code",
        "outputId": "49026963-e44f-4d09-ccf6-b1890d65afa6",
        "colab": {
          "base_uri": "https://localhost:8080/",
          "height": 68
        }
      },
      "source": [
        "train, test = train_test_split(dataframe, test_size=0.2)\n",
        "train, val = train_test_split(train, test_size=0.2)\n",
        "print(f\"Train shape: {train.shape}\")\n",
        "print(f\"Test shape: {test.shape}\")\n",
        "print(f\"Validation shape: {val.shape}\")"
      ],
      "execution_count": 5,
      "outputs": [
        {
          "output_type": "stream",
          "text": [
            "Train shape: (193, 14)\n",
            "Test shape: (61, 14)\n",
            "Validation shape: (49, 14)\n"
          ],
          "name": "stdout"
        }
      ]
    },
    {
      "cell_type": "markdown",
      "metadata": {
        "id": "CaWw5O1RupWU",
        "colab_type": "text"
      },
      "source": [
        "### Create an input pipeline with tf.data"
      ]
    },
    {
      "cell_type": "code",
      "metadata": {
        "id": "bS2KUV47dA0N",
        "colab_type": "code",
        "colab": {}
      },
      "source": [
        "def df_to_dataset(dataframe, shuffle=True, batch_size=64):\n",
        "  dataframe = dataframe.copy()\n",
        "  labels = dataframe.pop(\"target\")\n",
        "  ds = tf.data.Dataset.from_tensor_slices((dict(dataframe), labels))\n",
        "  if shuffle:\n",
        "    ds = ds.shuffle(buffer_size=len(dataframe))\n",
        "  ds = ds.batch(batch_size)\n",
        "  return ds"
      ],
      "execution_count": 0,
      "outputs": []
    },
    {
      "cell_type": "code",
      "metadata": {
        "id": "SS1jJjBaeOcK",
        "colab_type": "code",
        "colab": {}
      },
      "source": [
        "batch_size = 64\n",
        "\n",
        "train_ds = df_to_dataset(train, batch_size=batch_size)\n",
        "\n",
        "val_ds = df_to_dataset(val, shuffle=False, batch_size=batch_size)\n",
        "\n",
        "test_ds = df_to_dataset(test, shuffle=False, batch_size=batch_size)"
      ],
      "execution_count": 0,
      "outputs": []
    },
    {
      "cell_type": "code",
      "metadata": {
        "id": "gykCVFVMepq_",
        "colab_type": "code",
        "outputId": "baec52a4-505d-43bb-97e0-a40bac21df26",
        "colab": {
          "base_uri": "https://localhost:8080/",
          "height": 88
        }
      },
      "source": [
        "print(f\"Training dataset: {train_ds.element_spec}\")\n",
        "\n",
        "print(f\"Test dataset: {test_ds.element_spec}\")\n",
        "\n",
        "print(f\"Validation dataset: {val_ds.element_spec}\")"
      ],
      "execution_count": 8,
      "outputs": [
        {
          "output_type": "stream",
          "text": [
            "Training dataset: ({'age': TensorSpec(shape=(None,), dtype=tf.int32, name=None), 'sex': TensorSpec(shape=(None,), dtype=tf.int32, name=None), 'cp': TensorSpec(shape=(None,), dtype=tf.int32, name=None), 'trestbps': TensorSpec(shape=(None,), dtype=tf.int32, name=None), 'chol': TensorSpec(shape=(None,), dtype=tf.int32, name=None), 'fbs': TensorSpec(shape=(None,), dtype=tf.int32, name=None), 'restecg': TensorSpec(shape=(None,), dtype=tf.int32, name=None), 'thalach': TensorSpec(shape=(None,), dtype=tf.int32, name=None), 'exang': TensorSpec(shape=(None,), dtype=tf.int32, name=None), 'oldpeak': TensorSpec(shape=(None,), dtype=tf.float64, name=None), 'slope': TensorSpec(shape=(None,), dtype=tf.int32, name=None), 'ca': TensorSpec(shape=(None,), dtype=tf.int32, name=None), 'thal': TensorSpec(shape=(None,), dtype=tf.string, name=None)}, TensorSpec(shape=(None,), dtype=tf.int32, name=None))\n",
            "Test dataset: ({'age': TensorSpec(shape=(None,), dtype=tf.int32, name=None), 'sex': TensorSpec(shape=(None,), dtype=tf.int32, name=None), 'cp': TensorSpec(shape=(None,), dtype=tf.int32, name=None), 'trestbps': TensorSpec(shape=(None,), dtype=tf.int32, name=None), 'chol': TensorSpec(shape=(None,), dtype=tf.int32, name=None), 'fbs': TensorSpec(shape=(None,), dtype=tf.int32, name=None), 'restecg': TensorSpec(shape=(None,), dtype=tf.int32, name=None), 'thalach': TensorSpec(shape=(None,), dtype=tf.int32, name=None), 'exang': TensorSpec(shape=(None,), dtype=tf.int32, name=None), 'oldpeak': TensorSpec(shape=(None,), dtype=tf.float32, name=None), 'slope': TensorSpec(shape=(None,), dtype=tf.int32, name=None), 'ca': TensorSpec(shape=(None,), dtype=tf.int32, name=None), 'thal': TensorSpec(shape=(None,), dtype=tf.string, name=None)}, TensorSpec(shape=(None,), dtype=tf.int32, name=None))\n",
            "Validation dataset: ({'age': TensorSpec(shape=(None,), dtype=tf.int32, name=None), 'sex': TensorSpec(shape=(None,), dtype=tf.int32, name=None), 'cp': TensorSpec(shape=(None,), dtype=tf.int32, name=None), 'trestbps': TensorSpec(shape=(None,), dtype=tf.int32, name=None), 'chol': TensorSpec(shape=(None,), dtype=tf.int32, name=None), 'fbs': TensorSpec(shape=(None,), dtype=tf.int32, name=None), 'restecg': TensorSpec(shape=(None,), dtype=tf.int32, name=None), 'thalach': TensorSpec(shape=(None,), dtype=tf.int32, name=None), 'exang': TensorSpec(shape=(None,), dtype=tf.int32, name=None), 'oldpeak': TensorSpec(shape=(None,), dtype=tf.float32, name=None), 'slope': TensorSpec(shape=(None,), dtype=tf.int32, name=None), 'ca': TensorSpec(shape=(None,), dtype=tf.int32, name=None), 'thal': TensorSpec(shape=(None,), dtype=tf.string, name=None)}, TensorSpec(shape=(None,), dtype=tf.int32, name=None))\n"
          ],
          "name": "stdout"
        }
      ]
    },
    {
      "cell_type": "markdown",
      "metadata": {
        "id": "YNp_zzKGuwdi",
        "colab_type": "text"
      },
      "source": [
        "### Understanding the input pipeline"
      ]
    },
    {
      "cell_type": "code",
      "metadata": {
        "id": "C3ORD8ZeezBw",
        "colab_type": "code",
        "outputId": "7aa546cb-bccf-482e-9ac8-d70fbda02fc5",
        "colab": {
          "base_uri": "https://localhost:8080/",
          "height": 1000
        }
      },
      "source": [
        "for feature_batch, label_batch in train_ds.take(1):\n",
        "  print(f\"Label Batch: {label_batch}\")\n",
        "  print(f\"A batch of feature values: {feature_batch.values()}\")\n",
        "  print(f\"All features: {feature_batch.keys()}\")"
      ],
      "execution_count": 9,
      "outputs": [
        {
          "output_type": "stream",
          "text": [
            "Label Batch: [1 0 0 0 0 1 0 0 0 0 0 0 1 1 0 0 0 0 0 0 0 0 0 0 1 0 0 0 0 0 0 0 0 0 0 0 0\n",
            " 0 0 0 0 0 0 0 0 0 0 0 0 1 0 0 1 0 0 0 1 0 0 1 0 0 0 0]\n",
            "A batch of feature values: dict_values([<tf.Tensor: id=68, shape=(64,), dtype=int32, numpy=\n",
            "array([59, 39, 57, 58, 71, 40, 58, 58, 57, 42, 55, 52, 60, 63, 45, 56, 45,\n",
            "       58, 54, 45, 37, 41, 60, 48, 53, 58, 45, 51, 52, 44, 59, 76, 35, 47,\n",
            "       65, 56, 61, 50, 42, 59, 46, 45, 74, 43, 39, 70, 41, 60, 54, 70, 66,\n",
            "       41, 58, 59, 56, 44, 55, 43, 44, 68, 45, 66, 71, 49], dtype=int32)>, <tf.Tensor: id=76, shape=(64,), dtype=int32, numpy=\n",
            "array([1, 0, 1, 0, 0, 1, 1, 1, 0, 1, 0, 1, 1, 1, 0, 1, 0, 1, 1, 1, 0, 0,\n",
            "       0, 1, 1, 0, 1, 1, 0, 1, 1, 0, 1, 1, 0, 1, 0, 0, 0, 1, 1, 1, 0, 0,\n",
            "       0, 1, 0, 1, 0, 1, 0, 1, 0, 1, 0, 1, 0, 1, 1, 1, 1, 0, 0, 1],\n",
            "      dtype=int32)>, <tf.Tensor: id=71, shape=(64,), dtype=int32, numpy=\n",
            "array([4, 3, 4, 3, 3, 4, 4, 4, 4, 1, 2, 2, 4, 4, 4, 2, 2, 3, 3, 4, 3, 2,\n",
            "       4, 3, 4, 4, 2, 3, 3, 2, 0, 3, 4, 4, 3, 2, 4, 2, 4, 1, 3, 4, 2, 3,\n",
            "       3, 4, 2, 4, 3, 3, 1, 2, 2, 4, 2, 2, 4, 4, 3, 4, 1, 3, 2, 2],\n",
            "      dtype=int32)>, <tf.Tensor: id=80, shape=(64,), dtype=int32, numpy=\n",
            "array([110, 138, 152, 120, 110, 110, 128, 146, 120, 148, 135, 120, 140,\n",
            "       140, 138, 130, 112, 140, 120, 104, 120, 105, 158, 124, 123, 100,\n",
            "       128, 125, 136, 120, 164, 140, 126, 110, 160, 120, 145, 120, 102,\n",
            "       134, 150, 115, 120, 122,  94, 130, 130, 130, 110, 160, 150, 120,\n",
            "       136, 138, 140, 120, 128, 150, 140, 144, 110, 146, 160, 130],\n",
            "      dtype=int32)>, <tf.Tensor: id=70, shape=(64,), dtype=int32, numpy=\n",
            "array([239, 220, 274, 340, 265, 167, 216, 218, 354, 244, 250, 325, 293,\n",
            "       187, 236, 221, 160, 211, 258, 208, 215, 198, 305, 255, 282, 248,\n",
            "       308, 245, 196, 220, 176, 197, 282, 275, 360, 236, 307, 244, 265,\n",
            "       204, 231, 260, 269, 213, 199, 322, 204, 253, 214, 269, 226, 157,\n",
            "       319, 271, 294, 263, 205, 247, 235, 193, 264, 278, 302, 266],\n",
            "      dtype=int32)>, <tf.Tensor: id=73, shape=(64,), dtype=int32, numpy=\n",
            "array([0, 0, 0, 0, 1, 0, 0, 0, 0, 0, 0, 0, 0, 0, 0, 0, 0, 1, 0, 0, 0, 0,\n",
            "       0, 1, 0, 0, 0, 1, 0, 0, 1, 0, 0, 0, 0, 0, 0, 0, 0, 0, 0, 0, 0, 0,\n",
            "       0, 0, 0, 0, 0, 0, 0, 0, 1, 0, 0, 0, 0, 0, 0, 1, 0, 0, 0, 0],\n",
            "      dtype=int32)>, <tf.Tensor: id=75, shape=(64,), dtype=int32, numpy=\n",
            "array([2, 0, 0, 0, 2, 2, 2, 0, 0, 2, 2, 0, 2, 2, 2, 2, 0, 2, 2, 2, 0, 0,\n",
            "       2, 0, 0, 2, 2, 2, 2, 0, 0, 1, 2, 2, 2, 0, 2, 0, 2, 0, 0, 2, 2, 0,\n",
            "       0, 2, 2, 0, 0, 0, 0, 0, 2, 2, 2, 0, 1, 0, 2, 0, 0, 2, 0, 0],\n",
            "      dtype=int32)>, <tf.Tensor: id=79, shape=(64,), dtype=int32, numpy=\n",
            "array([142, 152,  88, 172, 130, 114, 131, 105, 163, 178, 161, 172, 170,\n",
            "       144, 152, 163, 138, 165, 147, 148, 170, 168, 161, 175,  95, 122,\n",
            "       170, 166, 169, 170,  90, 116, 156, 118, 151, 178, 146, 162, 122,\n",
            "       162, 147, 185, 121, 165, 179, 109, 172, 144, 158, 112, 114, 182,\n",
            "       152, 182, 153, 173, 130, 171, 180, 141, 132, 152, 162, 171],\n",
            "      dtype=int32)>, <tf.Tensor: id=72, shape=(64,), dtype=int32, numpy=\n",
            "array([1, 0, 1, 0, 0, 1, 1, 0, 1, 0, 0, 0, 0, 1, 1, 0, 0, 0, 0, 1, 0, 0,\n",
            "       0, 0, 1, 0, 0, 0, 0, 0, 0, 0, 1, 1, 0, 0, 1, 0, 0, 0, 0, 0, 1, 0,\n",
            "       0, 0, 0, 1, 0, 1, 0, 0, 0, 0, 0, 0, 1, 0, 0, 0, 0, 0, 0, 0],\n",
            "      dtype=int32)>, <tf.Tensor: id=74, shape=(64,), dtype=float64, numpy=\n",
            "array([1.2, 0. , 1.2, 0. , 0. , 2. , 2.2, 2. , 0.6, 0.8, 1.4, 0.2, 1.2,\n",
            "       4. , 0.2, 0. , 0. , 0. , 0.4, 3. , 0. , 0. , 0. , 0. , 2. , 1. ,\n",
            "       0. , 2.4, 0.1, 0. , 1. , 1.1, 0. , 1. , 0.8, 0.8, 1. , 1.1, 0.6,\n",
            "       0.8, 3.6, 0. , 0.2, 0.2, 0. , 2.4, 1.4, 1.4, 1.6, 2.9, 2.6, 0. ,\n",
            "       0. , 0. , 1.3, 0. , 2. , 1.5, 0. , 3.4, 1.2, 0. , 0.4, 0.6])>, <tf.Tensor: id=77, shape=(64,), dtype=int32, numpy=\n",
            "array([2, 2, 2, 1, 1, 2, 2, 2, 1, 1, 2, 1, 2, 1, 2, 1, 2, 1, 2, 2, 1, 1,\n",
            "       1, 1, 2, 2, 1, 2, 2, 1, 1, 2, 1, 2, 1, 1, 2, 1, 2, 1, 2, 1, 1, 2,\n",
            "       1, 2, 1, 1, 2, 2, 3, 1, 1, 1, 2, 1, 2, 1, 1, 2, 2, 2, 1, 1],\n",
            "      dtype=int32)>, <tf.Tensor: id=69, shape=(64,), dtype=int32, numpy=\n",
            "array([1, 0, 1, 0, 1, 0, 3, 1, 0, 2, 0, 0, 2, 2, 0, 0, 0, 0, 0, 0, 0, 1,\n",
            "       0, 2, 2, 0, 0, 0, 0, 0, 2, 0, 0, 1, 0, 0, 0, 0, 0, 2, 0, 0, 1, 0,\n",
            "       0, 3, 0, 1, 0, 1, 0, 0, 2, 0, 0, 0, 1, 0, 0, 2, 0, 1, 2, 0],\n",
            "      dtype=int32)>, <tf.Tensor: id=78, shape=(64,), dtype=string, numpy=\n",
            "array([b'reversible', b'normal', b'reversible', b'normal', b'normal',\n",
            "       b'reversible', b'reversible', b'reversible', b'normal', b'normal',\n",
            "       b'normal', b'normal', b'reversible', b'reversible', b'normal',\n",
            "       b'reversible', b'normal', b'normal', b'reversible', b'normal',\n",
            "       b'normal', b'normal', b'normal', b'normal', b'reversible',\n",
            "       b'normal', b'normal', b'normal', b'normal', b'normal', b'1',\n",
            "       b'normal', b'reversible', b'normal', b'normal', b'normal',\n",
            "       b'reversible', b'normal', b'normal', b'normal', b'normal',\n",
            "       b'normal', b'normal', b'normal', b'normal', b'normal', b'normal',\n",
            "       b'reversible', b'normal', b'reversible', b'normal', b'normal',\n",
            "       b'normal', b'normal', b'normal', b'reversible', b'reversible',\n",
            "       b'normal', b'normal', b'reversible', b'reversible', b'normal',\n",
            "       b'normal', b'normal'], dtype=object)>])\n",
            "All features: dict_keys(['age', 'sex', 'cp', 'trestbps', 'chol', 'fbs', 'restecg', 'thalach', 'exang', 'oldpeak', 'slope', 'ca', 'thal'])\n"
          ],
          "name": "stdout"
        }
      ]
    },
    {
      "cell_type": "markdown",
      "metadata": {
        "id": "puM99SfzfY3A",
        "colab_type": "text"
      },
      "source": [
        "### Demonstrate several types of feature columns"
      ]
    },
    {
      "cell_type": "code",
      "metadata": {
        "id": "gEMhUyj7u7Fr",
        "colab_type": "code",
        "colab": {}
      },
      "source": [
        "example_batch = next(iter(train_ds))[0]"
      ],
      "execution_count": 0,
      "outputs": []
    },
    {
      "cell_type": "code",
      "metadata": {
        "id": "9Z1DGjqGvE7E",
        "colab_type": "code",
        "colab": {}
      },
      "source": [
        "def demo(feature_column):\n",
        "    feature_layer = layers.DenseFeatures(feature_column)\n",
        "    print(feature_layer(example_batch).numpy())"
      ],
      "execution_count": 0,
      "outputs": []
    },
    {
      "cell_type": "code",
      "metadata": {
        "id": "lnUn8WXJxF1g",
        "colab_type": "code",
        "outputId": "ab2bb9df-bb28-41ec-c77f-24e3c716fe30",
        "colab": {
          "base_uri": "https://localhost:8080/",
          "height": 1000
        }
      },
      "source": [
        "age = feature_column.numeric_column(\"age\")\n",
        "demo(age)"
      ],
      "execution_count": 12,
      "outputs": [
        {
          "output_type": "stream",
          "text": [
            "WARNING:tensorflow:Layer dense_features is casting an input tensor from dtype float64 to the layer's dtype of float32, which is new behavior in TensorFlow 2.  The layer has dtype float32 because it's dtype defaults to floatx.\n",
            "\n",
            "If you intended to run this layer in float32, you can safely ignore this warning. If in doubt, this warning is likely only an issue if you are porting a TensorFlow 1.X model to TensorFlow 2.\n",
            "\n",
            "To change all layers to have dtype float64 by default, call `tf.keras.backend.set_floatx('float64')`. To change just this layer, pass dtype='float64' to the layer constructor. If you are the author of this layer, you can disable autocasting by passing autocast=False to the base Layer constructor.\n",
            "\n",
            "[[65.]\n",
            " [63.]\n",
            " [57.]\n",
            " [58.]\n",
            " [41.]\n",
            " [42.]\n",
            " [53.]\n",
            " [62.]\n",
            " [60.]\n",
            " [55.]\n",
            " [60.]\n",
            " [62.]\n",
            " [48.]\n",
            " [66.]\n",
            " [59.]\n",
            " [44.]\n",
            " [63.]\n",
            " [58.]\n",
            " [68.]\n",
            " [44.]\n",
            " [41.]\n",
            " [51.]\n",
            " [55.]\n",
            " [63.]\n",
            " [42.]\n",
            " [47.]\n",
            " [46.]\n",
            " [54.]\n",
            " [49.]\n",
            " [44.]\n",
            " [71.]\n",
            " [41.]\n",
            " [67.]\n",
            " [54.]\n",
            " [57.]\n",
            " [63.]\n",
            " [59.]\n",
            " [45.]\n",
            " [54.]\n",
            " [65.]\n",
            " [66.]\n",
            " [54.]\n",
            " [59.]\n",
            " [52.]\n",
            " [65.]\n",
            " [51.]\n",
            " [65.]\n",
            " [45.]\n",
            " [53.]\n",
            " [29.]\n",
            " [58.]\n",
            " [57.]\n",
            " [58.]\n",
            " [64.]\n",
            " [59.]\n",
            " [54.]\n",
            " [56.]\n",
            " [40.]\n",
            " [71.]\n",
            " [49.]\n",
            " [35.]\n",
            " [57.]\n",
            " [57.]\n",
            " [39.]]\n"
          ],
          "name": "stdout"
        }
      ]
    },
    {
      "cell_type": "code",
      "metadata": {
        "id": "BMQUoBDYweVh",
        "colab_type": "code",
        "colab": {}
      },
      "source": [
        "age_buckets = feature_column.bucketized_column(age, boundaries=[18, 25, 30, 40, 45, 50, 55, 65, 70, 85])"
      ],
      "execution_count": 0,
      "outputs": []
    },
    {
      "cell_type": "code",
      "metadata": {
        "id": "znSneWEPx0ey",
        "colab_type": "code",
        "outputId": "308fb316-f911-443d-c64a-d810ed77ebe8",
        "colab": {
          "base_uri": "https://localhost:8080/",
          "height": 1000
        }
      },
      "source": [
        "demo(age_buckets)"
      ],
      "execution_count": 14,
      "outputs": [
        {
          "output_type": "stream",
          "text": [
            "WARNING:tensorflow:Layer dense_features_1 is casting an input tensor from dtype float64 to the layer's dtype of float32, which is new behavior in TensorFlow 2.  The layer has dtype float32 because it's dtype defaults to floatx.\n",
            "\n",
            "If you intended to run this layer in float32, you can safely ignore this warning. If in doubt, this warning is likely only an issue if you are porting a TensorFlow 1.X model to TensorFlow 2.\n",
            "\n",
            "To change all layers to have dtype float64 by default, call `tf.keras.backend.set_floatx('float64')`. To change just this layer, pass dtype='float64' to the layer constructor. If you are the author of this layer, you can disable autocasting by passing autocast=False to the base Layer constructor.\n",
            "\n",
            "[[0. 0. 0. 0. 0. 0. 0. 0. 1. 0. 0.]\n",
            " [0. 0. 0. 0. 0. 0. 0. 1. 0. 0. 0.]\n",
            " [0. 0. 0. 0. 0. 0. 0. 1. 0. 0. 0.]\n",
            " [0. 0. 0. 0. 0. 0. 0. 1. 0. 0. 0.]\n",
            " [0. 0. 0. 0. 1. 0. 0. 0. 0. 0. 0.]\n",
            " [0. 0. 0. 0. 1. 0. 0. 0. 0. 0. 0.]\n",
            " [0. 0. 0. 0. 0. 0. 1. 0. 0. 0. 0.]\n",
            " [0. 0. 0. 0. 0. 0. 0. 1. 0. 0. 0.]\n",
            " [0. 0. 0. 0. 0. 0. 0. 1. 0. 0. 0.]\n",
            " [0. 0. 0. 0. 0. 0. 0. 1. 0. 0. 0.]\n",
            " [0. 0. 0. 0. 0. 0. 0. 1. 0. 0. 0.]\n",
            " [0. 0. 0. 0. 0. 0. 0. 1. 0. 0. 0.]\n",
            " [0. 0. 0. 0. 0. 1. 0. 0. 0. 0. 0.]\n",
            " [0. 0. 0. 0. 0. 0. 0. 0. 1. 0. 0.]\n",
            " [0. 0. 0. 0. 0. 0. 0. 1. 0. 0. 0.]\n",
            " [0. 0. 0. 0. 1. 0. 0. 0. 0. 0. 0.]\n",
            " [0. 0. 0. 0. 0. 0. 0. 1. 0. 0. 0.]\n",
            " [0. 0. 0. 0. 0. 0. 0. 1. 0. 0. 0.]\n",
            " [0. 0. 0. 0. 0. 0. 0. 0. 1. 0. 0.]\n",
            " [0. 0. 0. 0. 1. 0. 0. 0. 0. 0. 0.]\n",
            " [0. 0. 0. 0. 1. 0. 0. 0. 0. 0. 0.]\n",
            " [0. 0. 0. 0. 0. 0. 1. 0. 0. 0. 0.]\n",
            " [0. 0. 0. 0. 0. 0. 0. 1. 0. 0. 0.]\n",
            " [0. 0. 0. 0. 0. 0. 0. 1. 0. 0. 0.]\n",
            " [0. 0. 0. 0. 1. 0. 0. 0. 0. 0. 0.]\n",
            " [0. 0. 0. 0. 0. 1. 0. 0. 0. 0. 0.]\n",
            " [0. 0. 0. 0. 0. 1. 0. 0. 0. 0. 0.]\n",
            " [0. 0. 0. 0. 0. 0. 1. 0. 0. 0. 0.]\n",
            " [0. 0. 0. 0. 0. 1. 0. 0. 0. 0. 0.]\n",
            " [0. 0. 0. 0. 1. 0. 0. 0. 0. 0. 0.]\n",
            " [0. 0. 0. 0. 0. 0. 0. 0. 0. 1. 0.]\n",
            " [0. 0. 0. 0. 1. 0. 0. 0. 0. 0. 0.]\n",
            " [0. 0. 0. 0. 0. 0. 0. 0. 1. 0. 0.]\n",
            " [0. 0. 0. 0. 0. 0. 1. 0. 0. 0. 0.]\n",
            " [0. 0. 0. 0. 0. 0. 0. 1. 0. 0. 0.]\n",
            " [0. 0. 0. 0. 0. 0. 0. 1. 0. 0. 0.]\n",
            " [0. 0. 0. 0. 0. 0. 0. 1. 0. 0. 0.]\n",
            " [0. 0. 0. 0. 0. 1. 0. 0. 0. 0. 0.]\n",
            " [0. 0. 0. 0. 0. 0. 1. 0. 0. 0. 0.]\n",
            " [0. 0. 0. 0. 0. 0. 0. 0. 1. 0. 0.]\n",
            " [0. 0. 0. 0. 0. 0. 0. 0. 1. 0. 0.]\n",
            " [0. 0. 0. 0. 0. 0. 1. 0. 0. 0. 0.]\n",
            " [0. 0. 0. 0. 0. 0. 0. 1. 0. 0. 0.]\n",
            " [0. 0. 0. 0. 0. 0. 1. 0. 0. 0. 0.]\n",
            " [0. 0. 0. 0. 0. 0. 0. 0. 1. 0. 0.]\n",
            " [0. 0. 0. 0. 0. 0. 1. 0. 0. 0. 0.]\n",
            " [0. 0. 0. 0. 0. 0. 0. 0. 1. 0. 0.]\n",
            " [0. 0. 0. 0. 0. 1. 0. 0. 0. 0. 0.]\n",
            " [0. 0. 0. 0. 0. 0. 1. 0. 0. 0. 0.]\n",
            " [0. 0. 1. 0. 0. 0. 0. 0. 0. 0. 0.]\n",
            " [0. 0. 0. 0. 0. 0. 0. 1. 0. 0. 0.]\n",
            " [0. 0. 0. 0. 0. 0. 0. 1. 0. 0. 0.]\n",
            " [0. 0. 0. 0. 0. 0. 0. 1. 0. 0. 0.]\n",
            " [0. 0. 0. 0. 0. 0. 0. 1. 0. 0. 0.]\n",
            " [0. 0. 0. 0. 0. 0. 0. 1. 0. 0. 0.]\n",
            " [0. 0. 0. 0. 0. 0. 1. 0. 0. 0. 0.]\n",
            " [0. 0. 0. 0. 0. 0. 0. 1. 0. 0. 0.]\n",
            " [0. 0. 0. 0. 1. 0. 0. 0. 0. 0. 0.]\n",
            " [0. 0. 0. 0. 0. 0. 0. 0. 0. 1. 0.]\n",
            " [0. 0. 0. 0. 0. 1. 0. 0. 0. 0. 0.]\n",
            " [0. 0. 0. 1. 0. 0. 0. 0. 0. 0. 0.]\n",
            " [0. 0. 0. 0. 0. 0. 0. 1. 0. 0. 0.]\n",
            " [0. 0. 0. 0. 0. 0. 0. 1. 0. 0. 0.]\n",
            " [0. 0. 0. 1. 0. 0. 0. 0. 0. 0. 0.]]\n"
          ],
          "name": "stdout"
        }
      ]
    },
    {
      "cell_type": "code",
      "metadata": {
        "id": "rzu4ddpXx4Hj",
        "colab_type": "code",
        "outputId": "edff706a-cc9f-4dfa-8591-831de4ef06c3",
        "colab": {
          "base_uri": "https://localhost:8080/",
          "height": 1000
        }
      },
      "source": [
        "thal = feature_column.categorical_column_with_vocabulary_list(\n",
        "    'thal', ['fixed', 'normal', 'reversible']\n",
        ")\n",
        "thal_one_hot = feature_column.indicator_column(thal)\n",
        "demo(thal_one_hot)"
      ],
      "execution_count": 15,
      "outputs": [
        {
          "output_type": "stream",
          "text": [
            "WARNING:tensorflow:Layer dense_features_2 is casting an input tensor from dtype float64 to the layer's dtype of float32, which is new behavior in TensorFlow 2.  The layer has dtype float32 because it's dtype defaults to floatx.\n",
            "\n",
            "If you intended to run this layer in float32, you can safely ignore this warning. If in doubt, this warning is likely only an issue if you are porting a TensorFlow 1.X model to TensorFlow 2.\n",
            "\n",
            "To change all layers to have dtype float64 by default, call `tf.keras.backend.set_floatx('float64')`. To change just this layer, pass dtype='float64' to the layer constructor. If you are the author of this layer, you can disable autocasting by passing autocast=False to the base Layer constructor.\n",
            "\n",
            "WARNING:tensorflow:From /usr/local/lib/python3.6/dist-packages/tensorflow_core/python/feature_column/feature_column_v2.py:4276: IndicatorColumn._variable_shape (from tensorflow.python.feature_column.feature_column_v2) is deprecated and will be removed in a future version.\n",
            "Instructions for updating:\n",
            "The old _FeatureColumn APIs are being deprecated. Please use the new FeatureColumn APIs instead.\n",
            "WARNING:tensorflow:From /usr/local/lib/python3.6/dist-packages/tensorflow_core/python/feature_column/feature_column_v2.py:4331: VocabularyListCategoricalColumn._num_buckets (from tensorflow.python.feature_column.feature_column_v2) is deprecated and will be removed in a future version.\n",
            "Instructions for updating:\n",
            "The old _FeatureColumn APIs are being deprecated. Please use the new FeatureColumn APIs instead.\n",
            "[[0. 1. 0.]\n",
            " [0. 0. 1.]\n",
            " [0. 0. 1.]\n",
            " [0. 1. 0.]\n",
            " [0. 0. 1.]\n",
            " [0. 0. 1.]\n",
            " [0. 1. 0.]\n",
            " [0. 0. 1.]\n",
            " [0. 0. 1.]\n",
            " [0. 1. 0.]\n",
            " [0. 0. 1.]\n",
            " [0. 1. 0.]\n",
            " [0. 0. 1.]\n",
            " [0. 1. 0.]\n",
            " [0. 0. 1.]\n",
            " [0. 0. 1.]\n",
            " [0. 1. 0.]\n",
            " [0. 1. 0.]\n",
            " [0. 1. 0.]\n",
            " [1. 0. 0.]\n",
            " [0. 1. 0.]\n",
            " [0. 1. 0.]\n",
            " [0. 0. 1.]\n",
            " [0. 1. 0.]\n",
            " [0. 1. 0.]\n",
            " [0. 1. 0.]\n",
            " [0. 1. 0.]\n",
            " [0. 0. 1.]\n",
            " [0. 0. 1.]\n",
            " [0. 1. 0.]\n",
            " [0. 1. 0.]\n",
            " [0. 1. 0.]\n",
            " [0. 0. 1.]\n",
            " [0. 1. 0.]\n",
            " [0. 0. 1.]\n",
            " [0. 0. 1.]\n",
            " [0. 0. 1.]\n",
            " [0. 0. 1.]\n",
            " [0. 1. 0.]\n",
            " [0. 0. 1.]\n",
            " [0. 1. 0.]\n",
            " [0. 0. 1.]\n",
            " [0. 0. 1.]\n",
            " [0. 0. 1.]\n",
            " [0. 0. 1.]\n",
            " [0. 0. 1.]\n",
            " [0. 1. 0.]\n",
            " [0. 1. 0.]\n",
            " [0. 0. 1.]\n",
            " [0. 1. 0.]\n",
            " [0. 1. 0.]\n",
            " [0. 1. 0.]\n",
            " [0. 1. 0.]\n",
            " [0. 0. 1.]\n",
            " [0. 0. 0.]\n",
            " [0. 1. 0.]\n",
            " [0. 0. 1.]\n",
            " [0. 0. 1.]\n",
            " [0. 1. 0.]\n",
            " [0. 1. 0.]\n",
            " [0. 0. 1.]\n",
            " [0. 1. 0.]\n",
            " [1. 0. 0.]\n",
            " [0. 1. 0.]]\n"
          ],
          "name": "stdout"
        }
      ]
    },
    {
      "cell_type": "code",
      "metadata": {
        "id": "tAt9FC0oyb-j",
        "colab_type": "code",
        "colab": {
          "base_uri": "https://localhost:8080/",
          "height": 1000
        },
        "outputId": "44c7b5a5-376f-4b03-a639-3cc3a59584cd"
      },
      "source": [
        "thal_embedding = feature_column.embedding_column(thal, dimension=10)\n",
        "demo(thal_embedding)"
      ],
      "execution_count": 16,
      "outputs": [
        {
          "output_type": "stream",
          "text": [
            "WARNING:tensorflow:Layer dense_features_3 is casting an input tensor from dtype float64 to the layer's dtype of float32, which is new behavior in TensorFlow 2.  The layer has dtype float32 because it's dtype defaults to floatx.\n",
            "\n",
            "If you intended to run this layer in float32, you can safely ignore this warning. If in doubt, this warning is likely only an issue if you are porting a TensorFlow 1.X model to TensorFlow 2.\n",
            "\n",
            "To change all layers to have dtype float64 by default, call `tf.keras.backend.set_floatx('float64')`. To change just this layer, pass dtype='float64' to the layer constructor. If you are the author of this layer, you can disable autocasting by passing autocast=False to the base Layer constructor.\n",
            "\n",
            "[[ 0.07883181  0.4935395   0.30147004 -0.4979467  -0.1619393   0.09534717\n",
            "   0.02093381  0.31305107  0.21107933  0.39731863]\n",
            " [-0.241402   -0.27333358  0.3484615  -0.07261305 -0.08289272  0.14960644\n",
            "  -0.18578492 -0.12193766  0.303454    0.22694093]\n",
            " [-0.241402   -0.27333358  0.3484615  -0.07261305 -0.08289272  0.14960644\n",
            "  -0.18578492 -0.12193766  0.303454    0.22694093]\n",
            " [ 0.07883181  0.4935395   0.30147004 -0.4979467  -0.1619393   0.09534717\n",
            "   0.02093381  0.31305107  0.21107933  0.39731863]\n",
            " [-0.241402   -0.27333358  0.3484615  -0.07261305 -0.08289272  0.14960644\n",
            "  -0.18578492 -0.12193766  0.303454    0.22694093]\n",
            " [-0.241402   -0.27333358  0.3484615  -0.07261305 -0.08289272  0.14960644\n",
            "  -0.18578492 -0.12193766  0.303454    0.22694093]\n",
            " [ 0.07883181  0.4935395   0.30147004 -0.4979467  -0.1619393   0.09534717\n",
            "   0.02093381  0.31305107  0.21107933  0.39731863]\n",
            " [-0.241402   -0.27333358  0.3484615  -0.07261305 -0.08289272  0.14960644\n",
            "  -0.18578492 -0.12193766  0.303454    0.22694093]\n",
            " [-0.241402   -0.27333358  0.3484615  -0.07261305 -0.08289272  0.14960644\n",
            "  -0.18578492 -0.12193766  0.303454    0.22694093]\n",
            " [ 0.07883181  0.4935395   0.30147004 -0.4979467  -0.1619393   0.09534717\n",
            "   0.02093381  0.31305107  0.21107933  0.39731863]\n",
            " [-0.241402   -0.27333358  0.3484615  -0.07261305 -0.08289272  0.14960644\n",
            "  -0.18578492 -0.12193766  0.303454    0.22694093]\n",
            " [ 0.07883181  0.4935395   0.30147004 -0.4979467  -0.1619393   0.09534717\n",
            "   0.02093381  0.31305107  0.21107933  0.39731863]\n",
            " [-0.241402   -0.27333358  0.3484615  -0.07261305 -0.08289272  0.14960644\n",
            "  -0.18578492 -0.12193766  0.303454    0.22694093]\n",
            " [ 0.07883181  0.4935395   0.30147004 -0.4979467  -0.1619393   0.09534717\n",
            "   0.02093381  0.31305107  0.21107933  0.39731863]\n",
            " [-0.241402   -0.27333358  0.3484615  -0.07261305 -0.08289272  0.14960644\n",
            "  -0.18578492 -0.12193766  0.303454    0.22694093]\n",
            " [-0.241402   -0.27333358  0.3484615  -0.07261305 -0.08289272  0.14960644\n",
            "  -0.18578492 -0.12193766  0.303454    0.22694093]\n",
            " [ 0.07883181  0.4935395   0.30147004 -0.4979467  -0.1619393   0.09534717\n",
            "   0.02093381  0.31305107  0.21107933  0.39731863]\n",
            " [ 0.07883181  0.4935395   0.30147004 -0.4979467  -0.1619393   0.09534717\n",
            "   0.02093381  0.31305107  0.21107933  0.39731863]\n",
            " [ 0.07883181  0.4935395   0.30147004 -0.4979467  -0.1619393   0.09534717\n",
            "   0.02093381  0.31305107  0.21107933  0.39731863]\n",
            " [-0.13960977  0.3034861   0.07609927  0.09650746  0.34850144  0.15599538\n",
            "   0.45231467 -0.03931761  0.03124634 -0.07523303]\n",
            " [ 0.07883181  0.4935395   0.30147004 -0.4979467  -0.1619393   0.09534717\n",
            "   0.02093381  0.31305107  0.21107933  0.39731863]\n",
            " [ 0.07883181  0.4935395   0.30147004 -0.4979467  -0.1619393   0.09534717\n",
            "   0.02093381  0.31305107  0.21107933  0.39731863]\n",
            " [-0.241402   -0.27333358  0.3484615  -0.07261305 -0.08289272  0.14960644\n",
            "  -0.18578492 -0.12193766  0.303454    0.22694093]\n",
            " [ 0.07883181  0.4935395   0.30147004 -0.4979467  -0.1619393   0.09534717\n",
            "   0.02093381  0.31305107  0.21107933  0.39731863]\n",
            " [ 0.07883181  0.4935395   0.30147004 -0.4979467  -0.1619393   0.09534717\n",
            "   0.02093381  0.31305107  0.21107933  0.39731863]\n",
            " [ 0.07883181  0.4935395   0.30147004 -0.4979467  -0.1619393   0.09534717\n",
            "   0.02093381  0.31305107  0.21107933  0.39731863]\n",
            " [ 0.07883181  0.4935395   0.30147004 -0.4979467  -0.1619393   0.09534717\n",
            "   0.02093381  0.31305107  0.21107933  0.39731863]\n",
            " [-0.241402   -0.27333358  0.3484615  -0.07261305 -0.08289272  0.14960644\n",
            "  -0.18578492 -0.12193766  0.303454    0.22694093]\n",
            " [-0.241402   -0.27333358  0.3484615  -0.07261305 -0.08289272  0.14960644\n",
            "  -0.18578492 -0.12193766  0.303454    0.22694093]\n",
            " [ 0.07883181  0.4935395   0.30147004 -0.4979467  -0.1619393   0.09534717\n",
            "   0.02093381  0.31305107  0.21107933  0.39731863]\n",
            " [ 0.07883181  0.4935395   0.30147004 -0.4979467  -0.1619393   0.09534717\n",
            "   0.02093381  0.31305107  0.21107933  0.39731863]\n",
            " [ 0.07883181  0.4935395   0.30147004 -0.4979467  -0.1619393   0.09534717\n",
            "   0.02093381  0.31305107  0.21107933  0.39731863]\n",
            " [-0.241402   -0.27333358  0.3484615  -0.07261305 -0.08289272  0.14960644\n",
            "  -0.18578492 -0.12193766  0.303454    0.22694093]\n",
            " [ 0.07883181  0.4935395   0.30147004 -0.4979467  -0.1619393   0.09534717\n",
            "   0.02093381  0.31305107  0.21107933  0.39731863]\n",
            " [-0.241402   -0.27333358  0.3484615  -0.07261305 -0.08289272  0.14960644\n",
            "  -0.18578492 -0.12193766  0.303454    0.22694093]\n",
            " [-0.241402   -0.27333358  0.3484615  -0.07261305 -0.08289272  0.14960644\n",
            "  -0.18578492 -0.12193766  0.303454    0.22694093]\n",
            " [-0.241402   -0.27333358  0.3484615  -0.07261305 -0.08289272  0.14960644\n",
            "  -0.18578492 -0.12193766  0.303454    0.22694093]\n",
            " [-0.241402   -0.27333358  0.3484615  -0.07261305 -0.08289272  0.14960644\n",
            "  -0.18578492 -0.12193766  0.303454    0.22694093]\n",
            " [ 0.07883181  0.4935395   0.30147004 -0.4979467  -0.1619393   0.09534717\n",
            "   0.02093381  0.31305107  0.21107933  0.39731863]\n",
            " [-0.241402   -0.27333358  0.3484615  -0.07261305 -0.08289272  0.14960644\n",
            "  -0.18578492 -0.12193766  0.303454    0.22694093]\n",
            " [ 0.07883181  0.4935395   0.30147004 -0.4979467  -0.1619393   0.09534717\n",
            "   0.02093381  0.31305107  0.21107933  0.39731863]\n",
            " [-0.241402   -0.27333358  0.3484615  -0.07261305 -0.08289272  0.14960644\n",
            "  -0.18578492 -0.12193766  0.303454    0.22694093]\n",
            " [-0.241402   -0.27333358  0.3484615  -0.07261305 -0.08289272  0.14960644\n",
            "  -0.18578492 -0.12193766  0.303454    0.22694093]\n",
            " [-0.241402   -0.27333358  0.3484615  -0.07261305 -0.08289272  0.14960644\n",
            "  -0.18578492 -0.12193766  0.303454    0.22694093]\n",
            " [-0.241402   -0.27333358  0.3484615  -0.07261305 -0.08289272  0.14960644\n",
            "  -0.18578492 -0.12193766  0.303454    0.22694093]\n",
            " [-0.241402   -0.27333358  0.3484615  -0.07261305 -0.08289272  0.14960644\n",
            "  -0.18578492 -0.12193766  0.303454    0.22694093]\n",
            " [ 0.07883181  0.4935395   0.30147004 -0.4979467  -0.1619393   0.09534717\n",
            "   0.02093381  0.31305107  0.21107933  0.39731863]\n",
            " [ 0.07883181  0.4935395   0.30147004 -0.4979467  -0.1619393   0.09534717\n",
            "   0.02093381  0.31305107  0.21107933  0.39731863]\n",
            " [-0.241402   -0.27333358  0.3484615  -0.07261305 -0.08289272  0.14960644\n",
            "  -0.18578492 -0.12193766  0.303454    0.22694093]\n",
            " [ 0.07883181  0.4935395   0.30147004 -0.4979467  -0.1619393   0.09534717\n",
            "   0.02093381  0.31305107  0.21107933  0.39731863]\n",
            " [ 0.07883181  0.4935395   0.30147004 -0.4979467  -0.1619393   0.09534717\n",
            "   0.02093381  0.31305107  0.21107933  0.39731863]\n",
            " [ 0.07883181  0.4935395   0.30147004 -0.4979467  -0.1619393   0.09534717\n",
            "   0.02093381  0.31305107  0.21107933  0.39731863]\n",
            " [ 0.07883181  0.4935395   0.30147004 -0.4979467  -0.1619393   0.09534717\n",
            "   0.02093381  0.31305107  0.21107933  0.39731863]\n",
            " [-0.241402   -0.27333358  0.3484615  -0.07261305 -0.08289272  0.14960644\n",
            "  -0.18578492 -0.12193766  0.303454    0.22694093]\n",
            " [ 0.          0.          0.          0.          0.          0.\n",
            "   0.          0.          0.          0.        ]\n",
            " [ 0.07883181  0.4935395   0.30147004 -0.4979467  -0.1619393   0.09534717\n",
            "   0.02093381  0.31305107  0.21107933  0.39731863]\n",
            " [-0.241402   -0.27333358  0.3484615  -0.07261305 -0.08289272  0.14960644\n",
            "  -0.18578492 -0.12193766  0.303454    0.22694093]\n",
            " [-0.241402   -0.27333358  0.3484615  -0.07261305 -0.08289272  0.14960644\n",
            "  -0.18578492 -0.12193766  0.303454    0.22694093]\n",
            " [ 0.07883181  0.4935395   0.30147004 -0.4979467  -0.1619393   0.09534717\n",
            "   0.02093381  0.31305107  0.21107933  0.39731863]\n",
            " [ 0.07883181  0.4935395   0.30147004 -0.4979467  -0.1619393   0.09534717\n",
            "   0.02093381  0.31305107  0.21107933  0.39731863]\n",
            " [-0.241402   -0.27333358  0.3484615  -0.07261305 -0.08289272  0.14960644\n",
            "  -0.18578492 -0.12193766  0.303454    0.22694093]\n",
            " [ 0.07883181  0.4935395   0.30147004 -0.4979467  -0.1619393   0.09534717\n",
            "   0.02093381  0.31305107  0.21107933  0.39731863]\n",
            " [-0.13960977  0.3034861   0.07609927  0.09650746  0.34850144  0.15599538\n",
            "   0.45231467 -0.03931761  0.03124634 -0.07523303]\n",
            " [ 0.07883181  0.4935395   0.30147004 -0.4979467  -0.1619393   0.09534717\n",
            "   0.02093381  0.31305107  0.21107933  0.39731863]]\n"
          ],
          "name": "stdout"
        }
      ]
    },
    {
      "cell_type": "code",
      "metadata": {
        "id": "IZcNgVr7y0aZ",
        "colab_type": "code",
        "colab": {
          "base_uri": "https://localhost:8080/",
          "height": 309
        },
        "outputId": "8c173dc2-e357-4a8b-c42b-947a51e781b8"
      },
      "source": [
        "thal_hashed = feature_column.categorical_column_with_hash_bucket(\n",
        "    'thal', hash_bucket_size=1000\n",
        ")\n",
        "demo(feature_column.indicator_column(thal_hashed))"
      ],
      "execution_count": 17,
      "outputs": [
        {
          "output_type": "stream",
          "text": [
            "WARNING:tensorflow:Layer dense_features_4 is casting an input tensor from dtype float64 to the layer's dtype of float32, which is new behavior in TensorFlow 2.  The layer has dtype float32 because it's dtype defaults to floatx.\n",
            "\n",
            "If you intended to run this layer in float32, you can safely ignore this warning. If in doubt, this warning is likely only an issue if you are porting a TensorFlow 1.X model to TensorFlow 2.\n",
            "\n",
            "To change all layers to have dtype float64 by default, call `tf.keras.backend.set_floatx('float64')`. To change just this layer, pass dtype='float64' to the layer constructor. If you are the author of this layer, you can disable autocasting by passing autocast=False to the base Layer constructor.\n",
            "\n",
            "WARNING:tensorflow:From /usr/local/lib/python3.6/dist-packages/tensorflow_core/python/feature_column/feature_column_v2.py:4331: HashedCategoricalColumn._num_buckets (from tensorflow.python.feature_column.feature_column_v2) is deprecated and will be removed in a future version.\n",
            "Instructions for updating:\n",
            "The old _FeatureColumn APIs are being deprecated. Please use the new FeatureColumn APIs instead.\n",
            "[[0. 0. 0. ... 0. 0. 0.]\n",
            " [0. 0. 0. ... 0. 0. 0.]\n",
            " [0. 0. 0. ... 0. 0. 0.]\n",
            " ...\n",
            " [0. 0. 0. ... 0. 0. 0.]\n",
            " [0. 0. 0. ... 0. 0. 0.]\n",
            " [0. 0. 0. ... 0. 0. 0.]]\n"
          ],
          "name": "stdout"
        }
      ]
    },
    {
      "cell_type": "code",
      "metadata": {
        "id": "WrCls9BQoujm",
        "colab_type": "code",
        "colab": {
          "base_uri": "https://localhost:8080/",
          "height": 309
        },
        "outputId": "4091bc5d-e746-4400-9fa8-aa8c027d3e1f"
      },
      "source": [
        "crossed_feature = feature_column.crossed_column([age_buckets, thal], hash_bucket_size=1000)\n",
        "demo(feature_column.indicator_column(crossed_feature))"
      ],
      "execution_count": 18,
      "outputs": [
        {
          "output_type": "stream",
          "text": [
            "WARNING:tensorflow:Layer dense_features_5 is casting an input tensor from dtype float64 to the layer's dtype of float32, which is new behavior in TensorFlow 2.  The layer has dtype float32 because it's dtype defaults to floatx.\n",
            "\n",
            "If you intended to run this layer in float32, you can safely ignore this warning. If in doubt, this warning is likely only an issue if you are porting a TensorFlow 1.X model to TensorFlow 2.\n",
            "\n",
            "To change all layers to have dtype float64 by default, call `tf.keras.backend.set_floatx('float64')`. To change just this layer, pass dtype='float64' to the layer constructor. If you are the author of this layer, you can disable autocasting by passing autocast=False to the base Layer constructor.\n",
            "\n",
            "WARNING:tensorflow:From /usr/local/lib/python3.6/dist-packages/tensorflow_core/python/feature_column/feature_column_v2.py:4331: CrossedColumn._num_buckets (from tensorflow.python.feature_column.feature_column_v2) is deprecated and will be removed in a future version.\n",
            "Instructions for updating:\n",
            "The old _FeatureColumn APIs are being deprecated. Please use the new FeatureColumn APIs instead.\n",
            "[[0. 0. 0. ... 0. 0. 0.]\n",
            " [0. 0. 0. ... 0. 0. 0.]\n",
            " [0. 0. 0. ... 0. 0. 0.]\n",
            " ...\n",
            " [0. 0. 0. ... 0. 0. 0.]\n",
            " [0. 0. 0. ... 0. 0. 0.]\n",
            " [0. 0. 0. ... 0. 0. 0.]]\n"
          ],
          "name": "stdout"
        }
      ]
    },
    {
      "cell_type": "markdown",
      "metadata": {
        "id": "noyWB0IlpDM0",
        "colab_type": "text"
      },
      "source": [
        "### Build a model to train"
      ]
    },
    {
      "cell_type": "markdown",
      "metadata": {
        "id": "rvr0lnf9pTMc",
        "colab_type": "text"
      },
      "source": [
        "#### Create features"
      ]
    },
    {
      "cell_type": "code",
      "metadata": {
        "id": "IZF2XcXMpXa-",
        "colab_type": "code",
        "colab": {}
      },
      "source": [
        "feature_columns = []\n",
        "\n",
        "# numeric cols\n",
        "for header in ['age', 'trestbps', 'chol', 'thalach', 'oldpeak', 'slope', 'ca']:\n",
        "  feature_columns.append(feature_column.numeric_column(header))\n",
        "\n",
        "# bucketized cols\n",
        "age_buckets = feature_column.bucketized_column(age, boundaries=[18, 25, 30, 35, 40, 45, 50, 55, 60, 65])\n",
        "feature_columns.append(age_buckets)\n",
        "\n",
        "# indicator cols\n",
        "thal = feature_column.categorical_column_with_vocabulary_list(\n",
        "      'thal', ['fixed', 'normal', 'reversible'])\n",
        "thal_one_hot = feature_column.indicator_column(thal)\n",
        "feature_columns.append(thal_one_hot)\n",
        "\n",
        "# embedding cols\n",
        "thal_embedding = feature_column.embedding_column(thal, dimension=8)\n",
        "feature_columns.append(thal_embedding)\n",
        "\n",
        "# crossed cols\n",
        "crossed_feature = feature_column.crossed_column([age_buckets, thal], hash_bucket_size=1000)\n",
        "crossed_feature = feature_column.indicator_column(crossed_feature)\n",
        "feature_columns.append(crossed_feature)"
      ],
      "execution_count": 0,
      "outputs": []
    },
    {
      "cell_type": "code",
      "metadata": {
        "id": "TpUNaq40p_48",
        "colab_type": "code",
        "colab": {}
      },
      "source": [
        "feature_layer = tf.keras.layers.DenseFeatures(feature_columns)"
      ],
      "execution_count": 0,
      "outputs": []
    },
    {
      "cell_type": "code",
      "metadata": {
        "id": "RjAX0cYkqV6v",
        "colab_type": "code",
        "colab": {}
      },
      "source": [
        "batch_size = 32\n",
        "train_ds = df_to_dataset(train, batch_size=batch_size)\n",
        "val_ds = df_to_dataset(val, shuffle=False, batch_size=batch_size)\n",
        "test_ds = df_to_dataset(test, shuffle=False, batch_size=batch_size)"
      ],
      "execution_count": 0,
      "outputs": []
    },
    {
      "cell_type": "markdown",
      "metadata": {
        "id": "jfj-Q6yU8qv1",
        "colab_type": "text"
      },
      "source": [
        "#### Build the model"
      ]
    },
    {
      "cell_type": "code",
      "metadata": {
        "id": "UfY4nZe8qtqJ",
        "colab_type": "code",
        "colab": {}
      },
      "source": [
        "model = tf.keras.Sequential([\n",
        "                             feature_layer,\n",
        "                             layers.Dense(128, activation=tf.nn.relu),\n",
        "                             layers.Dense(128,activation=tf.nn.relu),\n",
        "                             layers.Dense(1, activation=tf.nn.sigmoid)\n",
        "])\n",
        "model.compile(optimizer=\"adam\", loss=\"binary_crossentropy\", metrics=[\"accuracy\"])"
      ],
      "execution_count": 0,
      "outputs": []
    },
    {
      "cell_type": "markdown",
      "metadata": {
        "id": "Az8vCfFu81N1",
        "colab_type": "text"
      },
      "source": [
        "#### Train the model"
      ]
    },
    {
      "cell_type": "code",
      "metadata": {
        "id": "-sx_27Ow6SnK",
        "colab_type": "code",
        "colab": {
          "base_uri": "https://localhost:8080/",
          "height": 496
        },
        "outputId": "995b1dfd-5676-483c-a6f4-5f1eff588b3f"
      },
      "source": [
        "model.fit(train_ds, validation_data=val_ds, epochs=10)"
      ],
      "execution_count": 37,
      "outputs": [
        {
          "output_type": "stream",
          "text": [
            "WARNING:tensorflow:Layer sequential_3 is casting an input tensor from dtype float64 to the layer's dtype of float32, which is new behavior in TensorFlow 2.  The layer has dtype float32 because it's dtype defaults to floatx.\n",
            "\n",
            "If you intended to run this layer in float32, you can safely ignore this warning. If in doubt, this warning is likely only an issue if you are porting a TensorFlow 1.X model to TensorFlow 2.\n",
            "\n",
            "To change all layers to have dtype float64 by default, call `tf.keras.backend.set_floatx('float64')`. To change just this layer, pass dtype='float64' to the layer constructor. If you are the author of this layer, you can disable autocasting by passing autocast=False to the base Layer constructor.\n",
            "\n",
            "Epoch 1/10\n",
            "7/7 [==============================] - 2s 252ms/step - loss: 3.9731 - accuracy: 0.6425 - val_loss: 0.0000e+00 - val_accuracy: 0.0000e+00\n",
            "Epoch 2/10\n",
            "7/7 [==============================] - 0s 11ms/step - loss: 3.5020 - accuracy: 0.7668 - val_loss: 1.2585 - val_accuracy: 0.6735\n",
            "Epoch 3/10\n",
            "7/7 [==============================] - 0s 10ms/step - loss: 1.8487 - accuracy: 0.3161 - val_loss: 1.1059 - val_accuracy: 0.6735\n",
            "Epoch 4/10\n",
            "7/7 [==============================] - 0s 9ms/step - loss: 1.2220 - accuracy: 0.7668 - val_loss: 2.1452 - val_accuracy: 0.6735\n",
            "Epoch 5/10\n",
            "7/7 [==============================] - 0s 10ms/step - loss: 0.9204 - accuracy: 0.7565 - val_loss: 0.8557 - val_accuracy: 0.5102\n",
            "Epoch 6/10\n",
            "7/7 [==============================] - 0s 10ms/step - loss: 0.6890 - accuracy: 0.6839 - val_loss: 1.2862 - val_accuracy: 0.6735\n",
            "Epoch 7/10\n",
            "7/7 [==============================] - 0s 11ms/step - loss: 0.6695 - accuracy: 0.7824 - val_loss: 0.9113 - val_accuracy: 0.4898\n",
            "Epoch 8/10\n",
            "7/7 [==============================] - 0s 9ms/step - loss: 0.8533 - accuracy: 0.5855 - val_loss: 0.9112 - val_accuracy: 0.6735\n",
            "Epoch 9/10\n",
            "7/7 [==============================] - 0s 9ms/step - loss: 0.4968 - accuracy: 0.7565 - val_loss: 0.6034 - val_accuracy: 0.6531\n",
            "Epoch 10/10\n",
            "7/7 [==============================] - 0s 8ms/step - loss: 0.4794 - accuracy: 0.7513 - val_loss: 0.6923 - val_accuracy: 0.6735\n"
          ],
          "name": "stdout"
        },
        {
          "output_type": "execute_result",
          "data": {
            "text/plain": [
              "<tensorflow.python.keras.callbacks.History at 0x7f10a47de518>"
            ]
          },
          "metadata": {
            "tags": []
          },
          "execution_count": 37
        }
      ]
    },
    {
      "cell_type": "markdown",
      "metadata": {
        "id": "1279vrkc86aD",
        "colab_type": "text"
      },
      "source": [
        "#### Evaluate the model"
      ]
    },
    {
      "cell_type": "code",
      "metadata": {
        "id": "4OI_eaqE6jPW",
        "colab_type": "code",
        "colab": {
          "base_uri": "https://localhost:8080/",
          "height": 34
        },
        "outputId": "f23ad8a5-9005-42bf-924e-975a68529696"
      },
      "source": [
        "loss, accuracy = model.evaluate(test_ds)"
      ],
      "execution_count": 38,
      "outputs": [
        {
          "output_type": "stream",
          "text": [
            "2/2 [==============================] - 0s 7ms/step - loss: 0.5996 - accuracy: 0.6721\n"
          ],
          "name": "stdout"
        }
      ]
    }
  ]
}