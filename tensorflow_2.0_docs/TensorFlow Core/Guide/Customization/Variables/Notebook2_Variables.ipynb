{
  "nbformat": 4,
  "nbformat_minor": 0,
  "metadata": {
    "colab": {
      "name": "Notebook1-Customization-Variables.ipynb",
      "provenance": [],
      "collapsed_sections": [
        "uQsXMPhdv7co",
        "O1W4YkK4wJcE"
      ],
      "include_colab_link": true
    },
    "kernelspec": {
      "name": "python3",
      "display_name": "Python 3"
    },
    "accelerator": "GPU"
  },
  "cells": [
    {
      "cell_type": "markdown",
      "metadata": {
        "id": "view-in-github",
        "colab_type": "text"
      },
      "source": [
        "<a href=\"https://colab.research.google.com/github/sourcecode369/TensorFlow-2.0/blob/master/tensorflow_2.0_docs/TensorFlow%20Core/Guide/Customization/Variables/Notebook2_Variables.ipynb\" target=\"_parent\"><img src=\"https://colab.research.google.com/assets/colab-badge.svg\" alt=\"Open In Colab\"/></a>"
      ]
    },
    {
      "cell_type": "markdown",
      "metadata": {
        "id": "uQsXMPhdv7co",
        "colab_type": "text"
      },
      "source": [
        "### Importing the dependecies"
      ]
    },
    {
      "cell_type": "code",
      "metadata": {
        "id": "AluaKMWAumil",
        "colab_type": "code",
        "colab": {
          "base_uri": "https://localhost:8080/",
          "height": 51
        },
        "outputId": "8f0003d9-8cee-41f2-afe1-44ca7f091aef"
      },
      "source": [
        "%%time\n",
        "import tempfile\n",
        "import cProfile\n",
        "\n",
        "import tensorflow as tf\n",
        "import tensorflow_datasets as tfds\n",
        "import tensorflow_hub as hub\n",
        "\n",
        "import numpy as np\n",
        "import matplotlib.pyplot as plt"
      ],
      "execution_count": 5,
      "outputs": [
        {
          "output_type": "stream",
          "text": [
            "CPU times: user 298 ms, sys: 25.7 ms, total: 324 ms\n",
            "Wall time: 465 ms\n"
          ],
          "name": "stdout"
        }
      ]
    },
    {
      "cell_type": "code",
      "metadata": {
        "id": "4CgIAeuhu2-Q",
        "colab_type": "code",
        "colab": {
          "base_uri": "https://localhost:8080/",
          "height": 85
        },
        "outputId": "6cd79b7f-4e35-4f0b-f7ce-66a1d8910d5e"
      },
      "source": [
        "%reload_ext tensorboard\n",
        "try: \n",
        "    %tensorflow_version 2.x\n",
        "except:\n",
        "    print(\"Tensorflow 2.0 not found.\")\n",
        "print(tf.__version__)\n",
        "tf.enable_eager_execution()\n",
        "tfds.disable_progress_bar()\n",
        "print(tf.executing_eagerly())\n",
        "if tf.config.experimental.list_physical_devices(\"GPU\"):\n",
        "    print(tf.test.is_gpu_available())"
      ],
      "execution_count": 7,
      "outputs": [
        {
          "output_type": "stream",
          "text": [
            "TensorFlow is already loaded. Please restart the runtime to change versions.\n",
            "1.15.0-rc3\n",
            "True\n",
            "True\n"
          ],
          "name": "stdout"
        }
      ]
    },
    {
      "cell_type": "markdown",
      "metadata": {
        "id": "LnJU2Ummvtz-",
        "colab_type": "text"
      },
      "source": [
        "### Tensorflow Variables"
      ]
    },
    {
      "cell_type": "markdown",
      "metadata": {
        "id": "3mhLKYSuwBQh",
        "colab_type": "text"
      },
      "source": [
        "**A TensorFlow variable is the best way to represent shared, persistent state manipulated by your program.**\n",
        "\n",
        "    Variables are manipulated via the tf.Variable class. A tf.Variable represents a tensor whose value can be changed by running ops on it. Specific ops allow you to read and modify the values of this tensor. Higher level libraries like tf.keras use tf.Variable to store model parameters. This guide covers how to create, update, and manage tf.Variables in TensorFlow."
      ]
    },
    {
      "cell_type": "markdown",
      "metadata": {
        "id": "O1W4YkK4wJcE",
        "colab_type": "text"
      },
      "source": [
        "#### Create a Variable"
      ]
    },
    {
      "cell_type": "code",
      "metadata": {
        "id": "7dXfUvH3wTzb",
        "colab_type": "code",
        "colab": {}
      },
      "source": [
        "my_var = tf.Variable(tf.zeros([1., 2., 3.]))"
      ],
      "execution_count": 0,
      "outputs": []
    },
    {
      "cell_type": "code",
      "metadata": {
        "id": "54tf8e3vwZkU",
        "colab_type": "code",
        "colab": {}
      },
      "source": [
        "with tf.device(\"/device:GPU:0\"):\n",
        "    v = tf.Variable(tf.zeros([10, 10]))"
      ],
      "execution_count": 0,
      "outputs": []
    },
    {
      "cell_type": "markdown",
      "metadata": {
        "id": "k7VKke2Lwr-p",
        "colab_type": "text"
      },
      "source": [
        "#### Using a Variable"
      ]
    },
    {
      "cell_type": "code",
      "metadata": {
        "id": "WU3yst1Pw1OB",
        "colab_type": "code",
        "colab": {}
      },
      "source": [
        "with tf.device(\"/device:GPU:0\"):\n",
        "    v = tf.Variable(tf.zeros([10, 10]))\n",
        "\n",
        "w = v + 1"
      ],
      "execution_count": 0,
      "outputs": []
    },
    {
      "cell_type": "code",
      "metadata": {
        "id": "FlAFt12jxE65",
        "colab_type": "code",
        "colab": {
          "base_uri": "https://localhost:8080/",
          "height": 187
        },
        "outputId": "6e80e8ee-6e0b-4536-d318-a2ab251a205a"
      },
      "source": [
        "w.numpy()"
      ],
      "execution_count": 13,
      "outputs": [
        {
          "output_type": "execute_result",
          "data": {
            "text/plain": [
              "array([[1., 1., 1., 1., 1., 1., 1., 1., 1., 1.],\n",
              "       [1., 1., 1., 1., 1., 1., 1., 1., 1., 1.],\n",
              "       [1., 1., 1., 1., 1., 1., 1., 1., 1., 1.],\n",
              "       [1., 1., 1., 1., 1., 1., 1., 1., 1., 1.],\n",
              "       [1., 1., 1., 1., 1., 1., 1., 1., 1., 1.],\n",
              "       [1., 1., 1., 1., 1., 1., 1., 1., 1., 1.],\n",
              "       [1., 1., 1., 1., 1., 1., 1., 1., 1., 1.],\n",
              "       [1., 1., 1., 1., 1., 1., 1., 1., 1., 1.],\n",
              "       [1., 1., 1., 1., 1., 1., 1., 1., 1., 1.],\n",
              "       [1., 1., 1., 1., 1., 1., 1., 1., 1., 1.]], dtype=float32)"
            ]
          },
          "metadata": {
            "tags": []
          },
          "execution_count": 13
        }
      ]
    },
    {
      "cell_type": "code",
      "metadata": {
        "id": "4rgFXmo6xFZJ",
        "colab_type": "code",
        "colab": {
          "base_uri": "https://localhost:8080/",
          "height": 34
        },
        "outputId": "62035c51-b0ee-46f4-f244-56247bde9d9d"
      },
      "source": [
        "with tf.device(\"/device:GPU:0\"):\n",
        "    v = tf.Variable(0.)\n",
        "\n",
        "v = tf.assign_add(v, 1)\n",
        "print(v.numpy())"
      ],
      "execution_count": 14,
      "outputs": [
        {
          "output_type": "stream",
          "text": [
            "1.0\n"
          ],
          "name": "stdout"
        }
      ]
    },
    {
      "cell_type": "code",
      "metadata": {
        "id": "MflGdVk-xXlg",
        "colab_type": "code",
        "colab": {
          "base_uri": "https://localhost:8080/",
          "height": 51
        },
        "outputId": "d34b7dda-4bec-4a92-def4-97a096cf0385"
      },
      "source": [
        "v = tf.Variable(10.)\n",
        "v = tf.assign_add(v, 1)\n",
        "print(v)\n",
        "print(v.read_value())"
      ],
      "execution_count": 15,
      "outputs": [
        {
          "output_type": "stream",
          "text": [
            "<tf.Variable 'UnreadVariable' shape=() dtype=float32, numpy=11.0>\n",
            "tf.Tensor(11.0, shape=(), dtype=float32)\n"
          ],
          "name": "stdout"
        }
      ]
    },
    {
      "cell_type": "markdown",
      "metadata": {
        "id": "OjfbC9E3xmRn",
        "colab_type": "text"
      },
      "source": [
        "#### Keep Track of Variables"
      ]
    },
    {
      "cell_type": "code",
      "metadata": {
        "id": "cqNogM3wxss2",
        "colab_type": "code",
        "colab": {
          "base_uri": "https://localhost:8080/",
          "height": 34
        },
        "outputId": "81724dac-6b9a-4efd-e1d4-bb150ebc36bf"
      },
      "source": [
        "class MyLayer(tf.keras.layers.Layer):\n",
        "    def __init__(self):\n",
        "        super(MyLayer, self).__init__()\n",
        "        self.my_var = tf.Variable(1.0)\n",
        "        self.my_var_list = [tf.Variable(x) for x in range(10)]\n",
        "\n",
        "class MyOtherLayer(tf.keras.layers.Layer):\n",
        "    def __init__(self):\n",
        "        super(MyOtherLayer, self).__init__()\n",
        "        self.sublayer = MyLayer()\n",
        "        self.my_other_var = tf.Variable(10.0)\n",
        "\n",
        "m = MyOtherLayer()\n",
        "\n",
        "print(len(m.variables))"
      ],
      "execution_count": 17,
      "outputs": [
        {
          "output_type": "stream",
          "text": [
            "12\n"
          ],
          "name": "stdout"
        }
      ]
    },
    {
      "cell_type": "markdown",
      "metadata": {
        "id": "_N1JbOPhyW1W",
        "colab_type": "text"
      },
      "source": [
        "    If you aren't developing a new Layer, TensorFlow also features a more generic tf.Module base class which only implements variable tracking. Instances of tf.Module have a variables and a trainable_variables property which return all (trainable) variables reachable from that model, potentially navigating through other modules (much like the tracking done by the Layer class)."
      ]
    },
    {
      "cell_type": "code",
      "metadata": {
        "id": "pHNdRKF-yi_t",
        "colab_type": "code",
        "colab": {}
      },
      "source": [
        ""
      ],
      "execution_count": 0,
      "outputs": []
    }
  ]
}