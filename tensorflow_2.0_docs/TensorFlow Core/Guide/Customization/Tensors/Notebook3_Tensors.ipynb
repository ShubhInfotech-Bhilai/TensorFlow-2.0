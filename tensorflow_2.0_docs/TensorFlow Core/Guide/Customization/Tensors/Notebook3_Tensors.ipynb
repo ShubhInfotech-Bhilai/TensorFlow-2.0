{
  "nbformat": 4,
  "nbformat_minor": 0,
  "metadata": {
    "colab": {
      "name": "Notebook3_Tensors.ipynb",
      "provenance": [],
      "include_colab_link": true
    },
    "kernelspec": {
      "name": "python3",
      "display_name": "Python 3"
    },
    "accelerator": "GPU"
  },
  "cells": [
    {
      "cell_type": "markdown",
      "metadata": {
        "id": "view-in-github",
        "colab_type": "text"
      },
      "source": [
        "<a href=\"https://colab.research.google.com/github/sourcecode369/TensorFlow-2.0/blob/master/tensorflow_2.0_docs/TensorFlow%20Core/Guide/Customization/Tensors/Notebook3_Tensors.ipynb\" target=\"_parent\"><img src=\"https://colab.research.google.com/assets/colab-badge.svg\" alt=\"Open In Colab\"/></a>"
      ]
    },
    {
      "cell_type": "markdown",
      "metadata": {
        "id": "1FBqJdwI1ODV",
        "colab_type": "text"
      },
      "source": [
        "## Importing the dependencies"
      ]
    },
    {
      "cell_type": "code",
      "metadata": {
        "id": "kSQ35jlBzZAP",
        "colab_type": "code",
        "colab": {
          "base_uri": "https://localhost:8080/",
          "height": 51
        },
        "outputId": "dd35bcba-7fd1-4709-d48a-e4dcf4d71961"
      },
      "source": [
        "%%time\n",
        "import os\n",
        "import cProfile\n",
        "import tempfile\n",
        "\n",
        "import numpy as np\n",
        "import pandas as pd\n",
        "import matplotlib.pyplot as plt\n",
        "%matplotlib inline\n",
        "\n",
        "import tensorflow as tf\n",
        "import tensorflow_datasets as tfds\n",
        "import tensorflow_hub as hub\n",
        "keras = tf.keras"
      ],
      "execution_count": 2,
      "outputs": [
        {
          "output_type": "stream",
          "text": [
            "CPU times: user 299 ms, sys: 27.9 ms, total: 327 ms\n",
            "Wall time: 458 ms\n"
          ],
          "name": "stdout"
        }
      ]
    },
    {
      "cell_type": "code",
      "metadata": {
        "id": "MaaH4cP7ztti",
        "colab_type": "code",
        "colab": {
          "base_uri": "https://localhost:8080/",
          "height": 102
        },
        "outputId": "9311d7cc-f75d-4057-828f-c14b3fba8394"
      },
      "source": [
        "%load_ext tensorboard\n",
        "try:\n",
        "    %tensorflow_version 2.x\n",
        "except:\n",
        "    print(\"Tensorflow not found.\")\n",
        "    \n",
        "print(tf.__version__)\n",
        "tf.enable_eager_execution()\n",
        "print(tf.executing_eagerly())\n",
        "print(tfds.disable_progress_bar())\n",
        "if tf.config.experimental.list_physical_devices(\"GPU\"):\n",
        "    print(tf.test.is_gpu_available())"
      ],
      "execution_count": 3,
      "outputs": [
        {
          "output_type": "stream",
          "text": [
            "TensorFlow is already loaded. Please restart the runtime to change versions.\n",
            "1.15.0-rc3\n",
            "True\n",
            "None\n",
            "True\n"
          ],
          "name": "stdout"
        }
      ]
    },
    {
      "cell_type": "markdown",
      "metadata": {
        "id": "4xHAuekW0Ywo",
        "colab_type": "text"
      },
      "source": [
        "## TensorFlow tensors"
      ]
    },
    {
      "cell_type": "markdown",
      "metadata": {
        "id": "LLwqQJ9K1NLK",
        "colab_type": "text"
      },
      "source": [
        "    TensorFlow, as the name indicates, is a framework to define and run computations involving tensors. A tensor is a generalization of vectors and matrices to potentially higher dimensions. Internally, TensorFlow represents tensors as n-dimensional arrays of base datatypes.\n",
        "\n",
        "    When writing a TensorFlow program, the main object you manipulate and pass around is the tf.Tensor. A tf.Tensor object represents a partially defined computation that will eventually produce a value. TensorFlow programs work by first building a graph of tf.Tensor objects, detailing how each tensor is computed based on the other available tensors and then by running parts of this graph to achieve the desired results.\n",
        "\n",
        "   `A tf.Tensor has the following properties:`\n",
        "\n",
        "* **a data type (float32, int32, or string, for example)**\n",
        "* **a shape**\n",
        "\n",
        "\n",
        "    Each element in the Tensor has the same data type, and the data type is always known. The shape (that is, the number of dimensions it has and the size of each dimension) might be only partially known. Most operations produce tensors of fully-known shapes if the shapes of their inputs are also fully known, but in some cases it's only possible to find the shape of a tensor at graph execution time.\n",
        "\n",
        "    Some types of tensors are special, and these will be covered in other units of the TensorFlow guide. The main ones are:\n",
        "\n",
        "* tf.Variable\n",
        "* tf.constant\n",
        "* tf.placeholder\n",
        "* tf.SparseTensor\n",
        "\n",
        "\n",
        "    With the exception of tf.Variable, the value of a tensor is immutable, which means that in the context of a single execution tensors only have a single value. However, evaluating the same tensor twice can return different values; for example that tensor can be the result of reading data from disk, or generating a random number."
      ]
    },
    {
      "cell_type": "markdown",
      "metadata": {
        "id": "hLoIxS-G1Z_5",
        "colab_type": "text"
      },
      "source": [
        "### Rank"
      ]
    },
    {
      "cell_type": "markdown",
      "metadata": {
        "id": "O7iDWQ7K159P",
        "colab_type": "text"
      },
      "source": [
        "The rank of a tf.Tensor object is its number of dimensions. Synonyms for rank include order or degree or n-dimension. Note that rank in TensorFlow is not the same as matrix rank in mathematics."
      ]
    },
    {
      "cell_type": "markdown",
      "metadata": {
        "id": "yOMvj-jV2W_c",
        "colab_type": "text"
      },
      "source": [
        "#### Rank 0"
      ]
    },
    {
      "cell_type": "code",
      "metadata": {
        "id": "paDVccjk1_ty",
        "colab_type": "code",
        "colab": {}
      },
      "source": [
        "mammal = tf.Variable(\"Elephant\", tf.string)\n",
        "ignition = tf.Variable(451, tf.int16)\n",
        "floating = tf.Variable(3.14159265359, tf.float64)\n",
        "its_complicated = tf.Variable(12.3 - 4.85j, tf.complex64)"
      ],
      "execution_count": 0,
      "outputs": []
    },
    {
      "cell_type": "markdown",
      "metadata": {
        "id": "Bi14z6sA2Ts8",
        "colab_type": "text"
      },
      "source": [
        "#### Rank 1 "
      ]
    },
    {
      "cell_type": "code",
      "metadata": {
        "id": "Y1z_NSAO2bVY",
        "colab_type": "code",
        "colab": {}
      },
      "source": [
        "mystr = tf.Variable([\"Hello\"], tf.string)\n",
        "cool_numbers = tf.Variable([3.14, 2.71], tf.float32)\n",
        "first_primes = tf.Variable([2, 3, 5, 7, 11], tf.int32)\n",
        "its_very_complicated = tf.Variable([12.3-4.85j, 7.5-6.23j], tf.complex64)"
      ],
      "execution_count": 0,
      "outputs": []
    },
    {
      "cell_type": "markdown",
      "metadata": {
        "id": "y0vDoH4820qS",
        "colab_type": "text"
      },
      "source": [
        "#### Higher Ranks"
      ]
    },
    {
      "cell_type": "code",
      "metadata": {
        "id": "uyHFKilL26DA",
        "colab_type": "code",
        "colab": {}
      },
      "source": [
        "mymat = tf.Variable([[7],[11]],tf.int16)\n",
        "myxor = tf.Variable([[False, True],[True, False]], tf.bool)\n",
        "linear_squares = tf.Variable([[4], [9], [16], [25]], tf.int32)\n",
        "squarish_squares = tf.Variable([ [4, 9], [16, 25] ], tf.int32)\n",
        "rank_of_squares = tf.rank(squarish_squares)\n",
        "mymatC = tf.Variable([[7],[11]], tf.int32)"
      ],
      "execution_count": 0,
      "outputs": []
    },
    {
      "cell_type": "code",
      "metadata": {
        "id": "5VSqBf9W3PHo",
        "colab_type": "code",
        "colab": {}
      },
      "source": [
        "my_image = tf.zeros([10,229,229,3])"
      ],
      "execution_count": 0,
      "outputs": []
    },
    {
      "cell_type": "markdown",
      "metadata": {
        "id": "Sv-vsbKE3WYI",
        "colab_type": "text"
      },
      "source": [
        "### Getting a tf.Tensor object's rank"
      ]
    },
    {
      "cell_type": "code",
      "metadata": {
        "id": "m7pTQl453a3Y",
        "colab_type": "code",
        "colab": {}
      },
      "source": [
        "r = tf.rank(my_image)"
      ],
      "execution_count": 0,
      "outputs": []
    },
    {
      "cell_type": "code",
      "metadata": {
        "id": "o41J3UM73fjY",
        "colab_type": "code",
        "colab": {
          "base_uri": "https://localhost:8080/",
          "height": 34
        },
        "outputId": "e48028d2-56fe-4b15-bf10-edb1da2c2729"
      },
      "source": [
        "r"
      ],
      "execution_count": 10,
      "outputs": [
        {
          "output_type": "execute_result",
          "data": {
            "text/plain": [
              "<tf.Tensor: id=99, shape=(), dtype=int32, numpy=4>"
            ]
          },
          "metadata": {
            "tags": []
          },
          "execution_count": 10
        }
      ]
    },
    {
      "cell_type": "markdown",
      "metadata": {
        "id": "YA6Kkssz3fvv",
        "colab_type": "text"
      },
      "source": [
        "### Referring to tf.Tensor slices"
      ]
    },
    {
      "cell_type": "code",
      "metadata": {
        "id": "fEjlO-yn3mGw",
        "colab_type": "code",
        "colab": {}
      },
      "source": [
        "my_scalar = cool_numbers[0]"
      ],
      "execution_count": 0,
      "outputs": []
    },
    {
      "cell_type": "code",
      "metadata": {
        "id": "Jc4Gu__r3vYp",
        "colab_type": "code",
        "colab": {
          "base_uri": "https://localhost:8080/",
          "height": 34
        },
        "outputId": "c4d4d832-f105-4a98-f9d6-792b9d3283e2"
      },
      "source": [
        "print(my_scalar)"
      ],
      "execution_count": 12,
      "outputs": [
        {
          "output_type": "stream",
          "text": [
            "tf.Tensor(3.14, shape=(), dtype=float32)\n"
          ],
          "name": "stdout"
        }
      ]
    },
    {
      "cell_type": "code",
      "metadata": {
        "id": "evfOJIBt3wtQ",
        "colab_type": "code",
        "colab": {}
      },
      "source": [
        "my_scalar = cool_numbers[0:]"
      ],
      "execution_count": 0,
      "outputs": []
    },
    {
      "cell_type": "code",
      "metadata": {
        "id": "pdau4ZNS319Q",
        "colab_type": "code",
        "colab": {
          "base_uri": "https://localhost:8080/",
          "height": 34
        },
        "outputId": "ca199605-e7f8-498e-8d70-86c2a5434a08"
      },
      "source": [
        "my_scalar"
      ],
      "execution_count": 15,
      "outputs": [
        {
          "output_type": "execute_result",
          "data": {
            "text/plain": [
              "<tf.Tensor: id=109, shape=(2,), dtype=float32, numpy=array([3.14, 2.71], dtype=float32)>"
            ]
          },
          "metadata": {
            "tags": []
          },
          "execution_count": 15
        }
      ]
    },
    {
      "cell_type": "markdown",
      "metadata": {
        "id": "i5adbGfv34vo",
        "colab_type": "text"
      },
      "source": [
        "### Shape"
      ]
    },
    {
      "cell_type": "markdown",
      "metadata": {
        "id": "bSDzA4dR38yI",
        "colab_type": "text"
      },
      "source": [
        "#### Changing the shape of a tf.Tensor"
      ]
    },
    {
      "cell_type": "code",
      "metadata": {
        "id": "Kn-F4gRH4tMo",
        "colab_type": "code",
        "colab": {}
      },
      "source": [
        "rank_three_tensor = tf.ones([3, 4, 5])\n",
        "matrix = tf.reshape(rank_three_tensor, [6, 10])  \n",
        "matrixB = tf.reshape(matrix, [3, -1])  \n",
        "matrixAlt = tf.reshape(matrixB, [4, 3, -1])"
      ],
      "execution_count": 0,
      "outputs": []
    },
    {
      "cell_type": "code",
      "metadata": {
        "id": "fi_ZQKz74xS-",
        "colab_type": "code",
        "colab": {}
      },
      "source": [
        "yet_another = tf.reshape(matrixAlt, [13, 2, -1])  # ERROR!"
      ],
      "execution_count": 0,
      "outputs": []
    },
    {
      "cell_type": "markdown",
      "metadata": {
        "id": "zAVejrGo4zOA",
        "colab_type": "text"
      },
      "source": [
        "#### Data Types"
      ]
    },
    {
      "cell_type": "code",
      "metadata": {
        "id": "ddCFPl9V46gA",
        "colab_type": "code",
        "colab": {}
      },
      "source": [
        "float_tensor = tf.cast(tf.constant([1, 2, 3]), dtype=tf.float32)"
      ],
      "execution_count": 0,
      "outputs": []
    },
    {
      "cell_type": "code",
      "metadata": {
        "id": "ZytugiFk4_ro",
        "colab_type": "code",
        "colab": {
          "base_uri": "https://localhost:8080/",
          "height": 34
        },
        "outputId": "a500f4dd-4a62-4cc9-c116-0fa80b72329f"
      },
      "source": [
        "float_tensor.dtype"
      ],
      "execution_count": 19,
      "outputs": [
        {
          "output_type": "execute_result",
          "data": {
            "text/plain": [
              "tf.float32"
            ]
          },
          "metadata": {
            "tags": []
          },
          "execution_count": 19
        }
      ]
    },
    {
      "cell_type": "markdown",
      "metadata": {
        "id": "QZ-pW9iY5DP4",
        "colab_type": "text"
      },
      "source": [
        "#### Evaluate tensors"
      ]
    },
    {
      "cell_type": "code",
      "metadata": {
        "id": "ZXpUjt_J5HY4",
        "colab_type": "code",
        "colab": {}
      },
      "source": [
        "# constant = tf.constant([1, 2, 3])\n",
        "# tensor = constant * constant\n",
        "# print(tensor.eval())"
      ],
      "execution_count": 0,
      "outputs": []
    },
    {
      "cell_type": "code",
      "metadata": {
        "id": "RmMo1hjw5JLo",
        "colab_type": "code",
        "colab": {}
      },
      "source": [
        "# p = tf.placeholder(tf.float32)\n",
        "# t = p + 1.0\n",
        "# t.eval()  # This will fail, since the placeholder did not get a value.\n",
        "# t.eval(feed_dict={p:2.0})"
      ],
      "execution_count": 0,
      "outputs": []
    },
    {
      "cell_type": "markdown",
      "metadata": {
        "id": "gl_wU9pd5Uxf",
        "colab_type": "text"
      },
      "source": [
        "#### Print Tensors"
      ]
    },
    {
      "cell_type": "code",
      "metadata": {
        "id": "HB8EqGhx5ajH",
        "colab_type": "code",
        "colab": {}
      },
      "source": [
        "t = tf.random.uniform([10,10])"
      ],
      "execution_count": 0,
      "outputs": []
    },
    {
      "cell_type": "code",
      "metadata": {
        "id": "2QCB21qO5d2_",
        "colab_type": "code",
        "colab": {
          "base_uri": "https://localhost:8080/",
          "height": 374
        },
        "outputId": "3e0046bb-d249-430b-b4d5-09930f56bbb6"
      },
      "source": [
        "print(t)"
      ],
      "execution_count": 26,
      "outputs": [
        {
          "output_type": "stream",
          "text": [
            "tf.Tensor(\n",
            "[[0.57996917 0.40112615 0.93207014 0.08208466 0.9465785  0.3280046\n",
            "  0.01110685 0.37546265 0.391657   0.23375201]\n",
            " [0.63735056 0.971213   0.08812869 0.17201352 0.14214313 0.12958634\n",
            "  0.19076967 0.27521837 0.7691715  0.46656835]\n",
            " [0.37726378 0.9567082  0.79219663 0.18866777 0.96874416 0.2712617\n",
            "  0.28417206 0.35287035 0.13864458 0.7038201 ]\n",
            " [0.18065095 0.18216634 0.2798388  0.02747536 0.2991867  0.55034184\n",
            "  0.48205173 0.25512886 0.3003174  0.6708776 ]\n",
            " [0.16843629 0.7314701  0.12264884 0.30878448 0.47293818 0.15206158\n",
            "  0.35277152 0.5388968  0.84693575 0.44396973]\n",
            " [0.21508157 0.22140133 0.37425983 0.12554908 0.5542183  0.38817918\n",
            "  0.43499613 0.8004998  0.9315175  0.19422185]\n",
            " [0.28105235 0.74050236 0.3940102  0.32815897 0.9276681  0.213395\n",
            "  0.9862571  0.5906435  0.87877524 0.07087469]\n",
            " [0.94024837 0.7593579  0.6083857  0.4409784  0.70986223 0.62330306\n",
            "  0.21467435 0.29589474 0.4531852  0.8508966 ]\n",
            " [0.51603484 0.38234055 0.7370956  0.70888543 0.46382582 0.59450793\n",
            "  0.7544615  0.40739536 0.8508936  0.59362316]\n",
            " [0.39458036 0.32055056 0.91234624 0.7552285  0.01906085 0.8580731\n",
            "  0.7398703  0.6729044  0.9944036  0.80406606]], shape=(10, 10), dtype=float32)\n"
          ],
          "name": "stdout"
        }
      ]
    },
    {
      "cell_type": "code",
      "metadata": {
        "id": "gvMNzsQb5kC3",
        "colab_type": "code",
        "colab": {
          "base_uri": "https://localhost:8080/",
          "height": 479
        },
        "outputId": "87efdc11-859a-423e-d220-f4ba23d254f1"
      },
      "source": [
        "tf.Print(t, [t])"
      ],
      "execution_count": 27,
      "outputs": [
        {
          "output_type": "stream",
          "text": [
            "WARNING:tensorflow:From <ipython-input-27-68bace99ecab>:1: Print (from tensorflow.python.ops.logging_ops) is deprecated and will be removed after 2018-08-20.\n",
            "Instructions for updating:\n",
            "Use tf.print instead of tf.Print. Note that tf.print returns a no-output operator that directly prints the output. Outside of defuns or eager mode, this operator will not be executed unless it is directly specified in session.run or used as a control dependency for other operators. This is only a concern in graph mode. Below is an example of how to ensure tf.print executes in graph mode:\n",
            "\n"
          ],
          "name": "stdout"
        },
        {
          "output_type": "execute_result",
          "data": {
            "text/plain": [
              "<tf.Tensor: id=134, shape=(10, 10), dtype=float32, numpy=\n",
              "array([[0.57996917, 0.40112615, 0.93207014, 0.08208466, 0.9465785 ,\n",
              "        0.3280046 , 0.01110685, 0.37546265, 0.391657  , 0.23375201],\n",
              "       [0.63735056, 0.971213  , 0.08812869, 0.17201352, 0.14214313,\n",
              "        0.12958634, 0.19076967, 0.27521837, 0.7691715 , 0.46656835],\n",
              "       [0.37726378, 0.9567082 , 0.79219663, 0.18866777, 0.96874416,\n",
              "        0.2712617 , 0.28417206, 0.35287035, 0.13864458, 0.7038201 ],\n",
              "       [0.18065095, 0.18216634, 0.2798388 , 0.02747536, 0.2991867 ,\n",
              "        0.55034184, 0.48205173, 0.25512886, 0.3003174 , 0.6708776 ],\n",
              "       [0.16843629, 0.7314701 , 0.12264884, 0.30878448, 0.47293818,\n",
              "        0.15206158, 0.35277152, 0.5388968 , 0.84693575, 0.44396973],\n",
              "       [0.21508157, 0.22140133, 0.37425983, 0.12554908, 0.5542183 ,\n",
              "        0.38817918, 0.43499613, 0.8004998 , 0.9315175 , 0.19422185],\n",
              "       [0.28105235, 0.74050236, 0.3940102 , 0.32815897, 0.9276681 ,\n",
              "        0.213395  , 0.9862571 , 0.5906435 , 0.87877524, 0.07087469],\n",
              "       [0.94024837, 0.7593579 , 0.6083857 , 0.4409784 , 0.70986223,\n",
              "        0.62330306, 0.21467435, 0.29589474, 0.4531852 , 0.8508966 ],\n",
              "       [0.51603484, 0.38234055, 0.7370956 , 0.70888543, 0.46382582,\n",
              "        0.59450793, 0.7544615 , 0.40739536, 0.8508936 , 0.59362316],\n",
              "       [0.39458036, 0.32055056, 0.91234624, 0.7552285 , 0.01906085,\n",
              "        0.8580731 , 0.7398703 , 0.6729044 , 0.9944036 , 0.80406606]],\n",
              "      dtype=float32)>"
            ]
          },
          "metadata": {
            "tags": []
          },
          "execution_count": 27
        }
      ]
    },
    {
      "cell_type": "code",
      "metadata": {
        "id": "GfazHvmH5n-X",
        "colab_type": "code",
        "colab": {
          "base_uri": "https://localhost:8080/",
          "height": 136
        },
        "outputId": "db37f0d2-8207-46b1-8ea5-f070a0ded7f7"
      },
      "source": [
        "t = tf.Print(t, [t])\n",
        "t = t+1\n",
        "tf.print(t)"
      ],
      "execution_count": 29,
      "outputs": [
        {
          "output_type": "stream",
          "text": [
            "[[2.57996917 2.40112615 2.93207026 ... 2.37546253 2.39165688 2.23375201]\n",
            " [2.63735056 2.97121286 2.08812857 ... 2.27521849 2.76917148 2.46656847]\n",
            " [2.37726378 2.95670819 2.79219675 ... 2.35287046 2.1386447 2.70382023]\n",
            " ...\n",
            " [2.94024849 2.75935793 2.60838556 ... 2.29589462 2.45318508 2.8508966]\n",
            " [2.51603484 2.38234043 2.73709559 ... 2.40739536 2.8508935 2.59362316]\n",
            " [2.39458036 2.32055044 2.91234636 ... 2.67290449 2.9944036 2.80406618]]\n"
          ],
          "name": "stdout"
        }
      ]
    }
  ]
}