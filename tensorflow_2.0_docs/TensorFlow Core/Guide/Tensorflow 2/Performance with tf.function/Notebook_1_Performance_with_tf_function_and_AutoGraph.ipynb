{
  "nbformat": 4,
  "nbformat_minor": 0,
  "metadata": {
    "colab": {
      "name": "Notebook 1 Performance with tf.function and AutoGraph.ipynb",
      "provenance": [],
      "collapsed_sections": [
        "_exjzg0B8_Fz",
        "a9qnV95i80iN",
        "35t5ARxtlSww",
        "8g5iQbx-nDZI",
        "mSz4Tw--oQfm",
        "VbDYZ6vJouAV",
        "lhKWx164xpjJ",
        "kUypElu50unJ",
        "lbQjbSs70yPc",
        "QZJogSTR03Eh",
        "MmJkmRQO2rvm"
      ],
      "include_colab_link": true
    },
    "kernelspec": {
      "name": "python3",
      "display_name": "Python 3"
    },
    "accelerator": "GPU"
  },
  "cells": [
    {
      "cell_type": "markdown",
      "metadata": {
        "id": "view-in-github",
        "colab_type": "text"
      },
      "source": [
        "<a href=\"https://colab.research.google.com/github/sourcecode369/TensorFlow-2.0/blob/master/TensorFlow-2.0/tensorflow_2.0_docs/TensorFlow%20Core/Guide/Tensorflow%202/Performance%20with%20tf.function/Notebook_1_Performance_with_tf_function_and_AutoGraph.ipynb\" target=\"_parent\"><img src=\"https://colab.research.google.com/assets/colab-badge.svg\" alt=\"Open In Colab\"/></a>"
      ]
    },
    {
      "cell_type": "markdown",
      "metadata": {
        "id": "_exjzg0B8_Fz",
        "colab_type": "text"
      },
      "source": [
        "### Install TensorFlow 2.0"
      ]
    },
    {
      "cell_type": "code",
      "metadata": {
        "id": "_X6uaCEwjDE0",
        "colab_type": "code",
        "colab": {
          "base_uri": "https://localhost:8080/",
          "height": 374
        },
        "outputId": "5bf2504b-368d-49d0-aa16-136e40dee76b"
      },
      "source": [
        "!pip install --upgrade tensorflow"
      ],
      "execution_count": 38,
      "outputs": [
        {
          "output_type": "stream",
          "text": [
            "Requirement already up-to-date: tensorflow in /usr/local/lib/python3.6/dist-packages (2.0.0)\n",
            "Requirement already satisfied, skipping upgrade: keras-preprocessing>=1.0.5 in /usr/local/lib/python3.6/dist-packages (from tensorflow) (1.1.0)\n",
            "Requirement already satisfied, skipping upgrade: termcolor>=1.1.0 in /usr/local/lib/python3.6/dist-packages (from tensorflow) (1.1.0)\n",
            "Requirement already satisfied, skipping upgrade: astor>=0.6.0 in /usr/local/lib/python3.6/dist-packages (from tensorflow) (0.8.0)\n",
            "Requirement already satisfied, skipping upgrade: wheel>=0.26 in /usr/local/lib/python3.6/dist-packages (from tensorflow) (0.33.6)\n",
            "Requirement already satisfied, skipping upgrade: numpy<2.0,>=1.16.0 in /usr/local/lib/python3.6/dist-packages (from tensorflow) (1.16.5)\n",
            "Requirement already satisfied, skipping upgrade: protobuf>=3.6.1 in /usr/local/lib/python3.6/dist-packages (from tensorflow) (3.7.1)\n",
            "Requirement already satisfied, skipping upgrade: tensorflow-estimator<2.1.0,>=2.0.0 in /usr/local/lib/python3.6/dist-packages (from tensorflow) (2.0.0)\n",
            "Requirement already satisfied, skipping upgrade: opt-einsum>=2.3.2 in /usr/local/lib/python3.6/dist-packages (from tensorflow) (3.1.0)\n",
            "Requirement already satisfied, skipping upgrade: google-pasta>=0.1.6 in /usr/local/lib/python3.6/dist-packages (from tensorflow) (0.1.7)\n",
            "Requirement already satisfied, skipping upgrade: grpcio>=1.8.6 in /usr/local/lib/python3.6/dist-packages (from tensorflow) (1.15.0)\n",
            "Requirement already satisfied, skipping upgrade: keras-applications>=1.0.8 in /usr/local/lib/python3.6/dist-packages (from tensorflow) (1.0.8)\n",
            "Requirement already satisfied, skipping upgrade: absl-py>=0.7.0 in /usr/local/lib/python3.6/dist-packages (from tensorflow) (0.8.0)\n",
            "Requirement already satisfied, skipping upgrade: gast==0.2.2 in /usr/local/lib/python3.6/dist-packages (from tensorflow) (0.2.2)\n",
            "Requirement already satisfied, skipping upgrade: tensorboard<2.1.0,>=2.0.0 in /usr/local/lib/python3.6/dist-packages (from tensorflow) (2.0.0)\n",
            "Requirement already satisfied, skipping upgrade: six>=1.10.0 in /usr/local/lib/python3.6/dist-packages (from tensorflow) (1.12.0)\n",
            "Requirement already satisfied, skipping upgrade: wrapt>=1.11.1 in /usr/local/lib/python3.6/dist-packages (from tensorflow) (1.11.2)\n",
            "Requirement already satisfied, skipping upgrade: setuptools in /usr/local/lib/python3.6/dist-packages (from protobuf>=3.6.1->tensorflow) (41.2.0)\n",
            "Requirement already satisfied, skipping upgrade: h5py in /usr/local/lib/python3.6/dist-packages (from keras-applications>=1.0.8->tensorflow) (2.8.0)\n",
            "Requirement already satisfied, skipping upgrade: markdown>=2.6.8 in /usr/local/lib/python3.6/dist-packages (from tensorboard<2.1.0,>=2.0.0->tensorflow) (3.1.1)\n",
            "Requirement already satisfied, skipping upgrade: werkzeug>=0.11.15 in /usr/local/lib/python3.6/dist-packages (from tensorboard<2.1.0,>=2.0.0->tensorflow) (0.16.0)\n"
          ],
          "name": "stdout"
        }
      ]
    },
    {
      "cell_type": "markdown",
      "metadata": {
        "id": "a9qnV95i80iN",
        "colab_type": "text"
      },
      "source": [
        "### Importing the dependencies"
      ]
    },
    {
      "cell_type": "code",
      "metadata": {
        "id": "BeH2XAJIhyYw",
        "colab_type": "code",
        "colab": {
          "base_uri": "https://localhost:8080/",
          "height": 51
        },
        "outputId": "03e23c36-900d-4977-c0b6-242131d0aad2"
      },
      "source": [
        "%%time\n",
        "from __future__ import absolute_import, print_function, division, unicode_literals\n",
        "import numpy as np\n",
        "import pandas as pd\n",
        "import seaborn as sns\n",
        "import matplotlib.pyplot as plt\n",
        "import tensorflow as tf\n",
        "import tensorflow_hub as hub\n",
        "import tensorflow_datasets as tfds\n",
        "from tensorflow import keras"
      ],
      "execution_count": 1,
      "outputs": [
        {
          "output_type": "stream",
          "text": [
            "CPU times: user 1.79 s, sys: 171 ms, total: 1.97 s\n",
            "Wall time: 1.97 s\n"
          ],
          "name": "stdout"
        }
      ]
    },
    {
      "cell_type": "code",
      "metadata": {
        "id": "QDpYR_mxidDz",
        "colab_type": "code",
        "colab": {
          "base_uri": "https://localhost:8080/",
          "height": 85
        },
        "outputId": "4f9d0f88-1c18-498c-8f88-ac98d2798ca7"
      },
      "source": [
        "@tf.function\n",
        "def simple_nn_layer(x, y):\n",
        "    return tf.nn.relu(tf.matmul(x, y))\n",
        "\n",
        "x = tf.random.uniform((3,3))\n",
        "y = tf.random.uniform((3,3))\n",
        "\n",
        "simple_nn_layer(x, y)"
      ],
      "execution_count": 2,
      "outputs": [
        {
          "output_type": "execute_result",
          "data": {
            "text/plain": [
              "<tf.Tensor: id=23, shape=(3, 3), dtype=float32, numpy=\n",
              "array([[0.40329936, 1.4176062 , 0.767733  ],\n",
              "       [0.4518067 , 1.1736279 , 0.5299578 ],\n",
              "       [0.09864775, 0.44770142, 0.23018213]], dtype=float32)>"
            ]
          },
          "metadata": {
            "tags": []
          },
          "execution_count": 2
        }
      ]
    },
    {
      "cell_type": "code",
      "metadata": {
        "id": "D7bWCasTjAuj",
        "colab_type": "code",
        "colab": {
          "base_uri": "https://localhost:8080/",
          "height": 34
        },
        "outputId": "aa67d71a-e854-4ddb-a92c-92a5090b2d7a"
      },
      "source": [
        "simple_nn_layer"
      ],
      "execution_count": 3,
      "outputs": [
        {
          "output_type": "execute_result",
          "data": {
            "text/plain": [
              "<tensorflow.python.eager.def_function.Function at 0x7fbce9e4dfd0>"
            ]
          },
          "metadata": {
            "tags": []
          },
          "execution_count": 3
        }
      ]
    },
    {
      "cell_type": "code",
      "metadata": {
        "id": "nT_raMfUjXpX",
        "colab_type": "code",
        "colab": {
          "base_uri": "https://localhost:8080/",
          "height": 34
        },
        "outputId": "0dda2c7a-dd3e-4812-adf0-1c95a16430ff"
      },
      "source": [
        "def linear_layer(x):\n",
        "    return 2 * x + 1\n",
        "\n",
        "@tf.function\n",
        "def deep_net(x):\n",
        "    return tf.nn.relu(linear_layer(x))\n",
        "\n",
        "deep_net(tf.constant((1,2,3)))"
      ],
      "execution_count": 4,
      "outputs": [
        {
          "output_type": "execute_result",
          "data": {
            "text/plain": [
              "<tf.Tensor: id=35, shape=(3,), dtype=int32, numpy=array([3, 5, 7], dtype=int32)>"
            ]
          },
          "metadata": {
            "tags": []
          },
          "execution_count": 4
        }
      ]
    },
    {
      "cell_type": "code",
      "metadata": {
        "id": "aNEXwBc7jsy1",
        "colab_type": "code",
        "colab": {
          "base_uri": "https://localhost:8080/",
          "height": 51
        },
        "outputId": "d6a92bb6-42dc-4289-ca79-644dce66bee8"
      },
      "source": [
        "import timeit\n",
        "conv_layer = tf.keras.layers.Conv2D(100, 3)\n",
        "\n",
        "@tf.function\n",
        "def conv_fn(image):\n",
        "    return conv_layer(image)\n",
        "\n",
        "image = tf.zeros([1,200,200,100])\n",
        "print(\"Eager conv: \", timeit.timeit(lambda: conv_layer(image), number=10))\n",
        "print(\"Function conv: \", timeit.timeit(lambda: conv_fn(image), number=10))"
      ],
      "execution_count": 5,
      "outputs": [
        {
          "output_type": "stream",
          "text": [
            "Eager conv:  1.6871332350001467\n",
            "Function conv:  1.7313378440003362\n"
          ],
          "name": "stdout"
        }
      ]
    },
    {
      "cell_type": "code",
      "metadata": {
        "id": "jKtd1AJTkdQJ",
        "colab_type": "code",
        "colab": {
          "base_uri": "https://localhost:8080/",
          "height": 51
        },
        "outputId": "42dc303c-5b81-4a23-d495-2777aeab2cd8"
      },
      "source": [
        "lstm_cell = tf.keras.layers.LSTMCell(10)\n",
        "\n",
        "@tf.function\n",
        "def lstm_fn(input, state):\n",
        "    return lstm_cell(input, state)\n",
        "\n",
        "input = tf.zeros([10, 10])\n",
        "state = [tf.zeros([10,10])] * 2\n",
        "\n",
        "lstm_cell(input, state)\n",
        "print(\"Eager time: \", timeit.timeit(lambda: lstm_cell(input, state), number=10))\n",
        "print(\"Function lstm: \", timeit.timeit(lambda: lstm_fn(input,state), number=10))"
      ],
      "execution_count": 6,
      "outputs": [
        {
          "output_type": "stream",
          "text": [
            "Eager time:  0.007938158000797557\n",
            "Function lstm:  0.08429268700001558\n"
          ],
          "name": "stdout"
        }
      ]
    },
    {
      "cell_type": "markdown",
      "metadata": {
        "id": "35t5ARxtlSww",
        "colab_type": "text"
      },
      "source": [
        "### Using Python control flow"
      ]
    },
    {
      "cell_type": "code",
      "metadata": {
        "id": "zybhpcCkleQE",
        "colab_type": "code",
        "colab": {
          "base_uri": "https://localhost:8080/",
          "height": 51
        },
        "outputId": "30af8f70-8964-474f-933e-01b442036a49"
      },
      "source": [
        "@tf.function\n",
        "def square_if_positive(x):\n",
        "    if x>0:\n",
        "        x = x * x\n",
        "    else:\n",
        "        x = 0\n",
        "    return x\n",
        "\n",
        "print(\"square_if_positive(2) = {}\".format(square_if_positive(tf.constant(2))))\n",
        "print(\"square_if_positive(-2) = {}\".format(square_if_positive(tf.constant(-2))))"
      ],
      "execution_count": 7,
      "outputs": [
        {
          "output_type": "stream",
          "text": [
            "square_if_positive(2) = 4\n",
            "square_if_positive(-2) = 0\n"
          ],
          "name": "stdout"
        }
      ]
    },
    {
      "cell_type": "code",
      "metadata": {
        "id": "lDOCZrWUl4SL",
        "colab_type": "code",
        "colab": {
          "base_uri": "https://localhost:8080/",
          "height": 34
        },
        "outputId": "e9236e7f-2dd2-4401-e8fa-539ef5086522"
      },
      "source": [
        "@tf.function\n",
        "def sum_even(items):\n",
        "    s = 0\n",
        "    for c in items:\n",
        "        if c % 2 > 0:\n",
        "            continue\n",
        "        s += c\n",
        "    return s\n",
        "\n",
        "sum_even(tf.constant([10, 12, 15, 20]))"
      ],
      "execution_count": 8,
      "outputs": [
        {
          "output_type": "execute_result",
          "data": {
            "text/plain": [
              "<tf.Tensor: id=594, shape=(), dtype=int32, numpy=42>"
            ]
          },
          "metadata": {
            "tags": []
          },
          "execution_count": 8
        }
      ]
    },
    {
      "cell_type": "code",
      "metadata": {
        "id": "9tC3LHhYmRES",
        "colab_type": "code",
        "colab": {
          "base_uri": "https://localhost:8080/",
          "height": 918
        },
        "outputId": "e23ed641-f9af-475b-b74d-c30ebf2b5a69"
      },
      "source": [
        "print(tf.autograph.to_code(sum_even.python_function))"
      ],
      "execution_count": 9,
      "outputs": [
        {
          "output_type": "stream",
          "text": [
            "def tf__sum_even(items):\n",
            "  do_return = False\n",
            "  retval_ = ag__.UndefinedReturnValue()\n",
            "  with ag__.FunctionScope('sum_even', 'sum_even_scope', ag__.ConversionOptions(recursive=True, user_requested=True, optional_features=(), internal_convert_user_code=True)) as sum_even_scope:\n",
            "    s = 0\n",
            "\n",
            "    def get_state_2():\n",
            "      return ()\n",
            "\n",
            "    def set_state_2(_):\n",
            "      pass\n",
            "\n",
            "    def loop_body(iterates, s):\n",
            "      c = iterates\n",
            "      continue_ = False\n",
            "\n",
            "      def get_state():\n",
            "        return ()\n",
            "\n",
            "      def set_state(_):\n",
            "        pass\n",
            "\n",
            "      def if_true():\n",
            "        continue_ = True\n",
            "        return continue_\n",
            "\n",
            "      def if_false():\n",
            "        return continue_\n",
            "      cond = c % 2 > 0\n",
            "      continue_ = ag__.if_stmt(cond, if_true, if_false, get_state, set_state, ('continue_',), ())\n",
            "\n",
            "      def get_state_1():\n",
            "        return ()\n",
            "\n",
            "      def set_state_1(_):\n",
            "        pass\n",
            "\n",
            "      def if_true_1():\n",
            "        s_1, = s,\n",
            "        s_1 += c\n",
            "        return s_1\n",
            "\n",
            "      def if_false_1():\n",
            "        return s\n",
            "      cond_1 = ag__.not_(continue_)\n",
            "      s = ag__.if_stmt(cond_1, if_true_1, if_false_1, get_state_1, set_state_1, ('s',), ())\n",
            "      return s,\n",
            "    s, = ag__.for_stmt(items, None, loop_body, get_state_2, set_state_2, (s,), ('s',), ())\n",
            "    do_return = True\n",
            "    retval_ = sum_even_scope.mark_return_value(s)\n",
            "  do_return,\n",
            "  return ag__.retval(retval_)\n",
            "\n"
          ],
          "name": "stdout"
        }
      ]
    },
    {
      "cell_type": "code",
      "metadata": {
        "id": "ZB7a8qYumhOB",
        "colab_type": "code",
        "colab": {
          "base_uri": "https://localhost:8080/",
          "height": 272
        },
        "outputId": "6769f4ec-a910-4070-807b-d5599d63b55c"
      },
      "source": [
        "@tf.function\n",
        "def fizzbuzz(x):\n",
        "    for i in tf.range(1, x):\n",
        "        if i%3 == 0 and i%5 == 0:\n",
        "            tf.print(\"FizzBuzz\")\n",
        "        elif i%3 == 0:\n",
        "            tf.print(\"Fizz\")\n",
        "        elif i%5 == 0:\n",
        "            tf.print(\"Buzz\", i)\n",
        "        else:\n",
        "            tf.print(i)\n",
        "\n",
        "fizzbuzz(tf.constant(16))"
      ],
      "execution_count": 10,
      "outputs": [
        {
          "output_type": "stream",
          "text": [
            "1\n",
            "2\n",
            "Fizz\n",
            "4\n",
            "Buzz 5\n",
            "Fizz\n",
            "7\n",
            "8\n",
            "Fizz\n",
            "Buzz 10\n",
            "11\n",
            "Fizz\n",
            "13\n",
            "14\n",
            "FizzBuzz\n"
          ],
          "name": "stdout"
        }
      ]
    },
    {
      "cell_type": "markdown",
      "metadata": {
        "id": "8g5iQbx-nDZI",
        "colab_type": "text"
      },
      "source": [
        "### Keras and Autograph"
      ]
    },
    {
      "cell_type": "code",
      "metadata": {
        "id": "w2cdak4fny_8",
        "colab_type": "code",
        "colab": {
          "base_uri": "https://localhost:8080/",
          "height": 51
        },
        "outputId": "ae80c200-effb-4425-d3b6-13b7e893962d"
      },
      "source": [
        "class CustomModel(tf.keras.models.Model):\n",
        "    @tf.function \n",
        "    def call(self, input_data):\n",
        "        if tf.reduce_mean(input_data) > 0:\n",
        "            return input_data \n",
        "        else:\n",
        "            return input_data // 2\n",
        "\n",
        "model = CustomModel()\n",
        "\n",
        "\n",
        "print(model(tf.constant([-10,-20])))\n",
        "print(model(tf.constant([10, 20])))"
      ],
      "execution_count": 11,
      "outputs": [
        {
          "output_type": "stream",
          "text": [
            "tf.Tensor([ -5 -10], shape=(2,), dtype=int32)\n",
            "tf.Tensor([10 20], shape=(2,), dtype=int32)\n"
          ],
          "name": "stdout"
        }
      ]
    },
    {
      "cell_type": "markdown",
      "metadata": {
        "id": "mSz4Tw--oQfm",
        "colab_type": "text"
      },
      "source": [
        "### Side Effects"
      ]
    },
    {
      "cell_type": "code",
      "metadata": {
        "id": "9VR9LC40oe_j",
        "colab_type": "code",
        "colab": {
          "base_uri": "https://localhost:8080/",
          "height": 34
        },
        "outputId": "4e78f5ed-5727-4c6c-ee81-3658332c42df"
      },
      "source": [
        "v = tf.Variable(5)\n",
        "\n",
        "@tf.function\n",
        "def find_next_odd():\n",
        "    v.assign(v+1)\n",
        "    if v%2 == 0:\n",
        "        v.assign(v+1)\n",
        "        tf.print(v)\n",
        "find_next_odd()"
      ],
      "execution_count": 12,
      "outputs": [
        {
          "output_type": "stream",
          "text": [
            "7\n"
          ],
          "name": "stdout"
        }
      ]
    },
    {
      "cell_type": "code",
      "metadata": {
        "id": "VGgmR73UpYOe",
        "colab_type": "code",
        "colab": {
          "base_uri": "https://localhost:8080/",
          "height": 377
        },
        "outputId": "ceb373e9-e094-42be-8248-b91786c6af1c"
      },
      "source": [
        "print(tf.autograph.to_code(find_next_odd.python_function))"
      ],
      "execution_count": 13,
      "outputs": [
        {
          "output_type": "stream",
          "text": [
            "def tf__find_next_odd():\n",
            "  with ag__.FunctionScope('find_next_odd', 'find_next_odd_scope', ag__.ConversionOptions(recursive=True, user_requested=True, optional_features=(), internal_convert_user_code=True)) as find_next_odd_scope:\n",
            "    ag__.converted_call(v.assign, find_next_odd_scope.callopts, (v + 1,), None, find_next_odd_scope)\n",
            "\n",
            "    def get_state():\n",
            "      return ()\n",
            "\n",
            "    def set_state(_):\n",
            "      pass\n",
            "\n",
            "    def if_true():\n",
            "      ag__.converted_call(v.assign, find_next_odd_scope.callopts, (v + 1,), None, find_next_odd_scope)\n",
            "      ag__.converted_call(tf.print, find_next_odd_scope.callopts, (v,), None, find_next_odd_scope)\n",
            "      return ag__.match_staging_level(1, cond)\n",
            "\n",
            "    def if_false():\n",
            "      return ag__.match_staging_level(1, cond)\n",
            "    cond = v % 2 == 0\n",
            "    ag__.if_stmt(cond, if_true, if_false, get_state, set_state, (), ())\n",
            "\n"
          ],
          "name": "stdout"
        }
      ]
    },
    {
      "cell_type": "markdown",
      "metadata": {
        "id": "VbDYZ6vJouAV",
        "colab_type": "text"
      },
      "source": [
        "### Debugging"
      ]
    },
    {
      "cell_type": "code",
      "metadata": {
        "id": "PV2PiEooxS27",
        "colab_type": "code",
        "colab": {}
      },
      "source": [
        "@tf.function\n",
        "def f(x):\n",
        "    if x > 0:\n",
        "        # import pdb\n",
        "        # pdb.set_trace()\n",
        "        x = x + 1\n",
        "    return x\n",
        "\n",
        "tf.config.experimental_run_functions_eagerly(True)\n",
        "\n",
        "f(tf.constant(1))\n",
        "\n",
        "tf.config.experimental_run_functions_eagerly(False)"
      ],
      "execution_count": 0,
      "outputs": []
    },
    {
      "cell_type": "markdown",
      "metadata": {
        "id": "lhKWx164xpjJ",
        "colab_type": "text"
      },
      "source": [
        "### Advanced example: An in-graph training loop"
      ]
    },
    {
      "cell_type": "markdown",
      "metadata": {
        "id": "kUypElu50unJ",
        "colab_type": "text"
      },
      "source": [
        "#### Download Data"
      ]
    },
    {
      "cell_type": "code",
      "metadata": {
        "id": "ZdnXCcPpy8ir",
        "colab_type": "code",
        "colab": {
          "base_uri": "https://localhost:8080/",
          "height": 51
        },
        "outputId": "1a67a156-5d7a-4a89-c639-fc55344c57a2"
      },
      "source": [
        "def prepare_mnist_features_and_labels(x, y):\n",
        "    x = tf.cast(x, tf.float32) / 255.0\n",
        "    y = tf.cast(y, tf.int64)\n",
        "    return x, y\n",
        "\n",
        "def mnist_dataset():\n",
        "    (x, y), _ = tf.keras.datasets.mnist.load_data()\n",
        "    ds = tf.data.Dataset.from_tensor_slices((x, y))\n",
        "    ds = ds.map(prepare_mnist_features_and_labels)\n",
        "    ds = ds.take(20000).shuffle(20000).batch(100)\n",
        "    return ds\n",
        "\n",
        "train_dataset = mnist_dataset()"
      ],
      "execution_count": 16,
      "outputs": [
        {
          "output_type": "stream",
          "text": [
            "Downloading data from https://storage.googleapis.com/tensorflow/tf-keras-datasets/mnist.npz\n",
            "11493376/11490434 [==============================] - 0s 0us/step\n"
          ],
          "name": "stdout"
        }
      ]
    },
    {
      "cell_type": "markdown",
      "metadata": {
        "id": "lbQjbSs70yPc",
        "colab_type": "text"
      },
      "source": [
        "#### Define the model"
      ]
    },
    {
      "cell_type": "code",
      "metadata": {
        "id": "0WCnrhYZzwMB",
        "colab_type": "code",
        "colab": {}
      },
      "source": [
        "model = tf.keras.Sequential([\n",
        "                             tf.keras.layers.Reshape(target_shape=(28*28,), input_shape=(28,28)),\n",
        "                             tf.keras.layers.Dense(512, activation = tf.nn.relu),\n",
        "                             tf.keras.layers.Dense(100, activation=tf.nn.relu),\n",
        "                             tf.keras.layers.Dense(10, activation=tf.nn.softmax)\n",
        "])\n",
        "model.build()\n",
        "optimizer = tf.keras.optimizers.Adam(learning_rate=0.001)\n",
        "compute_loss = tf.keras.losses.SparseCategoricalCrossentropy(from_logits=True)\n",
        "compute_accuracy = tf.keras.metrics.SparseCategoricalAccuracy()"
      ],
      "execution_count": 0,
      "outputs": []
    },
    {
      "cell_type": "code",
      "metadata": {
        "id": "Jg5zYCYM0inS",
        "colab_type": "code",
        "colab": {
          "base_uri": "https://localhost:8080/",
          "height": 289
        },
        "outputId": "5c21a941-b71a-4729-8bfc-68b08b517e19"
      },
      "source": [
        "model.summary()"
      ],
      "execution_count": 27,
      "outputs": [
        {
          "output_type": "stream",
          "text": [
            "Model: \"sequential_2\"\n",
            "_________________________________________________________________\n",
            "Layer (type)                 Output Shape              Param #   \n",
            "=================================================================\n",
            "reshape_4 (Reshape)          (None, 784)               0         \n",
            "_________________________________________________________________\n",
            "dense_8 (Dense)              (None, 512)               401920    \n",
            "_________________________________________________________________\n",
            "dense_9 (Dense)              (None, 100)               51300     \n",
            "_________________________________________________________________\n",
            "dense_10 (Dense)             (None, 10)                1010      \n",
            "=================================================================\n",
            "Total params: 454,230\n",
            "Trainable params: 454,230\n",
            "Non-trainable params: 0\n",
            "_________________________________________________________________\n"
          ],
          "name": "stdout"
        }
      ]
    },
    {
      "cell_type": "markdown",
      "metadata": {
        "id": "QZJogSTR03Eh",
        "colab_type": "text"
      },
      "source": [
        "#### Define the training loop"
      ]
    },
    {
      "cell_type": "code",
      "metadata": {
        "id": "2bNx_ifg0rG5",
        "colab_type": "code",
        "colab": {
          "base_uri": "https://localhost:8080/",
          "height": 374
        },
        "outputId": "0b234ed0-3b2c-41dc-f0a7-05852e8d6165"
      },
      "source": [
        "compute_loss = tf.keras.losses.SparseCategoricalCrossentropy(from_logits=True)\n",
        "\n",
        "compute_accuracy = tf.keras.metrics.SparseCategoricalAccuracy()\n",
        "\n",
        "\n",
        "def train_one_step(model, optimizer, x, y):\n",
        "  with tf.GradientTape() as tape:\n",
        "    logits = model(x)\n",
        "    loss = compute_loss(y, logits)\n",
        "\n",
        "  grads = tape.gradient(loss, model.trainable_variables)\n",
        "  optimizer.apply_gradients(zip(grads, model.trainable_variables))\n",
        "\n",
        "  compute_accuracy(y, logits)\n",
        "  return loss\n",
        "\n",
        "\n",
        "@tf.function\n",
        "def train(model, optimizer):\n",
        "  train_ds = mnist_dataset()\n",
        "  step = 0\n",
        "  loss = 0.0\n",
        "  accuracy = 0.0\n",
        "  for x, y in train_ds:\n",
        "    step += 1\n",
        "    loss = train_one_step(model, optimizer, x, y)\n",
        "    if step % 10 == 0:\n",
        "      tf.print('Step', step, ': loss', loss, '; accuracy', compute_accuracy.result())\n",
        "  return step, loss, accuracy\n",
        "\n",
        "step, loss, accuracy = train(model, optimizer)\n",
        "print('Final step', step, ': loss', loss, '; accuracy', compute_accuracy.result())"
      ],
      "execution_count": 33,
      "outputs": [
        {
          "output_type": "stream",
          "text": [
            "Step 10 : loss 1.50843143 ; accuracy 0.936\n",
            "Step 20 : loss 1.50985682 ; accuracy 0.936\n",
            "Step 30 : loss 1.55877042 ; accuracy 0.935\n",
            "Step 40 : loss 1.53059983 ; accuracy 0.93675\n",
            "Step 50 : loss 1.5172925 ; accuracy 0.935\n",
            "Step 60 : loss 1.55291426 ; accuracy 0.936333358\n",
            "Step 70 : loss 1.5751375 ; accuracy 0.9342857\n",
            "Step 80 : loss 1.52663743 ; accuracy 0.933625\n",
            "Step 90 : loss 1.52319646 ; accuracy 0.933666646\n",
            "Step 100 : loss 1.54023981 ; accuracy 0.9356\n",
            "Step 110 : loss 1.57837367 ; accuracy 0.935454547\n",
            "Step 120 : loss 1.48585784 ; accuracy 0.937083304\n",
            "Step 130 : loss 1.51173854 ; accuracy 0.937769234\n",
            "Step 140 : loss 1.57104969 ; accuracy 0.937857151\n",
            "Step 150 : loss 1.51294267 ; accuracy 0.938733339\n",
            "Step 160 : loss 1.53978884 ; accuracy 0.938812494\n",
            "Step 170 : loss 1.48750949 ; accuracy 0.938588262\n",
            "Step 180 : loss 1.50173604 ; accuracy 0.938888907\n",
            "Step 190 : loss 1.51377773 ; accuracy 0.939684212\n",
            "Step 200 : loss 1.51598048 ; accuracy 0.94005\n",
            "Final step tf.Tensor(200, shape=(), dtype=int32) : loss tf.Tensor(1.5159805, shape=(), dtype=float32) ; accuracy tf.Tensor(0.94005, shape=(), dtype=float32)\n"
          ],
          "name": "stdout"
        }
      ]
    },
    {
      "cell_type": "markdown",
      "metadata": {
        "id": "MmJkmRQO2rvm",
        "colab_type": "text"
      },
      "source": [
        "### Batching"
      ]
    },
    {
      "cell_type": "code",
      "metadata": {
        "id": "n3-e8e3I7X_C",
        "colab_type": "code",
        "colab": {
          "base_uri": "https://localhost:8080/",
          "height": 34
        },
        "outputId": "523b985f-2c94-43cf-85f9-61cb0c34f295"
      },
      "source": [
        "def square_if_positive(x):\n",
        "    return [i**2 if i>0 else i for i in x]\n",
        "\n",
        "square_if_positive(range(-10, 10))"
      ],
      "execution_count": 34,
      "outputs": [
        {
          "output_type": "execute_result",
          "data": {
            "text/plain": [
              "[-10, -9, -8, -7, -6, -5, -4, -3, -2, -1, 0, 1, 4, 9, 16, 25, 36, 49, 64, 81]"
            ]
          },
          "metadata": {
            "tags": []
          },
          "execution_count": 34
        }
      ]
    },
    {
      "cell_type": "code",
      "metadata": {
        "id": "_vFKLVSy7xgM",
        "colab_type": "code",
        "colab": {
          "base_uri": "https://localhost:8080/",
          "height": 34
        },
        "outputId": "c5426471-828f-4ee3-8740-a2c151eb19f3"
      },
      "source": [
        "@tf.function\n",
        "def square_if_positive(x):\n",
        "    result = tf.TensorArray(tf.int32, size=x.shape[0])\n",
        "    for i in tf.range(x.shape[0]):\n",
        "        if x[i] > 0:\n",
        "            result = result.write(i, x[i]**2)\n",
        "        else:\n",
        "            result = result.write(i, x[i])\n",
        "    return result.stack()\n",
        "\n",
        "square_if_positive(tf.range(-5,5))"
      ],
      "execution_count": 36,
      "outputs": [
        {
          "output_type": "execute_result",
          "data": {
            "text/plain": [
              "<tf.Tensor: id=3180, shape=(10,), dtype=int32, numpy=array([-5, -4, -3, -2, -1,  0,  1,  4,  9, 16], dtype=int32)>"
            ]
          },
          "metadata": {
            "tags": []
          },
          "execution_count": 36
        }
      ]
    },
    {
      "cell_type": "code",
      "metadata": {
        "id": "j2Uj21j_8ZIQ",
        "colab_type": "code",
        "colab": {
          "base_uri": "https://localhost:8080/",
          "height": 68
        },
        "outputId": "82ead621-9b7b-4206-c112-52ef5f254cda"
      },
      "source": [
        "def square_if_positive(x):\n",
        "    return tf.where(x>0, x**2, x)\n",
        "\n",
        "square_if_positive(tf.range(-10,10))"
      ],
      "execution_count": 37,
      "outputs": [
        {
          "output_type": "execute_result",
          "data": {
            "text/plain": [
              "<tf.Tensor: id=3189, shape=(20,), dtype=int32, numpy=\n",
              "array([-10,  -9,  -8,  -7,  -6,  -5,  -4,  -3,  -2,  -1,   0,   1,   4,\n",
              "         9,  16,  25,  36,  49,  64,  81], dtype=int32)>"
            ]
          },
          "metadata": {
            "tags": []
          },
          "execution_count": 37
        }
      ]
    }
  ]
}