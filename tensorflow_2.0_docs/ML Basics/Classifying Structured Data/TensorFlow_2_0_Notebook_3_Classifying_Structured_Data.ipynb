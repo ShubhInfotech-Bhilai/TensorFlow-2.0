{
  "nbformat": 4,
  "nbformat_minor": 0,
  "metadata": {
    "colab": {
      "name": "TensorFlow-2.0-Notebook-3-Classifying Structured Data.ipynb",
      "version": "0.3.2",
      "provenance": []
    },
    "kernelspec": {
      "name": "python3",
      "display_name": "Python 3"
    },
    "accelerator": "GPU"
  },
  "cells": [
    {
      "cell_type": "markdown",
      "metadata": {
        "id": "aFsW8xO_OFJO",
        "colab_type": "text"
      },
      "source": [
        "### Importing TensorFlow and dependencies"
      ]
    },
    {
      "cell_type": "code",
      "metadata": {
        "id": "bvVo-FgAIphi",
        "colab_type": "code",
        "colab": {
          "base_uri": "https://localhost:8080/",
          "height": 145
        },
        "outputId": "2014fa4e-ee96-4189-f08b-22edfb9bc07a"
      },
      "source": [
        "%%time \n",
        "from __future__ import absolute_import, print_function, division, unicode_literals\n",
        "\n",
        "import numpy as np\n",
        "import pandas as pd\n",
        "\n",
        "try:\n",
        "  %tensorflow_version 2.x\n",
        "  print(\"TensorFlow is up and running.\")\n",
        "except:\n",
        "  print(\"TensorFlow NOT FOUND.\")\n",
        "\n",
        "import tensorflow as tf\n",
        "from tensorflow import feature_column\n",
        "from tensorflow.keras import layers\n",
        "from sklearn.model_selection import train_test_split\n",
        "\n",
        "print(\"TensorFlow Version: \",tf.__version__)\n",
        "print(\"Eager Execution Enabled: \",tf.executing_eagerly())\n",
        "print(\"GPU is\", \"avaliable\" if tf.test.is_gpu_available() else \"not available\")\n",
        "\n",
        "import warnings\n",
        "warnings.filterwarnings(\"ignore\")\n",
        "\n",
        "print(\"Done.!\")"
      ],
      "execution_count": 24,
      "outputs": [
        {
          "output_type": "stream",
          "text": [
            "TensorFlow is up and running.\n",
            "TensorFlow Version:  2.0.0-rc0\n",
            "Eager Execution Enabled:  True\n",
            "GPU is avaliable\n",
            "Done.!\n",
            "CPU times: user 5.93 ms, sys: 3 ms, total: 8.93 ms\n",
            "Wall time: 13.3 ms\n"
          ],
          "name": "stdout"
        }
      ]
    },
    {
      "cell_type": "markdown",
      "metadata": {
        "id": "h9My0SEIOLS9",
        "colab_type": "text"
      },
      "source": [
        "### Loading the Dataset"
      ]
    },
    {
      "cell_type": "code",
      "metadata": {
        "id": "vBWi1xBwI26y",
        "colab_type": "code",
        "colab": {
          "base_uri": "https://localhost:8080/",
          "height": 198
        },
        "outputId": "a1411eb1-012f-44ce-f296-20c5ff832e01"
      },
      "source": [
        "URL = 'https://storage.googleapis.com/applied-dl/heart.csv'\n",
        "df_raw = pd.read_csv(URL)\n",
        "df_raw.head()"
      ],
      "execution_count": 25,
      "outputs": [
        {
          "output_type": "execute_result",
          "data": {
            "text/html": [
              "<div>\n",
              "<style scoped>\n",
              "    .dataframe tbody tr th:only-of-type {\n",
              "        vertical-align: middle;\n",
              "    }\n",
              "\n",
              "    .dataframe tbody tr th {\n",
              "        vertical-align: top;\n",
              "    }\n",
              "\n",
              "    .dataframe thead th {\n",
              "        text-align: right;\n",
              "    }\n",
              "</style>\n",
              "<table border=\"1\" class=\"dataframe\">\n",
              "  <thead>\n",
              "    <tr style=\"text-align: right;\">\n",
              "      <th></th>\n",
              "      <th>age</th>\n",
              "      <th>sex</th>\n",
              "      <th>cp</th>\n",
              "      <th>trestbps</th>\n",
              "      <th>chol</th>\n",
              "      <th>fbs</th>\n",
              "      <th>restecg</th>\n",
              "      <th>thalach</th>\n",
              "      <th>exang</th>\n",
              "      <th>oldpeak</th>\n",
              "      <th>slope</th>\n",
              "      <th>ca</th>\n",
              "      <th>thal</th>\n",
              "      <th>target</th>\n",
              "    </tr>\n",
              "  </thead>\n",
              "  <tbody>\n",
              "    <tr>\n",
              "      <th>0</th>\n",
              "      <td>63</td>\n",
              "      <td>1</td>\n",
              "      <td>1</td>\n",
              "      <td>145</td>\n",
              "      <td>233</td>\n",
              "      <td>1</td>\n",
              "      <td>2</td>\n",
              "      <td>150</td>\n",
              "      <td>0</td>\n",
              "      <td>2.3</td>\n",
              "      <td>3</td>\n",
              "      <td>0</td>\n",
              "      <td>fixed</td>\n",
              "      <td>0</td>\n",
              "    </tr>\n",
              "    <tr>\n",
              "      <th>1</th>\n",
              "      <td>67</td>\n",
              "      <td>1</td>\n",
              "      <td>4</td>\n",
              "      <td>160</td>\n",
              "      <td>286</td>\n",
              "      <td>0</td>\n",
              "      <td>2</td>\n",
              "      <td>108</td>\n",
              "      <td>1</td>\n",
              "      <td>1.5</td>\n",
              "      <td>2</td>\n",
              "      <td>3</td>\n",
              "      <td>normal</td>\n",
              "      <td>1</td>\n",
              "    </tr>\n",
              "    <tr>\n",
              "      <th>2</th>\n",
              "      <td>67</td>\n",
              "      <td>1</td>\n",
              "      <td>4</td>\n",
              "      <td>120</td>\n",
              "      <td>229</td>\n",
              "      <td>0</td>\n",
              "      <td>2</td>\n",
              "      <td>129</td>\n",
              "      <td>1</td>\n",
              "      <td>2.6</td>\n",
              "      <td>2</td>\n",
              "      <td>2</td>\n",
              "      <td>reversible</td>\n",
              "      <td>0</td>\n",
              "    </tr>\n",
              "    <tr>\n",
              "      <th>3</th>\n",
              "      <td>37</td>\n",
              "      <td>1</td>\n",
              "      <td>3</td>\n",
              "      <td>130</td>\n",
              "      <td>250</td>\n",
              "      <td>0</td>\n",
              "      <td>0</td>\n",
              "      <td>187</td>\n",
              "      <td>0</td>\n",
              "      <td>3.5</td>\n",
              "      <td>3</td>\n",
              "      <td>0</td>\n",
              "      <td>normal</td>\n",
              "      <td>0</td>\n",
              "    </tr>\n",
              "    <tr>\n",
              "      <th>4</th>\n",
              "      <td>41</td>\n",
              "      <td>0</td>\n",
              "      <td>2</td>\n",
              "      <td>130</td>\n",
              "      <td>204</td>\n",
              "      <td>0</td>\n",
              "      <td>2</td>\n",
              "      <td>172</td>\n",
              "      <td>0</td>\n",
              "      <td>1.4</td>\n",
              "      <td>1</td>\n",
              "      <td>0</td>\n",
              "      <td>normal</td>\n",
              "      <td>0</td>\n",
              "    </tr>\n",
              "  </tbody>\n",
              "</table>\n",
              "</div>"
            ],
            "text/plain": [
              "   age  sex  cp  trestbps  chol  ...  oldpeak  slope  ca        thal  target\n",
              "0   63    1   1       145   233  ...      2.3      3   0       fixed       0\n",
              "1   67    1   4       160   286  ...      1.5      2   3      normal       1\n",
              "2   67    1   4       120   229  ...      2.6      2   2  reversible       0\n",
              "3   37    1   3       130   250  ...      3.5      3   0      normal       0\n",
              "4   41    0   2       130   204  ...      1.4      1   0      normal       0\n",
              "\n",
              "[5 rows x 14 columns]"
            ]
          },
          "metadata": {
            "tags": []
          },
          "execution_count": 25
        }
      ]
    },
    {
      "cell_type": "code",
      "metadata": {
        "id": "aK1WXbaaKkEc",
        "colab_type": "code",
        "colab": {
          "base_uri": "https://localhost:8080/",
          "height": 72
        },
        "outputId": "58484be6-3d42-4c16-d46c-50740d974d65"
      },
      "source": [
        "train, test = train_test_split(df_raw, test_size=0.2)\n",
        "train, val = train_test_split(train, test_size=0.2)\n",
        "print(len(train),\"Train Samples.\")\n",
        "print(len(test),\"Test Samples.\")\n",
        "print(len(val),\"Validation Samples.\")"
      ],
      "execution_count": 26,
      "outputs": [
        {
          "output_type": "stream",
          "text": [
            "193 Train Samples.\n",
            "61 Test Samples.\n",
            "49 Validation Samples.\n"
          ],
          "name": "stdout"
        }
      ]
    },
    {
      "cell_type": "markdown",
      "metadata": {
        "id": "ZUCaZKz5LOrS",
        "colab_type": "text"
      },
      "source": [
        "### Create an Input Pipeline using tf.data"
      ]
    },
    {
      "cell_type": "markdown",
      "metadata": {
        "id": "eEHFBYVoLXR3",
        "colab_type": "text"
      },
      "source": [
        "Next, we will wrap the dataframes with tf.data. This will enable us to use feature columns as a bridge to map from the columns in the Pandas dataframe to features used to train the model. If we were working with a very large CSV file (so large that it does not fit into memory), we would use tf.data to read it from disk directly. That is not covered in this tutorial."
      ]
    },
    {
      "cell_type": "code",
      "metadata": {
        "id": "Vo1wsBagK6U0",
        "colab_type": "code",
        "colab": {}
      },
      "source": [
        "def df_to_dataset(dataframe, shuffle=True, batch_size=32):\n",
        "  dataframe = dataframe.copy()\n",
        "  labels = dataframe.pop('target')\n",
        "  ds = tf.data.Dataset.from_tensor_slices((dict(dataframe),labels))\n",
        "  if shuffle:\n",
        "    ds = ds.shuffle(buffer_size=len(dataframe))\n",
        "  ds = ds.batch(batch_size)\n",
        "  return ds"
      ],
      "execution_count": 0,
      "outputs": []
    },
    {
      "cell_type": "code",
      "metadata": {
        "id": "E2cWY2DYMRhs",
        "colab_type": "code",
        "colab": {}
      },
      "source": [
        "batch_size = 5\n",
        "train_ds = df_to_dataset(train, batch_size=batch_size)\n",
        "val_ds = df_to_dataset(val, shuffle=False, batch_size=batch_size)\n",
        "test_ds = df_to_dataset(test, shuffle=False, batch_size=batch_size)"
      ],
      "execution_count": 0,
      "outputs": []
    },
    {
      "cell_type": "code",
      "metadata": {
        "id": "yvVfqoOaM9Wl",
        "colab_type": "code",
        "colab": {
          "base_uri": "https://localhost:8080/",
          "height": 0
        },
        "outputId": "e0eefcd4-f888-4e04-ddac-1e5595f6007a"
      },
      "source": [
        "for feature_batch, label_batch in train_ds.take(1):\n",
        "  print(\"Every feature: \", list(feature_batch.keys()))\n",
        "  print(\"A batch of ages: \", feature_batch['age'])\n",
        "  print(\"A batch of targets: \",label_batch)"
      ],
      "execution_count": 29,
      "outputs": [
        {
          "output_type": "stream",
          "text": [
            "Every feature:  ['age', 'sex', 'cp', 'trestbps', 'chol', 'fbs', 'restecg', 'thalach', 'exang', 'oldpeak', 'slope', 'ca', 'thal']\n",
            "A batch of ages:  tf.Tensor([47 58 66 57 55], shape=(5,), dtype=int32)\n",
            "A batch of targets:  tf.Tensor([0 0 1 0 1], shape=(5,), dtype=int32)\n"
          ],
          "name": "stdout"
        }
      ]
    },
    {
      "cell_type": "markdown",
      "metadata": {
        "id": "4P9oSgojNrCo",
        "colab_type": "text"
      },
      "source": [
        "### Demonstrate several types of feature column\n",
        "\n",
        "TensorFlow provides many types of feature columns. In this section, we will create several types of feature columns, and demonstrate how they transform a column from the dataframe."
      ]
    },
    {
      "cell_type": "code",
      "metadata": {
        "id": "KksY7xX-NzXB",
        "colab_type": "code",
        "colab": {}
      },
      "source": [
        "example_batch = next(iter(train_ds))[0]"
      ],
      "execution_count": 0,
      "outputs": []
    },
    {
      "cell_type": "code",
      "metadata": {
        "id": "u2N7PhYOOdwv",
        "colab_type": "code",
        "colab": {}
      },
      "source": [
        "def demo(feature_column):\n",
        "  feature_layer = layers.DenseFeatures(feature_column)\n",
        "  print(feature_layer(example_batch).numpy())"
      ],
      "execution_count": 0,
      "outputs": []
    },
    {
      "cell_type": "markdown",
      "metadata": {
        "id": "-HnnYuX7QgfK",
        "colab_type": "text"
      },
      "source": [
        "#### Numeric Columns"
      ]
    },
    {
      "cell_type": "code",
      "metadata": {
        "id": "tsiQytIKPc6U",
        "colab_type": "code",
        "colab": {
          "base_uri": "https://localhost:8080/",
          "height": 237
        },
        "outputId": "fe4973dd-62e5-4919-caa0-6c2bd1b4ac22"
      },
      "source": [
        "age = feature_column.numeric_column(\"age\")\n",
        "demo(age)"
      ],
      "execution_count": 32,
      "outputs": [
        {
          "output_type": "stream",
          "text": [
            "WARNING:tensorflow:Layer dense_features_8 is casting an input tensor from dtype float64 to the layer's dtype of float32, which is new behavior in TensorFlow 2.  The layer has dtype float32 because it's dtype defaults to floatx.\n",
            "\n",
            "If you intended to run this layer in float32, you can safely ignore this warning. If in doubt, this warning is likely only an issue if you are porting a TensorFlow 1.X model to TensorFlow 2.\n",
            "\n",
            "To change all layers to have dtype float64 by default, call `tf.keras.backend.set_floatx('float64')`. To change just this layer, pass dtype='float64' to the layer constructor. If you are the author of this layer, you can disable autocasting by passing autocast=False to the base Layer constructor.\n",
            "\n",
            "[[53.]\n",
            " [60.]\n",
            " [60.]\n",
            " [55.]\n",
            " [45.]]\n"
          ],
          "name": "stdout"
        }
      ]
    },
    {
      "cell_type": "markdown",
      "metadata": {
        "id": "2S0Y-ircQmJL",
        "colab_type": "text"
      },
      "source": [
        "#### Bucketized Columns"
      ]
    },
    {
      "cell_type": "code",
      "metadata": {
        "id": "9OxlWGEYQEVN",
        "colab_type": "code",
        "colab": {
          "base_uri": "https://localhost:8080/",
          "height": 237
        },
        "outputId": "6d10bb24-d7bf-4467-a414-6b7bbb4c28d2"
      },
      "source": [
        "age_buckets = feature_column.bucketized_column(age, boundaries=[18, 25, 30, 35, 40, 45, 50, 55, 60, 65])\n",
        "demo(age_buckets)"
      ],
      "execution_count": 33,
      "outputs": [
        {
          "output_type": "stream",
          "text": [
            "WARNING:tensorflow:Layer dense_features_9 is casting an input tensor from dtype float64 to the layer's dtype of float32, which is new behavior in TensorFlow 2.  The layer has dtype float32 because it's dtype defaults to floatx.\n",
            "\n",
            "If you intended to run this layer in float32, you can safely ignore this warning. If in doubt, this warning is likely only an issue if you are porting a TensorFlow 1.X model to TensorFlow 2.\n",
            "\n",
            "To change all layers to have dtype float64 by default, call `tf.keras.backend.set_floatx('float64')`. To change just this layer, pass dtype='float64' to the layer constructor. If you are the author of this layer, you can disable autocasting by passing autocast=False to the base Layer constructor.\n",
            "\n",
            "[[0. 0. 0. 0. 0. 0. 0. 1. 0. 0. 0.]\n",
            " [0. 0. 0. 0. 0. 0. 0. 0. 0. 1. 0.]\n",
            " [0. 0. 0. 0. 0. 0. 0. 0. 0. 1. 0.]\n",
            " [0. 0. 0. 0. 0. 0. 0. 0. 1. 0. 0.]\n",
            " [0. 0. 0. 0. 0. 0. 1. 0. 0. 0. 0.]]\n"
          ],
          "name": "stdout"
        }
      ]
    },
    {
      "cell_type": "markdown",
      "metadata": {
        "id": "8U8FPpLUQQ8y",
        "colab_type": "text"
      },
      "source": [
        "#### Categorical Columns"
      ]
    },
    {
      "cell_type": "code",
      "metadata": {
        "id": "7P1kFW4cQxIx",
        "colab_type": "code",
        "colab": {
          "base_uri": "https://localhost:8080/",
          "height": 237
        },
        "outputId": "94693642-7d6d-4a96-cb1c-fd204ff46625"
      },
      "source": [
        "thal = feature_column.categorical_column_with_vocabulary_list(\n",
        "    'thal', ['fixed','normal','reversible']\n",
        ")\n",
        "\n",
        "thal_one_hot = feature_column.indicator_column(thal)\n",
        "\n",
        "demo(thal_one_hot)"
      ],
      "execution_count": 34,
      "outputs": [
        {
          "output_type": "stream",
          "text": [
            "WARNING:tensorflow:Layer dense_features_10 is casting an input tensor from dtype float64 to the layer's dtype of float32, which is new behavior in TensorFlow 2.  The layer has dtype float32 because it's dtype defaults to floatx.\n",
            "\n",
            "If you intended to run this layer in float32, you can safely ignore this warning. If in doubt, this warning is likely only an issue if you are porting a TensorFlow 1.X model to TensorFlow 2.\n",
            "\n",
            "To change all layers to have dtype float64 by default, call `tf.keras.backend.set_floatx('float64')`. To change just this layer, pass dtype='float64' to the layer constructor. If you are the author of this layer, you can disable autocasting by passing autocast=False to the base Layer constructor.\n",
            "\n",
            "[[0. 1. 0.]\n",
            " [0. 0. 1.]\n",
            " [0. 0. 1.]\n",
            " [0. 1. 0.]\n",
            " [0. 1. 0.]]\n"
          ],
          "name": "stdout"
        }
      ]
    },
    {
      "cell_type": "markdown",
      "metadata": {
        "id": "1iRgeTZFRIgH",
        "colab_type": "text"
      },
      "source": [
        "#### Embedding Column"
      ]
    },
    {
      "cell_type": "code",
      "metadata": {
        "id": "MMEEXbysRljq",
        "colab_type": "code",
        "colab": {
          "base_uri": "https://localhost:8080/",
          "height": 328
        },
        "outputId": "57479f08-f8e9-4666-9176-0ee3aa668abb"
      },
      "source": [
        "thal_embedding = feature_column.embedding_column(thal,dimension=8)\n",
        "demo(thal_embedding)"
      ],
      "execution_count": 35,
      "outputs": [
        {
          "output_type": "stream",
          "text": [
            "WARNING:tensorflow:Layer dense_features_11 is casting an input tensor from dtype float64 to the layer's dtype of float32, which is new behavior in TensorFlow 2.  The layer has dtype float32 because it's dtype defaults to floatx.\n",
            "\n",
            "If you intended to run this layer in float32, you can safely ignore this warning. If in doubt, this warning is likely only an issue if you are porting a TensorFlow 1.X model to TensorFlow 2.\n",
            "\n",
            "To change all layers to have dtype float64 by default, call `tf.keras.backend.set_floatx('float64')`. To change just this layer, pass dtype='float64' to the layer constructor. If you are the author of this layer, you can disable autocasting by passing autocast=False to the base Layer constructor.\n",
            "\n",
            "[[-0.28617078 -0.14616257 -0.12368241  0.34870052 -0.2601373   0.13955751\n",
            "   0.0818194   0.43073538]\n",
            " [ 0.04227022 -0.32203916 -0.32008475  0.22142597 -0.42924896  0.18498752\n",
            "  -0.49550173  0.46264482]\n",
            " [ 0.04227022 -0.32203916 -0.32008475  0.22142597 -0.42924896  0.18498752\n",
            "  -0.49550173  0.46264482]\n",
            " [-0.28617078 -0.14616257 -0.12368241  0.34870052 -0.2601373   0.13955751\n",
            "   0.0818194   0.43073538]\n",
            " [-0.28617078 -0.14616257 -0.12368241  0.34870052 -0.2601373   0.13955751\n",
            "   0.0818194   0.43073538]]\n"
          ],
          "name": "stdout"
        }
      ]
    },
    {
      "cell_type": "markdown",
      "metadata": {
        "id": "ZqTZSEMbRymU",
        "colab_type": "text"
      },
      "source": [
        "#### Hashed feature column"
      ]
    },
    {
      "cell_type": "code",
      "metadata": {
        "id": "_tAXZg53R7fh",
        "colab_type": "code",
        "colab": {
          "base_uri": "https://localhost:8080/",
          "height": 237
        },
        "outputId": "b2683977-f9ee-45e9-bbf1-59c56d0d0de9"
      },
      "source": [
        "thal_hashed = feature_column.categorical_column_with_hash_bucket(\n",
        "    'thal', hash_bucket_size=1000\n",
        ")\n",
        "demo(feature_column.indicator_column(thal_hashed))"
      ],
      "execution_count": 36,
      "outputs": [
        {
          "output_type": "stream",
          "text": [
            "WARNING:tensorflow:Layer dense_features_12 is casting an input tensor from dtype float64 to the layer's dtype of float32, which is new behavior in TensorFlow 2.  The layer has dtype float32 because it's dtype defaults to floatx.\n",
            "\n",
            "If you intended to run this layer in float32, you can safely ignore this warning. If in doubt, this warning is likely only an issue if you are porting a TensorFlow 1.X model to TensorFlow 2.\n",
            "\n",
            "To change all layers to have dtype float64 by default, call `tf.keras.backend.set_floatx('float64')`. To change just this layer, pass dtype='float64' to the layer constructor. If you are the author of this layer, you can disable autocasting by passing autocast=False to the base Layer constructor.\n",
            "\n",
            "[[0. 0. 0. ... 0. 0. 0.]\n",
            " [0. 0. 0. ... 0. 0. 0.]\n",
            " [0. 0. 0. ... 0. 0. 0.]\n",
            " [0. 0. 0. ... 0. 0. 0.]\n",
            " [0. 0. 0. ... 0. 0. 0.]]\n"
          ],
          "name": "stdout"
        }
      ]
    },
    {
      "cell_type": "markdown",
      "metadata": {
        "id": "1XauTxxxSp61",
        "colab_type": "text"
      },
      "source": [
        "#### Crossed feature column"
      ]
    },
    {
      "cell_type": "code",
      "metadata": {
        "id": "PpbslqKtSvWK",
        "colab_type": "code",
        "colab": {
          "base_uri": "https://localhost:8080/",
          "height": 237
        },
        "outputId": "1fc0359f-437c-44fa-daec-ba46cd6c6eb4"
      },
      "source": [
        "crossed_feature = feature_column.crossed_column([age_buckets, thal], hash_bucket_size=1000)\n",
        "demo(feature_column.indicator_column(crossed_feature))"
      ],
      "execution_count": 37,
      "outputs": [
        {
          "output_type": "stream",
          "text": [
            "WARNING:tensorflow:Layer dense_features_13 is casting an input tensor from dtype float64 to the layer's dtype of float32, which is new behavior in TensorFlow 2.  The layer has dtype float32 because it's dtype defaults to floatx.\n",
            "\n",
            "If you intended to run this layer in float32, you can safely ignore this warning. If in doubt, this warning is likely only an issue if you are porting a TensorFlow 1.X model to TensorFlow 2.\n",
            "\n",
            "To change all layers to have dtype float64 by default, call `tf.keras.backend.set_floatx('float64')`. To change just this layer, pass dtype='float64' to the layer constructor. If you are the author of this layer, you can disable autocasting by passing autocast=False to the base Layer constructor.\n",
            "\n",
            "[[0. 0. 0. ... 0. 0. 0.]\n",
            " [0. 0. 0. ... 0. 0. 0.]\n",
            " [0. 0. 0. ... 0. 0. 0.]\n",
            " [0. 0. 0. ... 0. 0. 0.]\n",
            " [0. 0. 0. ... 0. 0. 0.]]\n"
          ],
          "name": "stdout"
        }
      ]
    },
    {
      "cell_type": "markdown",
      "metadata": {
        "id": "kPy4-GTqTD4j",
        "colab_type": "text"
      },
      "source": [
        "### Choosing columns to use"
      ]
    },
    {
      "cell_type": "markdown",
      "metadata": {
        "id": "03WIF4Z5TWTX",
        "colab_type": "text"
      },
      "source": [
        "We have seen how to use several types of feature columns. Now we will use them to train a model. The goal of this tutorial is to show you the complete code (e.g. mechanics) needed to work with feature columns. We have selected a few columns to train our model below arbitrarily.\n",
        "\n",
        "Key point: If your aim is to build an accurate model, try a larger dataset of your own, and think carefully about which features are the most meaningful to include, and how they should be represented."
      ]
    },
    {
      "cell_type": "code",
      "metadata": {
        "id": "IE-hGc86Tdjx",
        "colab_type": "code",
        "colab": {}
      },
      "source": [
        "feature_columns = []\n",
        "\n",
        "for header in ['age', 'trestbps', 'chol', 'thalach', 'oldpeak', 'slope', 'ca']:\n",
        "  feature_columns.append(feature_column.numeric_column(header))"
      ],
      "execution_count": 0,
      "outputs": []
    },
    {
      "cell_type": "code",
      "metadata": {
        "id": "QiG_TI6IT6nj",
        "colab_type": "code",
        "colab": {
          "base_uri": "https://localhost:8080/",
          "height": 145
        },
        "outputId": "1404362d-c569-42c2-fa6f-8af7fa7ff627"
      },
      "source": [
        "feature_columns"
      ],
      "execution_count": 39,
      "outputs": [
        {
          "output_type": "execute_result",
          "data": {
            "text/plain": [
              "[NumericColumn(key='age', shape=(1,), default_value=None, dtype=tf.float32, normalizer_fn=None),\n",
              " NumericColumn(key='trestbps', shape=(1,), default_value=None, dtype=tf.float32, normalizer_fn=None),\n",
              " NumericColumn(key='chol', shape=(1,), default_value=None, dtype=tf.float32, normalizer_fn=None),\n",
              " NumericColumn(key='thalach', shape=(1,), default_value=None, dtype=tf.float32, normalizer_fn=None),\n",
              " NumericColumn(key='oldpeak', shape=(1,), default_value=None, dtype=tf.float32, normalizer_fn=None),\n",
              " NumericColumn(key='slope', shape=(1,), default_value=None, dtype=tf.float32, normalizer_fn=None),\n",
              " NumericColumn(key='ca', shape=(1,), default_value=None, dtype=tf.float32, normalizer_fn=None)]"
            ]
          },
          "metadata": {
            "tags": []
          },
          "execution_count": 39
        }
      ]
    },
    {
      "cell_type": "code",
      "metadata": {
        "id": "jGpr8OFUT914",
        "colab_type": "code",
        "colab": {}
      },
      "source": [
        "age_buckets = feature_column.bucketized_column(age, boundaries=[10,25,35,40,50,55,60,65])\n",
        "feature_columns.append(age_buckets)\n",
        "\n",
        "thal = feature_column.categorical_column_with_vocabulary_list(\n",
        "    'thal', ['fixed','normal','reversible']\n",
        ")\n",
        "thal_one_hot = feature_column.indicator_column(thal)\n",
        "feature_columns.append(thal_one_hot)\n",
        "\n",
        "thal_embedding = feature_column.embedding_column(thal, dimension=8)\n",
        "feature_columns.append(thal_embedding)\n",
        "\n",
        "crossed_feature = feature_column.crossed_column([age_buckets, thal],hash_bucket_size=1000)\n",
        "crossed_feature = feature_column.indicator_column(crossed_feature)\n",
        "feature_columns.append(crossed_feature)"
      ],
      "execution_count": 0,
      "outputs": []
    },
    {
      "cell_type": "code",
      "metadata": {
        "id": "IVi2xvjVVWi3",
        "colab_type": "code",
        "colab": {
          "base_uri": "https://localhost:8080/",
          "height": 237
        },
        "outputId": "18367a75-fc9f-42ae-a16a-565c818d23ff"
      },
      "source": [
        "feature_columns"
      ],
      "execution_count": 41,
      "outputs": [
        {
          "output_type": "execute_result",
          "data": {
            "text/plain": [
              "[NumericColumn(key='age', shape=(1,), default_value=None, dtype=tf.float32, normalizer_fn=None),\n",
              " NumericColumn(key='trestbps', shape=(1,), default_value=None, dtype=tf.float32, normalizer_fn=None),\n",
              " NumericColumn(key='chol', shape=(1,), default_value=None, dtype=tf.float32, normalizer_fn=None),\n",
              " NumericColumn(key='thalach', shape=(1,), default_value=None, dtype=tf.float32, normalizer_fn=None),\n",
              " NumericColumn(key='oldpeak', shape=(1,), default_value=None, dtype=tf.float32, normalizer_fn=None),\n",
              " NumericColumn(key='slope', shape=(1,), default_value=None, dtype=tf.float32, normalizer_fn=None),\n",
              " NumericColumn(key='ca', shape=(1,), default_value=None, dtype=tf.float32, normalizer_fn=None),\n",
              " BucketizedColumn(source_column=NumericColumn(key='age', shape=(1,), default_value=None, dtype=tf.float32, normalizer_fn=None), boundaries=(10, 25, 35, 40, 50, 55, 60, 65)),\n",
              " IndicatorColumn(categorical_column=VocabularyListCategoricalColumn(key='thal', vocabulary_list=('fixed', 'normal', 'reversible'), dtype=tf.string, default_value=-1, num_oov_buckets=0)),\n",
              " EmbeddingColumn(categorical_column=VocabularyListCategoricalColumn(key='thal', vocabulary_list=('fixed', 'normal', 'reversible'), dtype=tf.string, default_value=-1, num_oov_buckets=0), dimension=8, combiner='mean', initializer=<tensorflow.python.ops.init_ops.TruncatedNormal object at 0x7f3a0d041128>, ckpt_to_load_from=None, tensor_name_in_ckpt=None, max_norm=None, trainable=True),\n",
              " IndicatorColumn(categorical_column=CrossedColumn(keys=(BucketizedColumn(source_column=NumericColumn(key='age', shape=(1,), default_value=None, dtype=tf.float32, normalizer_fn=None), boundaries=(10, 25, 35, 40, 50, 55, 60, 65)), VocabularyListCategoricalColumn(key='thal', vocabulary_list=('fixed', 'normal', 'reversible'), dtype=tf.string, default_value=-1, num_oov_buckets=0)), hash_bucket_size=1000, hash_key=None))]"
            ]
          },
          "metadata": {
            "tags": []
          },
          "execution_count": 41
        }
      ]
    },
    {
      "cell_type": "code",
      "metadata": {
        "id": "HkwhS_XdVcvm",
        "colab_type": "code",
        "colab": {}
      },
      "source": [
        "feature_layer = tf.keras.layers.DenseFeatures(feature_columns)"
      ],
      "execution_count": 0,
      "outputs": []
    },
    {
      "cell_type": "code",
      "metadata": {
        "id": "pQGZp7eTVlPI",
        "colab_type": "code",
        "colab": {}
      },
      "source": [
        "batch_size = 32\n",
        "train_ds = df_to_dataset(train, batch_size=batch_size)\n",
        "val_ds = df_to_dataset(val, shuffle=False, batch_size=batch_size)\n",
        "test_ds = df_to_dataset(test, shuffle=False, batch_size=batch_size)"
      ],
      "execution_count": 0,
      "outputs": []
    },
    {
      "cell_type": "code",
      "metadata": {
        "id": "h5QoHLbBVr49",
        "colab_type": "code",
        "colab": {
          "base_uri": "https://localhost:8080/",
          "height": 237
        },
        "outputId": "9aef1e41-380e-4332-800e-81f88f461e9c"
      },
      "source": [
        "demo(feature_columns)"
      ],
      "execution_count": 44,
      "outputs": [
        {
          "output_type": "stream",
          "text": [
            "WARNING:tensorflow:Layer dense_features_15 is casting an input tensor from dtype float64 to the layer's dtype of float32, which is new behavior in TensorFlow 2.  The layer has dtype float32 because it's dtype defaults to floatx.\n",
            "\n",
            "If you intended to run this layer in float32, you can safely ignore this warning. If in doubt, this warning is likely only an issue if you are porting a TensorFlow 1.X model to TensorFlow 2.\n",
            "\n",
            "To change all layers to have dtype float64 by default, call `tf.keras.backend.set_floatx('float64')`. To change just this layer, pass dtype='float64' to the layer constructor. If you are the author of this layer, you can disable autocasting by passing autocast=False to the base Layer constructor.\n",
            "\n",
            "[[ 53.   0.   0. ...   0. 152. 130.]\n",
            " [ 60.   0.   0. ...   1. 157. 150.]\n",
            " [ 60.   0.   0. ...   1. 132. 130.]\n",
            " [ 55.   0.   0. ...   0. 117. 180.]\n",
            " [ 45.   0.   0. ...   0. 152. 138.]]\n"
          ],
          "name": "stdout"
        }
      ]
    },
    {
      "cell_type": "code",
      "metadata": {
        "id": "a10j_oaLWQpb",
        "colab_type": "code",
        "colab": {
          "base_uri": "https://localhost:8080/",
          "height": 1000
        },
        "outputId": "bbb3897d-261d-4082-e612-52871cc28d0c"
      },
      "source": [
        "model = tf.keras.Sequential([\n",
        "                            feature_layer,\n",
        "                            layers.Dense(256, activation=\"relu\",kernel_initializer=\"glorot_uniform\"),\n",
        "                            layers.Dropout(0.2),\n",
        "                            layers.BatchNormalization(),\n",
        "                            layers.Dense(128, activation=\"relu\",kernel_initializer=\"glorot_uniform\"),\n",
        "                            layers.Dropout(0.2),\n",
        "                            layers.BatchNormalization(),\n",
        "                            layers.Dense(64, activation=\"relu\",kernel_initializer=\"glorot_uniform\"),\n",
        "                            layers.Dropout(0.2),\n",
        "                            layers.Dense(1, activation=\"sigmoid\")\n",
        "])\n",
        "\n",
        "model.compile(optimizer=\"adam\",\n",
        "              loss='binary_crossentropy',\n",
        "              metrics=[\"accuracy\"],\n",
        "              run_eagerly=True)\n",
        "\n",
        "reduce_lr_plateau = tf.keras.callbacks.ReduceLROnPlateau(mode=\"auto\",verbose=1,patience=2,monitor=\"val_loss\",factor=0.5)\n",
        "checkpoint = tf.keras.callbacks.ModelCheckpoint(\"model_classify.h5\",verbose=1,save_best_only=True,mode=\"auto\",monitor=\"val_loss\")\n",
        "early_stopping = tf.keras.callbacks.EarlyStopping(mode=\"auto\",patience=15,verbose=1,monitor=\"val_loss\")\n",
        "\n",
        "history = model.fit(train_ds, validation_data=val_ds,epochs=50,callbacks=[reduce_lr_plateau, checkpoint, early_stopping])"
      ],
      "execution_count": 49,
      "outputs": [
        {
          "output_type": "stream",
          "text": [
            "WARNING:tensorflow:Layer sequential_1 is casting an input tensor from dtype float64 to the layer's dtype of float32, which is new behavior in TensorFlow 2.  The layer has dtype float32 because it's dtype defaults to floatx.\n",
            "\n",
            "If you intended to run this layer in float32, you can safely ignore this warning. If in doubt, this warning is likely only an issue if you are porting a TensorFlow 1.X model to TensorFlow 2.\n",
            "\n",
            "To change all layers to have dtype float64 by default, call `tf.keras.backend.set_floatx('float64')`. To change just this layer, pass dtype='float64' to the layer constructor. If you are the author of this layer, you can disable autocasting by passing autocast=False to the base Layer constructor.\n",
            "\n",
            "Epoch 1/50\n",
            "      7/Unknown - 1s 87ms/step - loss: 0.6952 - accuracy: 0.7150\n",
            "Epoch 00001: val_loss improved from inf to 1.30305, saving model to model_classify.h5\n",
            "7/7 [==============================] - 1s 108ms/step - loss: 0.6952 - accuracy: 0.7150 - val_loss: 0.0000e+00 - val_accuracy: 0.0000e+00\n",
            "Epoch 2/50\n",
            "6/7 [========================>.....] - ETA: 0s - loss: 0.6364 - accuracy: 0.6927\n",
            "Epoch 00002: val_loss improved from 1.30305 to 1.10103, saving model to model_classify.h5\n",
            "7/7 [==============================] - 1s 99ms/step - loss: 0.6365 - accuracy: 0.6891 - val_loss: 1.1010 - val_accuracy: 0.6939\n",
            "Epoch 3/50\n",
            "6/7 [========================>.....] - ETA: 0s - loss: 0.5930 - accuracy: 0.7031\n",
            "Epoch 00003: val_loss improved from 1.10103 to 0.97041, saving model to model_classify.h5\n",
            "7/7 [==============================] - 1s 101ms/step - loss: 0.5931 - accuracy: 0.6995 - val_loss: 0.9704 - val_accuracy: 0.6939\n",
            "Epoch 4/50\n",
            "6/7 [========================>.....] - ETA: 0s - loss: 0.5832 - accuracy: 0.7396\n",
            "Epoch 00004: val_loss improved from 0.97041 to 0.92470, saving model to model_classify.h5\n",
            "7/7 [==============================] - 1s 96ms/step - loss: 0.5833 - accuracy: 0.7409 - val_loss: 0.9247 - val_accuracy: 0.6939\n",
            "Epoch 5/50\n",
            "6/7 [========================>.....] - ETA: 0s - loss: 0.5302 - accuracy: 0.7344\n",
            "Epoch 00005: val_loss improved from 0.92470 to 0.86286, saving model to model_classify.h5\n",
            "7/7 [==============================] - 1s 98ms/step - loss: 0.5303 - accuracy: 0.7306 - val_loss: 0.8629 - val_accuracy: 0.6939\n",
            "Epoch 6/50\n",
            "6/7 [========================>.....] - ETA: 0s - loss: 0.5602 - accuracy: 0.7135\n",
            "Epoch 00006: val_loss improved from 0.86286 to 0.82912, saving model to model_classify.h5\n",
            "7/7 [==============================] - 1s 93ms/step - loss: 0.5603 - accuracy: 0.7098 - val_loss: 0.8291 - val_accuracy: 0.6939\n",
            "Epoch 7/50\n",
            "6/7 [========================>.....] - ETA: 0s - loss: 0.5310 - accuracy: 0.7396\n",
            "Epoch 00007: val_loss improved from 0.82912 to 0.80482, saving model to model_classify.h5\n",
            "7/7 [==============================] - 1s 94ms/step - loss: 0.5312 - accuracy: 0.7358 - val_loss: 0.8048 - val_accuracy: 0.6939\n",
            "Epoch 8/50\n",
            "6/7 [========================>.....] - ETA: 0s - loss: 0.5298 - accuracy: 0.7344\n",
            "Epoch 00008: val_loss improved from 0.80482 to 0.80408, saving model to model_classify.h5\n",
            "7/7 [==============================] - 1s 95ms/step - loss: 0.5299 - accuracy: 0.7306 - val_loss: 0.8041 - val_accuracy: 0.6939\n",
            "Epoch 9/50\n",
            "6/7 [========================>.....] - ETA: 0s - loss: 0.4846 - accuracy: 0.7552\n",
            "Epoch 00009: val_loss did not improve from 0.80408\n",
            "7/7 [==============================] - 1s 89ms/step - loss: 0.4848 - accuracy: 0.7513 - val_loss: 0.8188 - val_accuracy: 0.6939\n",
            "Epoch 10/50\n",
            "6/7 [========================>.....] - ETA: 0s - loss: 0.5430 - accuracy: 0.7500\n",
            "Epoch 00010: val_loss improved from 0.80408 to 0.72656, saving model to model_classify.h5\n",
            "7/7 [==============================] - 1s 91ms/step - loss: 0.5431 - accuracy: 0.7513 - val_loss: 0.7266 - val_accuracy: 0.6939\n",
            "Epoch 11/50\n",
            "6/7 [========================>.....] - ETA: 0s - loss: 0.4985 - accuracy: 0.7552\n",
            "Epoch 00011: val_loss improved from 0.72656 to 0.61968, saving model to model_classify.h5\n",
            "7/7 [==============================] - 1s 94ms/step - loss: 0.4986 - accuracy: 0.7565 - val_loss: 0.6197 - val_accuracy: 0.6939\n",
            "Epoch 12/50\n",
            "6/7 [========================>.....] - ETA: 0s - loss: 0.5062 - accuracy: 0.7500\n",
            "Epoch 00012: val_loss improved from 0.61968 to 0.48880, saving model to model_classify.h5\n",
            "7/7 [==============================] - 1s 100ms/step - loss: 0.5063 - accuracy: 0.7513 - val_loss: 0.4888 - val_accuracy: 0.6939\n",
            "Epoch 13/50\n",
            "6/7 [========================>.....] - ETA: 0s - loss: 0.5359 - accuracy: 0.7656\n",
            "Epoch 00013: val_loss improved from 0.48880 to 0.40230, saving model to model_classify.h5\n",
            "7/7 [==============================] - 1s 95ms/step - loss: 0.5360 - accuracy: 0.7617 - val_loss: 0.4023 - val_accuracy: 0.7551\n",
            "Epoch 14/50\n",
            "6/7 [========================>.....] - ETA: 0s - loss: 0.5545 - accuracy: 0.7292\n",
            "Epoch 00014: val_loss improved from 0.40230 to 0.38975, saving model to model_classify.h5\n",
            "7/7 [==============================] - 1s 92ms/step - loss: 0.5546 - accuracy: 0.7254 - val_loss: 0.3897 - val_accuracy: 0.8163\n",
            "Epoch 15/50\n",
            "6/7 [========================>.....] - ETA: 0s - loss: 0.5191 - accuracy: 0.7344\n",
            "Epoch 00015: val_loss did not improve from 0.38975\n",
            "7/7 [==============================] - 1s 88ms/step - loss: 0.5192 - accuracy: 0.7358 - val_loss: 0.3902 - val_accuracy: 0.8163\n",
            "Epoch 16/50\n",
            "6/7 [========================>.....] - ETA: 0s - loss: 0.5361 - accuracy: 0.7344\n",
            "Epoch 00016: ReduceLROnPlateau reducing learning rate to 0.0005000000237487257.\n",
            "\n",
            "Epoch 00016: val_loss did not improve from 0.38975\n",
            "7/7 [==============================] - 1s 99ms/step - loss: 0.5362 - accuracy: 0.7358 - val_loss: 0.3901 - val_accuracy: 0.7959\n",
            "Epoch 17/50\n",
            "6/7 [========================>.....] - ETA: 0s - loss: 0.4938 - accuracy: 0.7500\n",
            "Epoch 00017: val_loss improved from 0.38975 to 0.38965, saving model to model_classify.h5\n",
            "7/7 [==============================] - 1s 107ms/step - loss: 0.4939 - accuracy: 0.7513 - val_loss: 0.3897 - val_accuracy: 0.7959\n",
            "Epoch 18/50\n",
            "6/7 [========================>.....] - ETA: 0s - loss: 0.5219 - accuracy: 0.7344\n",
            "Epoch 00018: ReduceLROnPlateau reducing learning rate to 0.0002500000118743628.\n",
            "\n",
            "Epoch 00018: val_loss did not improve from 0.38965\n",
            "7/7 [==============================] - 1s 89ms/step - loss: 0.5221 - accuracy: 0.7306 - val_loss: 0.3903 - val_accuracy: 0.7959\n",
            "Epoch 19/50\n",
            "6/7 [========================>.....] - ETA: 0s - loss: 0.5352 - accuracy: 0.6979\n",
            "Epoch 00019: val_loss did not improve from 0.38965\n",
            "7/7 [==============================] - 1s 95ms/step - loss: 0.5354 - accuracy: 0.6943 - val_loss: 0.3942 - val_accuracy: 0.7959\n",
            "Epoch 20/50\n",
            "6/7 [========================>.....] - ETA: 0s - loss: 0.4795 - accuracy: 0.7656\n",
            "Epoch 00020: ReduceLROnPlateau reducing learning rate to 0.0001250000059371814.\n",
            "\n",
            "Epoch 00020: val_loss did not improve from 0.38965\n",
            "7/7 [==============================] - 1s 104ms/step - loss: 0.4796 - accuracy: 0.7668 - val_loss: 0.3913 - val_accuracy: 0.7959\n",
            "Epoch 21/50\n",
            "6/7 [========================>.....] - ETA: 0s - loss: 0.4693 - accuracy: 0.7344\n",
            "Epoch 00021: val_loss did not improve from 0.38965\n",
            "7/7 [==============================] - 1s 114ms/step - loss: 0.4694 - accuracy: 0.7358 - val_loss: 0.3912 - val_accuracy: 0.7551\n",
            "Epoch 22/50\n",
            "6/7 [========================>.....] - ETA: 0s - loss: 0.5074 - accuracy: 0.7292\n",
            "Epoch 00022: ReduceLROnPlateau reducing learning rate to 6.25000029685907e-05.\n",
            "\n",
            "Epoch 00022: val_loss did not improve from 0.38965\n",
            "7/7 [==============================] - 1s 115ms/step - loss: 0.5075 - accuracy: 0.7306 - val_loss: 0.3905 - val_accuracy: 0.7551\n",
            "Epoch 23/50\n",
            "6/7 [========================>.....] - ETA: 0s - loss: 0.4788 - accuracy: 0.7552\n",
            "Epoch 00023: val_loss did not improve from 0.38965\n",
            "7/7 [==============================] - 1s 108ms/step - loss: 0.4790 - accuracy: 0.7565 - val_loss: 0.3912 - val_accuracy: 0.7755\n",
            "Epoch 24/50\n",
            "6/7 [========================>.....] - ETA: 0s - loss: 0.4616 - accuracy: 0.7812\n",
            "Epoch 00024: ReduceLROnPlateau reducing learning rate to 3.125000148429535e-05.\n",
            "\n",
            "Epoch 00024: val_loss did not improve from 0.38965\n",
            "7/7 [==============================] - 1s 104ms/step - loss: 0.4618 - accuracy: 0.7824 - val_loss: 0.3936 - val_accuracy: 0.7755\n",
            "Epoch 25/50\n",
            "6/7 [========================>.....] - ETA: 0s - loss: 0.5491 - accuracy: 0.7240\n",
            "Epoch 00025: val_loss did not improve from 0.38965\n",
            "7/7 [==============================] - 1s 114ms/step - loss: 0.5492 - accuracy: 0.7254 - val_loss: 0.3968 - val_accuracy: 0.7551\n",
            "Epoch 26/50\n",
            "6/7 [========================>.....] - ETA: 0s - loss: 0.4775 - accuracy: 0.7188\n",
            "Epoch 00026: ReduceLROnPlateau reducing learning rate to 1.5625000742147677e-05.\n",
            "\n",
            "Epoch 00026: val_loss did not improve from 0.38965\n",
            "7/7 [==============================] - 1s 112ms/step - loss: 0.4776 - accuracy: 0.7202 - val_loss: 0.3989 - val_accuracy: 0.7551\n",
            "Epoch 27/50\n",
            "6/7 [========================>.....] - ETA: 0s - loss: 0.4529 - accuracy: 0.7812\n",
            "Epoch 00027: val_loss did not improve from 0.38965\n",
            "7/7 [==============================] - 1s 110ms/step - loss: 0.4531 - accuracy: 0.7824 - val_loss: 0.3999 - val_accuracy: 0.7551\n",
            "Epoch 28/50\n",
            "6/7 [========================>.....] - ETA: 0s - loss: 0.4597 - accuracy: 0.7656\n",
            "Epoch 00028: ReduceLROnPlateau reducing learning rate to 7.812500371073838e-06.\n",
            "\n",
            "Epoch 00028: val_loss did not improve from 0.38965\n",
            "7/7 [==============================] - 1s 109ms/step - loss: 0.4599 - accuracy: 0.7668 - val_loss: 0.3987 - val_accuracy: 0.7755\n",
            "Epoch 29/50\n",
            "6/7 [========================>.....] - ETA: 0s - loss: 0.4573 - accuracy: 0.7812\n",
            "Epoch 00029: val_loss did not improve from 0.38965\n",
            "7/7 [==============================] - 1s 118ms/step - loss: 0.4574 - accuracy: 0.7824 - val_loss: 0.3980 - val_accuracy: 0.7755\n",
            "Epoch 30/50\n",
            "6/7 [========================>.....] - ETA: 0s - loss: 0.4875 - accuracy: 0.7292\n",
            "Epoch 00030: ReduceLROnPlateau reducing learning rate to 3.906250185536919e-06.\n",
            "\n",
            "Epoch 00030: val_loss did not improve from 0.38965\n",
            "7/7 [==============================] - 1s 110ms/step - loss: 0.4877 - accuracy: 0.7254 - val_loss: 0.3979 - val_accuracy: 0.7755\n",
            "Epoch 31/50\n",
            "6/7 [========================>.....] - ETA: 0s - loss: 0.4861 - accuracy: 0.7656\n",
            "Epoch 00031: val_loss did not improve from 0.38965\n",
            "7/7 [==============================] - 1s 120ms/step - loss: 0.4863 - accuracy: 0.7668 - val_loss: 0.3969 - val_accuracy: 0.7755\n",
            "Epoch 32/50\n",
            "6/7 [========================>.....] - ETA: 0s - loss: 0.5233 - accuracy: 0.7500\n",
            "Epoch 00032: ReduceLROnPlateau reducing learning rate to 1.9531250927684596e-06.\n",
            "\n",
            "Epoch 00032: val_loss did not improve from 0.38965\n",
            "7/7 [==============================] - 1s 114ms/step - loss: 0.5234 - accuracy: 0.7513 - val_loss: 0.3972 - val_accuracy: 0.7755\n",
            "Epoch 00032: early stopping\n"
          ],
          "name": "stdout"
        }
      ]
    },
    {
      "cell_type": "code",
      "metadata": {
        "id": "PgwToX6zYoDH",
        "colab_type": "code",
        "colab": {
          "base_uri": "https://localhost:8080/",
          "height": 72
        },
        "outputId": "c7c8b624-6b24-4462-9569-c29a91be9bf9"
      },
      "source": [
        "results = model.evaluate(test_ds)\n",
        "for value, result in zip(model.metrics_names,results):\n",
        "  print(\"%s:%.2f\"%(value, result))"
      ],
      "execution_count": 52,
      "outputs": [
        {
          "output_type": "stream",
          "text": [
            "2/2 [==============================] - 0s 46ms/step - loss: 0.5709 - accuracy: 0.6557\n",
            "loss:0.57\n",
            "accuracy:0.66\n"
          ],
          "name": "stdout"
        }
      ]
    },
    {
      "cell_type": "code",
      "metadata": {
        "id": "Lp1YtOHXZd9a",
        "colab_type": "code",
        "colab": {
          "base_uri": "https://localhost:8080/",
          "height": 138
        },
        "outputId": "c07d136f-eb58-408d-a609-987b0fc1b94d"
      },
      "source": [
        "history_df = pd.DataFrame(history.history)\n",
        "history_df[\"epochs\"] = history.epoch\n",
        "history_df.head(3)"
      ],
      "execution_count": 54,
      "outputs": [
        {
          "output_type": "execute_result",
          "data": {
            "text/html": [
              "<div>\n",
              "<style scoped>\n",
              "    .dataframe tbody tr th:only-of-type {\n",
              "        vertical-align: middle;\n",
              "    }\n",
              "\n",
              "    .dataframe tbody tr th {\n",
              "        vertical-align: top;\n",
              "    }\n",
              "\n",
              "    .dataframe thead th {\n",
              "        text-align: right;\n",
              "    }\n",
              "</style>\n",
              "<table border=\"1\" class=\"dataframe\">\n",
              "  <thead>\n",
              "    <tr style=\"text-align: right;\">\n",
              "      <th></th>\n",
              "      <th>loss</th>\n",
              "      <th>accuracy</th>\n",
              "      <th>val_loss</th>\n",
              "      <th>val_accuracy</th>\n",
              "      <th>lr</th>\n",
              "      <th>epochs</th>\n",
              "    </tr>\n",
              "  </thead>\n",
              "  <tbody>\n",
              "    <tr>\n",
              "      <th>0</th>\n",
              "      <td>0.697334</td>\n",
              "      <td>0.715026</td>\n",
              "      <td>1.303049</td>\n",
              "      <td>0.693878</td>\n",
              "      <td>0.001</td>\n",
              "      <td>0</td>\n",
              "    </tr>\n",
              "    <tr>\n",
              "      <th>1</th>\n",
              "      <td>0.636835</td>\n",
              "      <td>0.689119</td>\n",
              "      <td>1.101027</td>\n",
              "      <td>0.693878</td>\n",
              "      <td>0.001</td>\n",
              "      <td>1</td>\n",
              "    </tr>\n",
              "    <tr>\n",
              "      <th>2</th>\n",
              "      <td>0.593626</td>\n",
              "      <td>0.699482</td>\n",
              "      <td>0.970407</td>\n",
              "      <td>0.693878</td>\n",
              "      <td>0.001</td>\n",
              "      <td>2</td>\n",
              "    </tr>\n",
              "  </tbody>\n",
              "</table>\n",
              "</div>"
            ],
            "text/plain": [
              "       loss  accuracy  val_loss  val_accuracy     lr  epochs\n",
              "0  0.697334  0.715026  1.303049      0.693878  0.001       0\n",
              "1  0.636835  0.689119  1.101027      0.693878  0.001       1\n",
              "2  0.593626  0.699482  0.970407      0.693878  0.001       2"
            ]
          },
          "metadata": {
            "tags": []
          },
          "execution_count": 54
        }
      ]
    },
    {
      "cell_type": "code",
      "metadata": {
        "id": "2Hj2BnbXZ06-",
        "colab_type": "code",
        "colab": {}
      },
      "source": [
        "import matplotlib.pyplot as plt\n",
        "%matplotlib inline\n",
        "%config InlineBackend.figure_format = \"retina\"\n",
        "import seaborn as sns\n",
        "sns.set(rc={\"figure.figsize\":(12,10)})\n",
        "sns.set_style(\"whitegrid\")\n",
        "\n",
        "def plot(history):\n",
        "  plt.subplot(2,1,1)\n",
        "  plt.plot(history[\"epochs\"],history[\"loss\"],marker='o',label=\"training\")\n",
        "  plt.plot(history[\"epochs\"],history[\"val_loss\"],marker='o',label=\"validation\")\n",
        "  plt.xlabel(\"Epochs\")\n",
        "  plt.ylabel(\"Loss\")\n",
        "  plt.grid(True)\n",
        "  plt.legend()\n",
        "  plt.title(\"Loss Graph\")\n",
        "  plt.show()\n",
        "\n",
        "  plt.subplot(2,1,2)\n",
        "  plt.plot(history[\"epochs\"],history[\"accuracy\"],marker='o',label=\"training\")\n",
        "  plt.plot(history[\"epochs\"],history[\"val_accuracy\"],marker='o',label=\"validation\")\n",
        "  plt.xlabel(\"Epochs\")\n",
        "  plt.ylabel(\"Accuracy\")\n",
        "  plt.grid(True)\n",
        "  plt.legend()\n",
        "  plt.title(\"Accuracy Graph\")\n",
        "  plt.show()"
      ],
      "execution_count": 0,
      "outputs": []
    },
    {
      "cell_type": "code",
      "metadata": {
        "id": "CL7Y90znaeaE",
        "colab_type": "code",
        "colab": {
          "base_uri": "https://localhost:8080/",
          "height": 641
        },
        "outputId": "19c84ac3-e624-4b61-e983-cab80fdb1e06"
      },
      "source": [
        "plot(history_df)"
      ],
      "execution_count": 58,
      "outputs": [
        {
          "output_type": "display_data",
          "data": {
            "image/png": "[encoded data removed]",
            "text/plain": [
              "<Figure size 864x720 with 1 Axes>"
            ]
          },
          "metadata": {
            "tags": [],
            "image/png": {
              "width": 730,
              "height": 312
            }
          }
        },
        {
          "output_type": "display_data",
          "data": {
            "image/png": "[encoded data removed]",
            "text/plain": [
              "<Figure size 864x720 with 1 Axes>"
            ]
          },
          "metadata": {
            "tags": [],
            "image/png": {
              "width": 737,
              "height": 312
            }
          }
        }
      ]
    }
  ]
}